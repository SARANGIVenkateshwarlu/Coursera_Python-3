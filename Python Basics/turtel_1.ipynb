{
 "cells": [
  {
   "cell_type": "code",
   "execution_count": 1,
   "id": "e6c9c350-ee1d-4f07-8dd5-5b228936f0be",
   "metadata": {
    "tags": []
   },
   "outputs": [],
   "source": [
    "import turtle\n",
    "wn = turtle.Screen()\n",
    "\n",
    "amy = turtle.Turtle()\n",
    "amy.pencolor(\"Pink\")\n",
    "amy.right(170)\n",
    "\n",
    "colors = [\"Purple\", \"Yellow\", \"Orange\", \"Pink\", \"Orange\", \"Yellow\", \"Purple\", \"Orange\", \"Pink\", \"Pink\", \"Orange\", \"Yellow\", \"Purple\", \"Orange\", \"Purple\", \"Yellow\", \"Orange\", \"Pink\", \"Orange\", \"Purple\", \"Purple\", \"Yellow\", \"Orange\", \"Pink\", \"Orange\", \"Yellow\", \"Purple\", \"Yellow\"]\n",
    "\n",
    "\n",
    "for color in colors:\n",
    "    if amy.pencolor() == \"Purple\":\n",
    "        amy.forward(50)\n",
    "        amy.right(59)\n",
    "    elif amy.pencolor() == \"Yellow\":\n",
    "        amy.forward(65)\n",
    "        amy.left(98)\n",
    "    elif amy.pencolor() == \"Orange\":\n",
    "        amy.forward(30)\n",
    "        amy.left(60)\n",
    "    elif amy.pencolor() == \"Pink\":\n",
    "        amy.forward(50)\n",
    "        amy.right(57)\n",
    "\n",
    "    amy.pencolor(color)"
   ]
  },
  {
   "cell_type": "code",
   "execution_count": null,
   "id": "079d2903-aaa9-4d89-b294-088922109d82",
   "metadata": {},
   "outputs": [],
   "source": []
  }
 ],
 "metadata": {
  "kernelspec": {
   "display_name": "Python 3 (ipykernel)",
   "language": "python",
   "name": "python3"
  },
  "language_info": {
   "codemirror_mode": {
    "name": "ipython",
    "version": 3
   },
   "file_extension": ".py",
   "mimetype": "text/x-python",
   "name": "python",
   "nbconvert_exporter": "python",
   "pygments_lexer": "ipython3",
   "version": "3.11.5"
  }
 },
 "nbformat": 4,
 "nbformat_minor": 5
}
