{
 "cells": [
  {
   "cell_type": "markdown",
   "id": "295400b8",
   "metadata": {},
   "source": [
    "### Advanced Functions"
   ]
  },
  {
   "cell_type": "code",
   "execution_count": 6,
   "id": "715d3e2c",
   "metadata": {},
   "outputs": [
    {
     "name": "stdout",
     "output_type": "stream",
     "text": [
      "x, y, z, are: 1, 3, 7\n",
      "x, y, z, are: 2, 4, 7\n",
      "x, y, z, are: 4, 5, 6\n"
     ]
    }
   ],
   "source": [
    "# function and optional parameter\n",
    "\n",
    "initial = 7\n",
    "def f(x, y =3, z=initial):\n",
    "\t    print(\"x, y, z, are: \" + str(x) + \", \" + str(y) + \", \" + str(z))\n",
    "\t\n",
    "f(1)\n",
    "f(2, 4)\n",
    "f(4, 5, 6)"
   ]
  },
  {
   "cell_type": "code",
   "execution_count": null,
   "id": "c65bd59f",
   "metadata": {},
   "outputs": [
    {
     "name": "stdout",
     "output_type": "stream",
     "text": [
      "0\n"
     ]
    }
   ],
   "source": [
    "#What will the following code print?\n",
    "def f(x = 0, y = 1):\n",
    "    return x * y\n",
    "\n",
    "print(f())"
   ]
  },
  {
   "cell_type": "code",
   "execution_count": null,
   "id": "f0625c12",
   "metadata": {},
   "outputs": [
    {
     "name": "stdout",
     "output_type": "stream",
     "text": [
      "6\n"
     ]
    }
   ],
   "source": [
    "#What will the following code print?\n",
    "def f(x = 0, y = 3):\n",
    "    return x * y\n",
    "\n",
    "print(f(2))"
   ]
  },
  {
   "cell_type": "markdown",
   "id": "371980d0",
   "metadata": {},
   "source": [
    "Write a function called str_mult that takes in a required string parameter and an optional integer parameter. \n",
    "The default value for the integer parameter should be 3. \n",
    "The function should return the string multiplied by the integer parameter."
   ]
  },
  {
   "cell_type": "code",
   "execution_count": 17,
   "id": "d42186e8",
   "metadata": {},
   "outputs": [
    {
     "name": "stdout",
     "output_type": "stream",
     "text": [
      "<function str_mult at 0x000002192190EFC0>\n"
     ]
    }
   ],
   "source": [
    "a = 'hahaha'\n",
    "def str_mult(a, b=3):\n",
    "   return a*b\n",
    "\n",
    "print(str_mult)"
   ]
  },
  {
   "cell_type": "code",
   "execution_count": 31,
   "id": "7c457eff",
   "metadata": {},
   "outputs": [],
   "source": [
    "def calculate_area(length = 10, width = 5, unit= \"square meters\"):\n",
    "\t               area = length * width\n",
    "\t               return f\"The area of the rectangle is {area} {unit}\"\n",
    " "
   ]
  },
  {
   "cell_type": "code",
   "execution_count": null,
   "id": "792801aa",
   "metadata": {},
   "outputs": [
    {
     "name": "stdout",
     "output_type": "stream",
     "text": [
      "The scores Jack got were: 67,89,91.\n",
      "The scores Emily got were: 72,95,42.\n",
      "The scores Taylor got were: 83,92,86.\n"
     ]
    }
   ],
   "source": [
    "# Use .format method\n",
    "names_scores = [(\"Jack\",[67,89,91]),(\"Emily\",[72,95,42]),(\"Taylor\",[83,92,86])]\n",
    "for name, scores in names_scores:\n",
    "    print(\"The scores {nm} got were: {s1},{s2},{s3}.\".format(nm=name,s1=scores[0],s2=scores[1],s3=scores[2]))"
   ]
  },
  {
   "cell_type": "code",
   "execution_count": 33,
   "id": "4a2b57d1",
   "metadata": {},
   "outputs": [
    {
     "name": "stdout",
     "output_type": "stream",
     "text": [
      "'Jack!' she yelled. 'Jack! Jack, say hello!'\n",
      "'Jill!' she yelled. 'Jill! Jill, say hello!'\n",
      "'Mary!' she yelled. 'Mary! Mary, say hello!'\n",
      "'Jack!' she yelled. 'Jack! Jack, say hello!'\n",
      "'Jill!' she yelled. 'Jill! Jill, say hello!'\n",
      "'Mary!' she yelled. 'Mary! Mary, say hello!'\n"
     ]
    }
   ],
   "source": [
    "# this works\n",
    "names = [\"Jack\",\"Jill\",\"Mary\"]\n",
    "for n in names:\n",
    "    print(\"'{}!' she yelled. '{}! {}, {}!'\".format(n,n,n,\"say hello\"))\n",
    "\n",
    "# but this also works!\n",
    "names = [\"Jack\",\"Jill\",\"Mary\"]\n",
    "for n in names:\n",
    "    print(\"'{0}!' she yelled. '{0}! {0}, {1}!'\".format(n,\"say hello\"))"
   ]
  },
  {
   "cell_type": "code",
   "execution_count": 44,
   "id": "d4699afc",
   "metadata": {},
   "outputs": [
    {
     "name": "stdout",
     "output_type": "stream",
     "text": [
      "x, y, z are: 2 5 7\n"
     ]
    }
   ],
   "source": [
    "# What value will be printed for z?\n",
    "initial = 7\n",
    "def f(x, y = 3, z = initial):\n",
    "    \n",
    "    print(\"x, y, z are:\", x, y, z)\n",
    "\n",
    "f(2,5)"
   ]
  },
  {
   "cell_type": "code",
   "execution_count": 46,
   "id": "302501f2",
   "metadata": {},
   "outputs": [
    {
     "name": "stdout",
     "output_type": "stream",
     "text": [
      "x, y, z are: 2 3 10\n",
      "x, y, z are: 2 3 10\n"
     ]
    }
   ],
   "source": [
    "## What value will be printed for y?\n",
    "initial = 7\n",
    "def f(x, y = 3, z = initial):\n",
    "    print(\"x, y, z are:\", x, y, z)\n",
    "\n",
    "f(2, z = 10)\n",
    "initial = 7\n",
    "def f(x, y = 3, z = initial):\n",
    "    print(\"x, y, z are:\", x, y, z)\n",
    "\n",
    "f(2, z = 10)"
   ]
  },
  {
   "cell_type": "code",
   "execution_count": null,
   "id": "72f8db9f",
   "metadata": {},
   "outputs": [],
   "source": [
    "# What value will be printed for X?\n",
    "initial = 7\n",
    "def f(x, y = 3, z = initial):\n",
    "    print(\"x, y, z are:\", x, y, z)\n",
    "\n",
    "f(2, x=5)\n",
    "\n",
    "# ANS: f() got multiple values for argument 'x'"
   ]
  },
  {
   "cell_type": "code",
   "execution_count": 48,
   "id": "bceb95fa",
   "metadata": {},
   "outputs": [
    {
     "name": "stdout",
     "output_type": "stream",
     "text": [
      "'Catalina!' she yelled. 'Come here, Catalina! Alexey, Misuki, and Pablo are here!'\n"
     ]
    }
   ],
   "source": [
    "# What value will be printed below?\n",
    "names = [\"Alexey\", \"Catalina\", \"Misuki\", \"Pablo\"]\n",
    "print(\"'{first}!' she yelled. 'Come here, {first}! {f_one}, {f_two}, and {f_three} are here!'\".format(first = names[1], f_one = names[0], f_two = names[2], f_three = names[3]))"
   ]
  },
  {
   "cell_type": "code",
   "execution_count": 49,
   "id": "d77671a0",
   "metadata": {},
   "outputs": [],
   "source": [
    "def multiply(Hello, mult_int=10):\n",
    "    Goodbye = Hello*mult_int\n",
    "    return Goodbye\n",
    "    print(Goodbye)"
   ]
  },
  {
   "cell_type": "code",
   "execution_count": 50,
   "id": "97002205",
   "metadata": {},
   "outputs": [
    {
     "name": "stdout",
     "output_type": "stream",
     "text": [
      "<function f at 0x000002192271E020>\n",
      "<class 'function'>\n",
      "2\n",
      "<function <lambda> at 0x000002192271E160>\n",
      "<class 'function'>\n",
      "4\n"
     ]
    }
   ],
   "source": [
    "# creating a function, a lambda expression\n",
    "def f(x):\n",
    "    return x - 1\n",
    "\n",
    "print(f)\n",
    "print(type(f))\n",
    "print(f(3))\n",
    "\n",
    "print(lambda x: x-2)\n",
    "print(type(lambda x: x-2))\n",
    "print((lambda x: x-2)(6))"
   ]
  },
  {
   "cell_type": "code",
   "execution_count": 51,
   "id": "c5bdd65c",
   "metadata": {},
   "outputs": [],
   "source": [
    "def last_char(s):\n",
    "    return s[-1]"
   ]
  },
  {
   "cell_type": "code",
   "execution_count": 52,
   "id": "e1c0aea6",
   "metadata": {},
   "outputs": [],
   "source": [
    "last_char = (lambda s: s[-1])"
   ]
  },
  {
   "cell_type": "markdown",
   "id": "8f00c1f8",
   "metadata": {},
   "source": [
    "### Sorting Basics :Sorting with Sort and Sorted"
   ]
  },
  {
   "cell_type": "code",
   "execution_count": null,
   "id": "0edd2eff",
   "metadata": {},
   "outputs": [
    {
     "name": "stdout",
     "output_type": "stream",
     "text": [
      "[-2, 1, 3, 4, 7]\n",
      "['Apple', 'Blueberry', 'Cherry']\n"
     ]
    }
   ],
   "source": [
    "# USE sort method\n",
    "L1 = [1, 7, 4, -2, 3]\n",
    "L2 = [\"Cherry\", \"Apple\", \"Blueberry\"]\n",
    "\n",
    "L1.sort()\n",
    "print(L1)\n",
    "\n",
    "L2.sort()\n",
    "print(L2)"
   ]
  },
  {
   "cell_type": "code",
   "execution_count": null,
   "id": "635d5ef7",
   "metadata": {},
   "outputs": [
    {
     "name": "stdout",
     "output_type": "stream",
     "text": [
      "['Apple', 'Blueberry', 'Cherry']\n",
      "['Apple', 'Blueberry', 'Cherry']\n",
      "['Cherry', 'Apple', 'Blueberry']\n",
      "----\n",
      "['Apple', 'Blueberry', 'Cherry']\n",
      "None\n"
     ]
    }
   ],
   "source": [
    "# USE sorted function\n",
    "L2 = [\"Cherry\", \"Apple\", \"Blueberry\"]\n",
    "\n",
    "L3 = sorted(L2)\n",
    "print(L3)\n",
    "print(sorted(L2))\n",
    "print(L2) # unchanged\n",
    "\n",
    "print(\"----\")\n",
    "\n",
    "L2.sort()\n",
    "print(L2)\n",
    "print(L2.sort())  #return value is None"
   ]
  },
  {
   "cell_type": "code",
   "execution_count": null,
   "id": "95b2b798",
   "metadata": {},
   "outputs": [
    {
     "name": "stdout",
     "output_type": "stream",
     "text": [
      "['Cherry', 'Blueberry', 'Apple']\n",
      "----\n",
      "['Apple', 'Blueberry', 'Cherry']\n"
     ]
    }
   ],
   "source": [
    "# reverse parameter\n",
    "L2 = [\"Cherry\", \"Apple\", \"Blueberry\"]\n",
    "print(sorted(L2, reverse=True))\n",
    "\n",
    "print(\"----\")\n",
    "\n",
    "print(sorted(L2, reverse=False)) # do not want reverse "
   ]
  },
  {
   "cell_type": "code",
   "execution_count": 9,
   "id": "e3070cd2",
   "metadata": {},
   "outputs": [
    {
     "name": "stdout",
     "output_type": "stream",
     "text": [
      "[9, 7, 6, 5, 5, 3, 2, 1, -2]\n"
     ]
    }
   ],
   "source": [
    "# Sort the list, lst from largest to smallest. Save this new list to the variable lst_sorted\n",
    "\n",
    "lst = [3, 5, 1, 6, 7, 2, 9, -2, 5]\n",
    "lst_sorted = sorted(lst, reverse = True)\n",
    "print(lst_sorted)"
   ]
  },
  {
   "cell_type": "code",
   "execution_count": null,
   "id": "e31e0086",
   "metadata": {},
   "outputs": [],
   "source": [
    "# key parameter and use lambda function "
   ]
  },
  {
   "cell_type": "code",
   "execution_count": 1,
   "id": "105b8d3a",
   "metadata": {},
   "outputs": [
    {
     "name": "stdout",
     "output_type": "stream",
     "text": [
      "3\n",
      "119\n",
      "1\n",
      "7\n",
      "4\n",
      "2\n",
      "3\n"
     ]
    }
   ],
   "source": [
    "L1 = [1, 7, 4, -2, 3]\n",
    "\n",
    "def absolute(x):\n",
    "    if x >= 0:\n",
    "        return x\n",
    "    else:\n",
    "        return -x\n",
    "\n",
    "print(absolute(3))\n",
    "print(absolute(-119))\n",
    "\n",
    "for y in L1:\n",
    "    print(absolute(y))"
   ]
  },
  {
   "cell_type": "code",
   "execution_count": 2,
   "id": "672f7fc4",
   "metadata": {},
   "outputs": [
    {
     "name": "stdout",
     "output_type": "stream",
     "text": [
      "[1, -2, 3, 4, 7]\n",
      "[7, 4, 3, -2, 1]\n"
     ]
    }
   ],
   "source": [
    "L1 = [1, 7, 4, -2, 3]\n",
    "\n",
    "def absolute(x):\n",
    "    if x >= 0:\n",
    "        return x\n",
    "    else:\n",
    "        return -x\n",
    "\n",
    "L2 = sorted(L1, key=absolute)\n",
    "print(L2)\n",
    "\n",
    "#or in reverse order\n",
    "print(sorted(L1, reverse=True, key=absolute))"
   ]
  },
  {
   "cell_type": "code",
   "execution_count": 3,
   "id": "5ab36f26",
   "metadata": {},
   "outputs": [
    {
     "name": "stdout",
     "output_type": "stream",
     "text": [
      "About to call sorted\n",
      "--- figuring out what to write on the post-it note for 1\n",
      "--- figuring out what to write on the post-it note for 7\n",
      "--- figuring out what to write on the post-it note for 4\n",
      "--- figuring out what to write on the post-it note for -2\n",
      "--- figuring out what to write on the post-it note for 3\n",
      "Finished execution of sorted\n",
      "[1, -2, 3, 4, 7]\n"
     ]
    }
   ],
   "source": [
    "L1 = [1, 7, 4, -2, 3]\n",
    "\n",
    "def absolute(x):\n",
    "    print(\"--- figuring out what to write on the post-it note for \" + str(x))\n",
    "    if x >= 0:\n",
    "        return x\n",
    "    else:\n",
    "        return -x\n",
    "\n",
    "print(\"About to call sorted\")\n",
    "L2 = sorted(L1, key=absolute)\n",
    "print(\"Finished execution of sorted\")\n",
    "print(L2)"
   ]
  },
  {
   "cell_type": "code",
   "execution_count": 4,
   "id": "bf6c9223",
   "metadata": {},
   "outputs": [
    {
     "name": "stdout",
     "output_type": "stream",
     "text": [
      "['dance', 'zebra', 'hi', 'how are you', 'apple', 'bye']\n"
     ]
    }
   ],
   "source": [
    "# You will be sorting the following list by each element’s second letter, a to z. Create a function to use when sorting, called second_let. \n",
    "# It will take a string as input and return the second letter of that string. Then sort the list, create a variable called sorted_by_second_let and assign the sorted list to it. Do not use lambda.\n",
    "\n",
    "ex_lst = ['hi', 'how are you', 'bye', 'apple', 'zebra', 'dance']\n",
    "def second_let(string_input):\n",
    "  return string_input[1]\n",
    "\n",
    "# Sort the list using the custom key function and assign it to the new variable\n",
    "sorted_by_second_let = sorted(ex_lst, key=second_let)\n",
    "\n",
    "# Print the final sorted list to verify the result\n",
    "print(sorted_by_second_let)\n"
   ]
  },
  {
   "cell_type": "code",
   "execution_count": 5,
   "id": "9e658d1e",
   "metadata": {},
   "outputs": [
    {
     "name": "stdout",
     "output_type": "stream",
     "text": [
      "['19', '14378', '8907', '16', '1005', '44', '33', '32', '871', '1450']\n"
     ]
    }
   ],
   "source": [
    "# Below, we have provided a list of strings called nums. Write a function called last_char that takes a string as input, and returns only its last character.\n",
    "# Use this function to sort the list nums by the last digit of each number, from highest to lowest, and save this as a new list called nums_sorted.\n",
    "\n",
    "def last_char(s):\n",
    "    \"\"\"\n",
    "    Returns the last character of a given string.\n",
    "    \"\"\"\n",
    "    return s[-1]\n",
    "\n",
    "nums = ['1450', '33', '871', '19', '14378', '32', '1005', '44', '8907', '16']\n",
    "\n",
    "# Sort the list nums by the last digit of each number, from highest to lowest.\n",
    "# The key argument uses the last_char function to determine the sorting order.\n",
    "# The reverse=True argument sorts the list in descending order.\n",
    "nums_sorted = sorted(nums, key=last_char, reverse=True)\n",
    "\n",
    "print(nums_sorted)"
   ]
  },
  {
   "cell_type": "code",
   "execution_count": 7,
   "id": "3bfc4ceb",
   "metadata": {},
   "outputs": [
    {
     "name": "stdout",
     "output_type": "stream",
     "text": [
      "['19', '14378', '8907', '16', '1005', '44', '33', '32', '871', '1450']\n"
     ]
    }
   ],
   "source": [
    "# Once again, sort the list nums based on the last digit of each number from highest to lowest. \n",
    "# However, now you should do so by writing a lambda function. Save the new list as nums_sorted_lambda.\n",
    "\n",
    "nums = ['1450', '33', '871', '19', '14378', '32', '1005', '44', '8907', '16']\n",
    "\n",
    "# Sort the list based on the last digit (extracted as a string) in descending order\n",
    "nums_sorted_lambda = sorted(nums, key=lambda x: x[-1], reverse=True)\n",
    "\n",
    "print(nums_sorted_lambda)"
   ]
  },
  {
   "cell_type": "code",
   "execution_count": 8,
   "id": "0598c6d6",
   "metadata": {},
   "outputs": [
    {
     "name": "stdout",
     "output_type": "stream",
     "text": [
      "E appears 2 times\n",
      "F appears 1 times\n",
      "B appears 2 times\n",
      "A appears 2 times\n",
      "D appears 4 times\n",
      "I appears 2 times\n",
      "C appears 1 times\n"
     ]
    }
   ],
   "source": [
    "# Following code counts the frequencies of different numbers in the list.\n",
    "L = ['E', 'F', 'B', 'A', 'D', 'I', 'I', 'C', 'B', 'A', 'D', 'D', 'E', 'D']\n",
    "\n",
    "d = {}\n",
    "for x in L:\n",
    "    if x in d:\n",
    "        d[x] = d[x] + 1\n",
    "    else:\n",
    "        d[x] = 1\n",
    "for x in d.keys():\n",
    "    print(\"{} appears {} times\".format(x, d[x]))"
   ]
  },
  {
   "cell_type": "code",
   "execution_count": 9,
   "id": "2ac9c770",
   "metadata": {},
   "outputs": [
    {
     "name": "stdout",
     "output_type": "stream",
     "text": [
      "A appears 2 times\n",
      "B appears 2 times\n",
      "C appears 1 times\n",
      "D appears 4 times\n",
      "E appears 2 times\n",
      "F appears 1 times\n",
      "I appears 2 times\n"
     ]
    }
   ],
   "source": [
    "# We can force the results to be displayed in some fixed ordering, by sorting the keys\n",
    "\n",
    "L = ['E', 'F', 'B', 'A', 'D', 'I', 'I', 'C', 'B', 'A', 'D', 'D', 'E', 'D']\n",
    "\n",
    "d = {}\n",
    "for x in L:\n",
    "    if x in d:\n",
    "        d[x] = d[x] + 1\n",
    "    else:\n",
    "        d[x] = 1\n",
    "y = sorted(d.keys())\n",
    "for k in y:\n",
    "    print(\"{} appears {} times\".format(k, d[k]))"
   ]
  },
  {
   "cell_type": "code",
   "execution_count": 10,
   "id": "8d174690",
   "metadata": {},
   "outputs": [
    {
     "name": "stdout",
     "output_type": "stream",
     "text": [
      "D appears 4 times\n",
      "E appears 2 times\n",
      "B appears 2 times\n",
      "A appears 2 times\n",
      "I appears 2 times\n",
      "F appears 1 times\n",
      "C appears 1 times\n"
     ]
    }
   ],
   "source": [
    "# To remind ourselves of that, we’ve named the parameter in tha lambda expression k. \n",
    "# The property of key k that is supposed to be returned is its associated value in the dictionary. \n",
    "# Hence, we have the lambda expression lambda k: d[k].\n",
    "\n",
    "L = ['E', 'F', 'B', 'A', 'D', 'I', 'I', 'C', 'B', 'A', 'D', 'D', 'E', 'D']\n",
    "\n",
    "d = {}\n",
    "for x in L:\n",
    "    if x in d:\n",
    "        d[x] = d[x] + 1\n",
    "    else:\n",
    "        d[x] = 1\n",
    "\n",
    "y = sorted(d.keys(), key=lambda k: d[k], reverse=True)\n",
    "for k in y:\n",
    "    print(\"{} appears {} times\".format(k, d[k]))"
   ]
  },
  {
   "cell_type": "code",
   "execution_count": 11,
   "id": "65989dab",
   "metadata": {},
   "outputs": [
    {
     "name": "stdout",
     "output_type": "stream",
     "text": [
      "D appears 4 times\n",
      "E appears 2 times\n",
      "B appears 2 times\n",
      "A appears 2 times\n",
      "I appears 2 times\n",
      "F appears 1 times\n",
      "C appears 1 times\n"
     ]
    }
   ],
   "source": [
    "# Here’s a version of that using a named function.\n",
    "L = ['E', 'F', 'B', 'A', 'D', 'I', 'I', 'C', 'B', 'A', 'D', 'D', 'E', 'D']\n",
    "\n",
    "d = {}\n",
    "for x in L:\n",
    "    if x in d:\n",
    "        d[x] = d[x] + 1\n",
    "    else:\n",
    "        d[x] = 1\n",
    "\n",
    "def g(k):\n",
    "    return d[k]\n",
    "\n",
    "y =(sorted(d.keys(), key=g, reverse=True))\n",
    "\n",
    "# now loop through the keys\n",
    "for k in y:\n",
    "    print(\"{} appears {} times\".format(k, d[k]))"
   ]
  },
  {
   "cell_type": "code",
   "execution_count": null,
   "id": "a9bff80d",
   "metadata": {},
   "outputs": [],
   "source": [
    "# When we sort the keys, passing a function with key=lambda x: d[x] does not specify to sort the keys of a dictionary. \n",
    "L = ['E', 'F', 'B', 'A', 'D', 'I', 'I', 'C', 'B', 'A', 'D', 'D', 'E', 'D']\n",
    "\n",
    "d = {}\n",
    "for x in L:\n",
    "    if x in d:\n",
    "        d[x] = d[x] + 1\n",
    "    else:\n",
    "        d[x] = 1\n",
    "\n",
    "# now loop through the sorted keys\n",
    "for k in sorted(d, key=lambda k: d[k], reverse=True):\n",
    "      print(\"{} appears {} times\".format(k, d[k]))"
   ]
  },
  {
   "cell_type": "code",
   "execution_count": null,
   "id": "e980d61b",
   "metadata": {},
   "outputs": [],
   "source": [
    "# Which of the following will sort the keys of d in ascending order of their values (i.e., from lowest to highest)?\n",
    "\n",
    "L = [4, 5, 1, 0, 3, 8, 8, 2, 1, 0, 3, 3, 4, 3]\n",
    "\n",
    "d = {}\n",
    "for x in L:\n",
    "    if x in d:\n",
    "        d[x] = d[x] + 1\n",
    "    else:\n",
    "        d[x] = 1\n",
    "\n",
    "def g(k, d):\n",
    "    return d[k]\n",
    "\n",
    "ks = d.keys()\n",
    "\n",
    "#sorted(ks, key=lambda x: g(x, d))\n",
    "# sorted(ks, key=lambda x: d[x])"
   ]
  },
  {
   "cell_type": "code",
   "execution_count": 12,
   "id": "1c19efd7",
   "metadata": {},
   "outputs": [
    {
     "name": "stdout",
     "output_type": "stream",
     "text": [
      "['Chairs', 'Firepit', 'Flowers', 'Grill', 'Lights', 'Trees']\n"
     ]
    }
   ],
   "source": [
    "# Sort the following dictionary based on the keys so that they are sorted a to z. Assign the resulting value to the variable sorted_keys.\n",
    "dictionary = {\"Flowers\": 10, 'Trees': 20, 'Chairs': 6, \"Firepit\": 1, 'Grill': 2, 'Lights': 14}\n",
    "sorted_keys = sorted(dictionary)\n",
    "print(sorted_keys)"
   ]
  },
  {
   "cell_type": "code",
   "execution_count": 14,
   "id": "13762321",
   "metadata": {},
   "outputs": [
    {
     "name": "stdout",
     "output_type": "stream",
     "text": [
      "['apples', 'bananas', 'carrots', 'cereal', 'coffee', 'granola bars', 'onions', 'orange juice', 'pasta', 'peanut butter', 'popcorn', 'rice', 'salsa', 'spinach']\n"
     ]
    }
   ],
   "source": [
    "# Below, we have provided the dictionary groceries, whose keys are grocery items, and values are the number of each item that you need to buy at the store. \n",
    "# Sort the dictionary’s keys into alphabetical order, and save them as a list called grocery_keys_sorted.\n",
    "groceries = {'apples': 5, 'pasta': 3, 'carrots': 12, 'orange juice': 2, 'bananas': 8, 'popcorn': 1, 'salsa': 3, 'cereal': 4, 'coffee': 5, 'granola bars': 15, 'onions': 7, 'rice': 1, 'peanut butter': 2, 'spinach': 9}\n",
    "\n",
    "grocery_keys_sorted = sorted(groceries.keys())\n",
    "\n",
    "print(grocery_keys_sorted)"
   ]
  },
  {
   "cell_type": "code",
   "execution_count": 15,
   "id": "2a49dc08",
   "metadata": {},
   "outputs": [],
   "source": [
    "# Sort the following dictionary’s keys based on the value from highest to lowest. Assign the resulting value to the variable sorted_values\n",
    "dictionary = {\"Flowers\": 10, 'Trees': 20, 'Chairs': 6, \"Firepit\": 1, 'Grill': 2, 'Lights': 14}\n",
    "\n",
    "sorted_values = sorted(dictionary, key=lambda k: dictionary[k], reverse=True)"
   ]
  },
  {
   "cell_type": "markdown",
   "id": "af17401d",
   "metadata": {},
   "source": [
    "Breaking Ties: Second Sorting"
   ]
  },
  {
   "cell_type": "code",
   "execution_count": null,
   "id": "214a74a3",
   "metadata": {},
   "outputs": [
    {
     "name": "stdout",
     "output_type": "stream",
     "text": [
      "('A', 2, 4)\n",
      "('A', 3, 2)\n",
      "('B', 3, 1)\n",
      "('C', 1, 2)\n",
      "('C', 1, 4)\n"
     ]
    }
   ],
   "source": [
    "# For numbers, it’s lowest to highest. For strings, it’s alphabetic order. For a sequence of tuples,\n",
    "tups = [('A', 3, 2),\n",
    "        ('C', 1, 4),\n",
    "        ('B', 3, 1),\n",
    "        ('A', 2, 4),\n",
    "        ('C', 1, 2)]\n",
    "for tup in sorted(tups):\n",
    "    print(tup)"
   ]
  },
  {
   "cell_type": "code",
   "execution_count": 2,
   "id": "bff267ff",
   "metadata": {},
   "outputs": [
    {
     "name": "stdout",
     "output_type": "stream",
     "text": [
      "kiwi\n",
      "pear\n",
      "apple\n",
      "mango\n",
      "peach\n",
      "papaya\n",
      "blueberry\n"
     ]
    }
   ],
   "source": [
    "fruits = ['peach', 'kiwi', 'apple', 'blueberry', 'papaya', 'mango', 'pear']\n",
    "new_order = sorted(fruits, key=lambda fruit_name: (len(fruit_name), fruit_name))\n",
    "for fruit in new_order:\n",
    "    print(fruit)"
   ]
  },
  {
   "cell_type": "code",
   "execution_count": 3,
   "id": "743da407",
   "metadata": {},
   "outputs": [
    {
     "name": "stdout",
     "output_type": "stream",
     "text": [
      "blueberry\n",
      "papaya\n",
      "peach\n",
      "mango\n",
      "apple\n",
      "pear\n",
      "kiwi\n"
     ]
    }
   ],
   "source": [
    "fruits = ['peach', 'kiwi', 'apple', 'blueberry', 'papaya', 'mango', 'pear']\n",
    "new_order = sorted(fruits, key=lambda fruit_name: (len(fruit_name), fruit_name), reverse=True)\n",
    "for fruit in new_order:\n",
    "    print(fruit)"
   ]
  },
  {
   "cell_type": "code",
   "execution_count": 4,
   "id": "61bd3aa2",
   "metadata": {},
   "outputs": [
    {
     "name": "stdout",
     "output_type": "stream",
     "text": [
      "['Washington', 'Minnesota', 'Michigan']\n"
     ]
    }
   ],
   "source": [
    "states = {\"Minnesota\": [\"St. Paul\", \"Minneapolis\", \"Saint Cloud\", \"Stillwater\"],\n",
    "          \"Michigan\": [\"Ann Arbor\", \"Traverse City\", \"Lansing\", \"Kalamazoo\"],\n",
    "          \"Washington\": [\"Seattle\", \"Tacoma\", \"Olympia\", \"Vancouver\"]}\n",
    "\n",
    "print(sorted(states, key=lambda state: len(states[state][0])))"
   ]
  },
  {
   "cell_type": "code",
   "execution_count": 5,
   "id": "20f0ed34",
   "metadata": {},
   "outputs": [
    {
     "name": "stdout",
     "output_type": "stream",
     "text": [
      "['Michigan', 'Washington', 'Minnesota']\n"
     ]
    }
   ],
   "source": [
    "def s_cities_count(city_list):\n",
    "    ct = 0\n",
    "    for city in city_list:\n",
    "        if city[0] == \"S\":\n",
    "            ct += 1\n",
    "    return ct\n",
    "\n",
    "states = {\"Minnesota\": [\"St. Paul\", \"Minneapolis\", \"Saint Cloud\", \"Stillwater\"],\n",
    "          \"Michigan\": [\"Ann Arbor\", \"Traverse City\", \"Lansing\", \"Kalamazoo\"],\n",
    "          \"Washington\": [\"Seattle\", \"Tacoma\", \"Olympia\", \"Vancouver\"]}\n",
    "\n",
    "print(sorted(states, key=lambda state: s_cities_count(states[state])))"
   ]
  },
  {
   "cell_type": "code",
   "execution_count": 6,
   "id": "3dd6aac2",
   "metadata": {},
   "outputs": [
    {
     "name": "stdout",
     "output_type": "stream",
     "text": [
      "['z', 'w', 'w', 'u', 's', 's', 'n', 'l', 'l', 'l', 'k', 'j', 'i', 'i', 'f', 'e', 'e', 'd', 'a', 'a', 'a', 'a']\n"
     ]
    }
   ],
   "source": [
    "# Sort the following string alphabetically, from z to a, and assign it to the variable sorted_letters\n",
    "letters = \"alwnfiwaksuezlaeiajsdl\"\n",
    "sorted_letters = []\n",
    "\n",
    "sorted_letters = sorted(letters,  reverse=True)\n",
    "\n",
    "print(sorted_letters) "
   ]
  },
  {
   "cell_type": "code",
   "execution_count": 7,
   "id": "641e89a1",
   "metadata": {},
   "outputs": [
    {
     "name": "stdout",
     "output_type": "stream",
     "text": [
      "['China', 'Germany', 'Japan', 'Russia', 'South Korea', 'United States']\n"
     ]
    }
   ],
   "source": [
    "# The dictionary, medals, shows the medal count for six countries during the Rio Olympics. \n",
    "# Sort the country names so they appear alphabetically. Save this list to the variable alphabetical.\n",
    "\n",
    "medals = {'Japan':41, 'Russia':56, 'South Korea':21, 'United States':121, 'Germany':42, 'China':70}\n",
    "alphabetical = []\n",
    "\n",
    "alphabetical = sorted(medals,  reverse=False)\n",
    "\n",
    "print(alphabetical) "
   ]
  },
  {
   "cell_type": "code",
   "execution_count": 8,
   "id": "56923af8",
   "metadata": {},
   "outputs": [
    {
     "name": "stdout",
     "output_type": "stream",
     "text": [
      "['United States', 'China', 'Russia']\n"
     ]
    }
   ],
   "source": [
    "medals = {'Japan':41, 'Russia':56, 'South Korea':21, 'United States':121, 'Germany':42, 'China':70}\n",
    "\n",
    "# Sort the dictionary items by their values (medal counts) in descending order\n",
    "# and extract the keys (country names)\n",
    "sorted_countries = sorted(medals.items(), key=lambda item: item[1], reverse=True)\n",
    "\n",
    "# Extract the names of the top three countries\n",
    "top_three = [country for country, count in sorted_countries[:3]]\n",
    "\n",
    "print(top_three)"
   ]
  },
  {
   "cell_type": "code",
   "execution_count": 10,
   "id": "8eb82f44",
   "metadata": {},
   "outputs": [
    {
     "name": "stdout",
     "output_type": "stream",
     "text": [
      "['granola bars', 'carrots', 'spinach', 'bananas', 'onions', 'apples', 'coffee', 'cereal', 'pasta', 'salsa', 'orange juice', 'peanut butter', 'popcorn', 'rice']\n"
     ]
    }
   ],
   "source": [
    "# We have provided the dictionary groceries. You should return a list of its keys, but they should be sorted by their values, from highest to lowest. \n",
    "# Save the new list as most_needed\n",
    "\n",
    "groceries = {'apples': 5, 'pasta': 3, 'carrots': 12, 'orange juice': 2, 'bananas': 8, 'popcorn': 1, 'salsa': 3, 'cereal': 4, 'coffee': 5, 'granola bars': 15, 'onions': 7, 'rice': 1, 'peanut butter': 2, 'spinach': 9}\n",
    "\n",
    "most_needed = sorted(groceries, key=lambda item: groceries[item], reverse=True)\n",
    "print(most_needed)"
   ]
  }
 ],
 "metadata": {
  "kernelspec": {
   "display_name": "base",
   "language": "python",
   "name": "python3"
  },
  "language_info": {
   "codemirror_mode": {
    "name": "ipython",
    "version": 3
   },
   "file_extension": ".py",
   "mimetype": "text/x-python",
   "name": "python",
   "nbconvert_exporter": "python",
   "pygments_lexer": "ipython3",
   "version": "3.12.7"
  }
 },
 "nbformat": 4,
 "nbformat_minor": 5
}
