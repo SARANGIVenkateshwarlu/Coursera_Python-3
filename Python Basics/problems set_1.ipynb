{
 "cells": [
  {
   "cell_type": "markdown",
   "id": "700eae4d-5198-454f-b5b6-9119fea89228",
   "metadata": {},
   "source": [
    "Write one for loop to print out each character of the string my_str on a separate line."
   ]
  },
  {
   "cell_type": "code",
   "execution_count": 4,
   "id": "ddd71b05-edb9-4a15-ae26-951cd962a391",
   "metadata": {},
   "outputs": [
    {
     "name": "stdout",
     "output_type": "stream",
     "text": [
      "M\n",
      "I\n",
      "C\n",
      "H\n",
      "I\n",
      "G\n",
      "A\n",
      "N\n",
      "-\n",
      "9\n",
      "MICHIGAN-9\n"
     ]
    }
   ],
   "source": [
    "my_str = \"MICHIGAN-9\"\n",
    "\n",
    "for char in my_str:\n",
    "    print(char)\n",
    "print(my_str)"
   ]
  },
  {
   "cell_type": "code",
   "execution_count": 1,
   "id": "ca16b2e7-f86d-4083-af4f-610b0e58c452",
   "metadata": {},
   "outputs": [
    {
     "name": "stdout",
     "output_type": "stream",
     "text": [
      "hello\n",
      "2\n",
      "4\n",
      "6.0\n",
      "7.5\n",
      "234352354\n",
      "the end\n",
      "\n",
      "99\n",
      "<class 'str'>\n",
      "<class 'int'>\n",
      "<class 'int'>\n",
      "<class 'float'>\n",
      "<class 'float'>\n",
      "<class 'int'>\n",
      "<class 'str'>\n",
      "<class 'str'>\n",
      "<class 'int'>\n"
     ]
    }
   ],
   "source": [
    "# Write one for loop to print out each element of the list several_things. \n",
    "# Then, write another for loop to print out the TYPE of each element of the list several_things. \n",
    "# To complete this problem you should have written two different for loops, each of which iterates over the list several_things, but each of those 2 for loops should have a different result.\n",
    "\n",
    "several_things = [\"hello\", 2, 4, 6.0, 7.5, 234352354, \"the end\", \"\", 99]\n",
    "for char1 in several_things:\n",
    "    print(char1)\n",
    "    \n",
    "for char2 in several_things:\n",
    "    print(type(char2))"
   ]
  },
  {
   "cell_type": "code",
   "execution_count": 2,
   "id": "fb4ad148",
   "metadata": {},
   "outputs": [
    {
     "name": "stdout",
     "output_type": "stream",
     "text": [
      "5\n",
      "0\n",
      "7\n",
      "9\n",
      "13\n"
     ]
    }
   ],
   "source": [
    "# Write code that uses iteration to print out the length of each element of the list stored in str_list\n",
    "\n",
    "str_list = [\"hello\", \"\", \"goodbye\", \"wonderful\", \"I love Python\"]\n",
    "for i in range(len(str_list)):\n",
    "    print(len(str_list[i]))\n",
    "    "
   ]
  },
  {
   "cell_type": "code",
   "execution_count": 3,
   "id": "acc0c6cc",
   "metadata": {},
   "outputs": [
    {
     "name": "stdout",
     "output_type": "stream",
     "text": [
      "57\n"
     ]
    }
   ],
   "source": [
    "# Write code to count the number of characters in original_str using the accumulation pattern and assign the answer to a variable num_chars. Do NOT use the len function to solve the problem (if you use it while you are working on this problem, comment it out afterward!)\n",
    "\n",
    "original_str = \"The quick brown rhino jumped over the extremely lazy fox.\"\n",
    "\n",
    "counter = 0 \n",
    "\n",
    "for i in original_str: \n",
    "    counter += 1    \n",
    "    num_chars = counter  \n",
    "print(num_chars)"
   ]
  }
 ],
 "metadata": {
  "kernelspec": {
   "display_name": "base",
   "language": "python",
   "name": "python3"
  },
  "language_info": {
   "codemirror_mode": {
    "name": "ipython",
    "version": 3
   },
   "file_extension": ".py",
   "mimetype": "text/x-python",
   "name": "python",
   "nbconvert_exporter": "python",
   "pygments_lexer": "ipython3",
   "version": "3.12.7"
  }
 },
 "nbformat": 4,
 "nbformat_minor": 5
}
