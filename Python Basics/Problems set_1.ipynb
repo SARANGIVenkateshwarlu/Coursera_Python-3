{
 "cells": [
  {
   "cell_type": "markdown",
   "id": "700eae4d-5198-454f-b5b6-9119fea89228",
   "metadata": {},
   "source": [
    "Write one for loop to print out each character of the string my_str on a separate line."
   ]
  },
  {
   "cell_type": "code",
   "execution_count": 4,
   "id": "ddd71b05-edb9-4a15-ae26-951cd962a391",
   "metadata": {},
   "outputs": [
    {
     "name": "stdout",
     "output_type": "stream",
     "text": [
      "M\n",
      "I\n",
      "C\n",
      "H\n",
      "I\n",
      "G\n",
      "A\n",
      "N\n",
      "-\n",
      "9\n",
      "MICHIGAN-9\n"
     ]
    }
   ],
   "source": [
    "my_str = \"MICHIGAN-9\"\n",
    "\n",
    "for char in my_str:\n",
    "    print(char)\n",
    "print(my_str)"
   ]
  },
  {
   "cell_type": "code",
   "execution_count": null,
   "id": "ca16b2e7-f86d-4083-af4f-610b0e58c452",
   "metadata": {},
   "outputs": [],
   "source": []
  }
 ],
 "metadata": {
  "kernelspec": {
   "display_name": "base",
   "language": "python",
   "name": "python3"
  },
  "language_info": {
   "codemirror_mode": {
    "name": "ipython",
    "version": 3
   },
   "file_extension": ".py",
   "mimetype": "text/x-python",
   "name": "python",
   "nbconvert_exporter": "python",
   "pygments_lexer": "ipython3",
   "version": "3.12.7"
  }
 },
 "nbformat": 4,
 "nbformat_minor": 5
}
