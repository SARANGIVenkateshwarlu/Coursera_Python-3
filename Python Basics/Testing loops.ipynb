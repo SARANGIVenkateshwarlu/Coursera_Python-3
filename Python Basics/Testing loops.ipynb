{
 "cells": [
  {
   "cell_type": "markdown",
   "id": "48d295ae-f5df-4e5f-8cf6-5bbed7027d6c",
   "metadata": {},
   "source": [
    "Testing Loops and asse\n",
    "With a for loop, the edge cases might include iterating over an empty list or string, or iterating over a list with different kinds of contents.\n",
    "\n",
    "\n",
    "\n",
    "When lst is [1, 5, 8], the value at the end should be 14."
   ]
  },
  {
   "cell_type": "code",
   "execution_count": null,
   "id": "ef548c89-fbe5-4c70-836e-41e18391e571",
   "metadata": {},
   "outputs": [],
   "source": [
    "nums = [1, 5, 8]\n",
    "\n",
    "accum = 0\n",
    "for w in nums:\n",
    "    accum = accum + w\n",
    "assert accum == 14"
   ]
  }
 ],
 "metadata": {
  "kernelspec": {
   "display_name": "Python 3 (ipykernel)",
   "language": "python",
   "name": "python3"
  },
  "language_info": {
   "codemirror_mode": {
    "name": "ipython",
    "version": 3
   },
   "file_extension": ".py",
   "mimetype": "text/x-python",
   "name": "python",
   "nbconvert_exporter": "python",
   "pygments_lexer": "ipython3",
   "version": "3.11.5"
  }
 },
 "nbformat": 4,
 "nbformat_minor": 5
}
