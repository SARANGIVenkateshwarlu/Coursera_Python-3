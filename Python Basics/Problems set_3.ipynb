{
 "cells": [
  {
   "cell_type": "markdown",
   "id": "8f466a49",
   "metadata": {},
   "source": [
    "rainfall_mi is a string that contains the average number of inches of rainfall in Michigan for every month (in inches) with every month separated by a comma. Write code to compute the number of months that have more than 3 inches of rainfall. Store the result in the variable num_rainy_months. In other words, count the number of items with values > 3.0.\n",
    "\n",
    "Hard-coded answers will receive no credit."
   ]
  },
  {
   "cell_type": "code",
   "execution_count": 1,
   "id": "08185aaa",
   "metadata": {},
   "outputs": [
    {
     "name": "stdout",
     "output_type": "stream",
     "text": [
      "Number of items with values > 3.0 = 5\n"
     ]
    }
   ],
   "source": [
    "rainfall_mi = \"1.65, 1.46, 2.05, 3.03, 3.35, 3.46, 2.83, 3.23, 3.5, 2.52, 2.8, 1.85\"\n",
    "\n",
    "months = rainfall_mi.split(\",\")\n",
    "count = 0\n",
    "for i in months:\n",
    "    if float(i) > 3.0:\n",
    "        count += 1\n",
    "    \n",
    "num_rainy_months = count\n",
    "\n",
    "print(f'Number of items with values > 3.0 =', num_rainy_months)"
   ]
  },
  {
   "cell_type": "markdown",
   "id": "fe836bbe",
   "metadata": {},
   "source": [
    "The variable sentence stores a string. Write code to determine how many words in sentence start and end with the same letter, including one-letter words. Store the result in the variable same_letter_count.\n",
    "\n",
    "Hard-coded answers will receive no credit."
   ]
  },
  {
   "cell_type": "code",
   "execution_count": 2,
   "id": "06346af0",
   "metadata": {},
   "outputs": [
    {
     "name": "stdout",
     "output_type": "stream",
     "text": [
      "2\n"
     ]
    }
   ],
   "source": [
    "sentence = \"students flock to the arb for a variety of outdoor activities such as jogging and picnicking\"\n",
    "\n",
    "# Write your code here.\n",
    "sen = sentence.split()\n",
    "count = 0\n",
    "\n",
    "for i in sen:\n",
    "    if i[0] == i[len(i)-1]:\n",
    "        count += 1\n",
    "same_letter_count = count\n",
    "\n",
    "print(same_letter_count)"
   ]
  },
  {
   "cell_type": "markdown",
   "id": "507ad162",
   "metadata": {},
   "source": [
    "Write code to count the number of strings in list items that have the character w in it. Assign that number to the variable acc_num.\n",
    "\n",
    "HINT 1: Use the accumulation pattern!\n",
    "\n",
    "HINT 2: the in operator checks whether a substring is present in a string.\n",
    "\n",
    "Hard-coded answers will receive no credit."
   ]
  },
  {
   "cell_type": "code",
   "execution_count": null,
   "id": "f59976f5",
   "metadata": {},
   "outputs": [],
   "source": []
  },
  {
   "cell_type": "code",
   "execution_count": 3,
   "id": "7cc51935",
   "metadata": {},
   "outputs": [
    {
     "name": "stdout",
     "output_type": "stream",
     "text": [
      "4\n"
     ]
    }
   ],
   "source": [
    "items = [\"whirring\", \"wow!\", \"calendar\", \"wry\", \"glass\", \"\", \"llama\",\"tumultuous\",\"owing\"]\n",
    "\n",
    "\n",
    "count = 0\n",
    "for i in items:\n",
    "    if 'w' in i:\n",
    "        count += 1\n",
    "acc_num = count\n",
    "\n",
    "print(acc_num)"
   ]
  },
  {
   "cell_type": "markdown",
   "id": "5c5db9fc",
   "metadata": {},
   "source": [
    "# q4. Write code that counts the number of words in sentence that contain either an “a” or an “e”. Store the result in the variable num_a_or_e.\n",
    "\n",
    "# Note 1: be sure to not double-count words that contain both an a and an e.\n",
    "\n",
    "# HINT 1: Use the in operator.\n",
    "\n",
    "# HINT 2: You can either use or or elif."
   ]
  },
  {
   "cell_type": "code",
   "execution_count": 4,
   "id": "b96d46ee",
   "metadata": {},
   "outputs": [
    {
     "name": "stdout",
     "output_type": "stream",
     "text": [
      "mujju\n",
      "mujju\n",
      "mujju\n",
      "mujju\n",
      "mujju\n",
      "mujju\n",
      "mujju\n",
      "mujju\n",
      "8\n"
     ]
    }
   ],
   "source": [
    "words = sentence.split()\n",
    "num_a_or_e = 0\n",
    "for word in words:\n",
    "    if \"a\" in word[0:]:\n",
    "        print(\"mujju\")\n",
    "        num_a_or_e += 1\n",
    "    elif \"e\" in word[0:]:\n",
    "        print(\"mujju\")\n",
    "        num_a_or_e += 1\n",
    "print(num_a_or_e)"
   ]
  },
  {
   "cell_type": "markdown",
   "id": "774f84aa",
   "metadata": {},
   "source": [
    "# q5. Write code that will count the number of vowels in the sentence s and assign the result to the variable num_vowels. For this problem, vowels are only a, e, i, o, and u. Hint: use the in operator with vowels.\n",
    "\n"
   ]
  },
  {
   "cell_type": "code",
   "execution_count": 5,
   "id": "09977902",
   "metadata": {},
   "outputs": [
    {
     "name": "stdout",
     "output_type": "stream",
     "text": [
      "i\n",
      "i\n",
      "i\n",
      "e\n",
      "a\n",
      "i\n",
      "a\n",
      "a\n",
      "i\n",
      "i\n",
      "e\n",
      "a\n",
      "i\n",
      "a\n",
      "e\n",
      "o\n",
      "e\n",
      "i\n",
      "e\n",
      "i\n",
      "e\n",
      "e\n",
      "i\n",
      "u\n",
      "a\n",
      "i\n",
      "o\n",
      "u\n",
      "o\n",
      "a\n",
      "e\n",
      "u\n",
      "32\n"
     ]
    }
   ],
   "source": [
    "s = \"singing in the rain and playing in the rain are two entirely different situations but both can be fun\"\n",
    "vowels = ['a','e','i','o','u']\n",
    "num_vowels = 0\n",
    "for char in s:\n",
    "    \n",
    "    if char in vowels:\n",
    "        print(char)\n",
    "        num_vowels += 1\n",
    "    \n",
    "print(num_vowels)"
   ]
  },
  {
   "cell_type": "markdown",
   "id": "9ccc14e3",
   "metadata": {},
   "source": [
    "# q6 For each word in the list verbs, add an -ing ending. Save this new list in a new list, ing"
   ]
  },
  {
   "cell_type": "code",
   "execution_count": 6,
   "id": "29841312",
   "metadata": {},
   "outputs": [
    {
     "name": "stdout",
     "output_type": "stream",
     "text": [
      "['kayaking', 'crying', 'walking', 'eating', 'drinking', 'flying']\n"
     ]
    }
   ],
   "source": [
    "verbs = [\"kayak\", \"cry\", \"walk\", \"eat\", \"drink\", \"fly\"]\n",
    "\n",
    "ing = [ ]\n",
    "\n",
    "for v in range (len(verbs)):\n",
    "     ing.append(verbs[v]+\"ing\")\n",
    "print(ing)"
   ]
  },
  {
   "cell_type": "markdown",
   "id": "be6b0417",
   "metadata": {},
   "source": [
    "# q7. Given the list of numbers, numbs, create a new list of those same numbers increased by 5. Save this new list to the variable newlist."
   ]
  },
  {
   "cell_type": "code",
   "execution_count": 7,
   "id": "09e15d38",
   "metadata": {},
   "outputs": [
    {
     "name": "stdout",
     "output_type": "stream",
     "text": [
      "[10, 15, 20, 25, 30]\n"
     ]
    }
   ],
   "source": [
    "numbs = [5, 10, 15, 20, 25]\n",
    "newlist=[]\n",
    "\n",
    "for i in range(len(numbs)):\n",
    "    newlist.append(numbs[i]+5)\n",
    "print(newlist)"
   ]
  },
  {
   "cell_type": "markdown",
   "id": "96fa456b",
   "metadata": {},
   "source": [
    "# q8. For each number in lst_nums, multiply that number by 2 and append it to a new list called larger_nums."
   ]
  },
  {
   "cell_type": "code",
   "execution_count": 8,
   "id": "e7d2e356",
   "metadata": {},
   "outputs": [
    {
     "name": "stdout",
     "output_type": "stream",
     "text": [
      "[8, 58, 10.6, 20, 4, 3634, 3934, 18, 62.64]\n"
     ]
    }
   ],
   "source": [
    "lst_nums = [4, 29, 5.3, 10, 2, 1817, 1967, 9, 31.32]\n",
    "larger_nums = []\n",
    "for n in lst_nums:\n",
    "    x = n * 2\n",
    "    larger_nums.append(x)\n",
    "print(larger_nums)"
   ]
  },
  {
   "cell_type": "markdown",
   "id": "c3b8e03f",
   "metadata": {},
   "source": [
    "#For each character in the string saved in ael, append that character to a list that should be saved in a variable app."
   ]
  },
  {
   "cell_type": "code",
   "execution_count": 9,
   "id": "ceb56b9c",
   "metadata": {},
   "outputs": [
    {
     "name": "stdout",
     "output_type": "stream",
     "text": [
      "['p', 'y', 't', 'h', 'o', 'n', '!']\n"
     ]
    }
   ],
   "source": [
    "ael = \"python!\"\n",
    "app = []\n",
    "for i in ael:\n",
    "    app.append(i)\n",
    "print(app)\n"
   ]
  },
  {
   "cell_type": "markdown",
   "id": "11d3335e",
   "metadata": {},
   "source": [
    "For each string in wrds, add ‘ed’ to the end of the word (to make the word past tense). Save these past tense words to a list called past_wrds."
   ]
  },
  {
   "cell_type": "code",
   "execution_count": 10,
   "id": "5d63a995",
   "metadata": {},
   "outputs": [
    {
     "name": "stdout",
     "output_type": "stream",
     "text": [
      "['ended', 'worked', 'played', 'started', 'walked', 'looked', 'opened', 'rained', 'learned', 'cleaned']\n"
     ]
    }
   ],
   "source": [
    "wrds = [\"end\", 'work', \"play\", \"start\", \"walk\", \"look\", \"open\", \"rain\", \"learn\", \"clean\"]\n",
    "past_wrds = []\n",
    "for i in wrds:\n",
    "    i += 'ed'\n",
    "    past_wrds.append(i)\n",
    "print(past_wrds)"
   ]
  },
  {
   "cell_type": "markdown",
   "id": "11ddf4fe",
   "metadata": {},
   "source": [
    "Below are a set of scores that students have received in the past semester. Write code to determine how many are 90 or above and assign that result to the value a_scores."
   ]
  },
  {
   "cell_type": "code",
   "execution_count": 11,
   "id": "535051b8",
   "metadata": {},
   "outputs": [
    {
     "name": "stdout",
     "output_type": "stream",
     "text": [
      "10\n"
     ]
    }
   ],
   "source": [
    "scores = \"67 80 90 78 93 20 79 89 96 97 92 88 79 68 58 90 98 100 79 74 83 88 80 86 85 70 90 100\"\n",
    "     \n",
    "scores_split = scores.split(\" \")\n",
    "a_scores = 0\n",
    "for x in scores_split:\n",
    "    x = float(x)\n",
    "    if x >= 90:\n",
    "        a_scores += 1\n",
    "\n",
    "print(a_scores)"
   ]
  },
  {
   "cell_type": "markdown",
   "id": "bdcb9750",
   "metadata": {},
   "source": [
    "Using the file school_prompt2.txt, find the number of characters in the file and assign that value to the variable num_char"
   ]
  },
  {
   "cell_type": "code",
   "execution_count": 12,
   "id": "4914d4f7",
   "metadata": {},
   "outputs": [
    {
     "ename": "FileNotFoundError",
     "evalue": "[Errno 2] No such file or directory: 'C:/Users/info/Dropbox/Python set/data files test/Python Basics/school_prompt2.txt'",
     "output_type": "error",
     "traceback": [
      "\u001b[1;31m---------------------------------------------------------------------------\u001b[0m",
      "\u001b[1;31mFileNotFoundError\u001b[0m                         Traceback (most recent call last)",
      "Cell \u001b[1;32mIn[12], line 1\u001b[0m\n\u001b[1;32m----> 1\u001b[0m fil \u001b[38;5;241m=\u001b[39m \u001b[38;5;28mopen\u001b[39m(\u001b[38;5;124m\"\u001b[39m\u001b[38;5;124mC:/Users/info/Dropbox/Python set/data files test/Python Basics/school_prompt2.txt\u001b[39m\u001b[38;5;124m\"\u001b[39m, \u001b[38;5;124m\"\u001b[39m\u001b[38;5;124mr\u001b[39m\u001b[38;5;124m\"\u001b[39m)\n\u001b[0;32m      3\u001b[0m consts \u001b[38;5;241m=\u001b[39m fil\u001b[38;5;241m.\u001b[39mread()\n\u001b[0;32m      4\u001b[0m num_char \u001b[38;5;241m=\u001b[39m \u001b[38;5;28mlen\u001b[39m(consts)\n",
      "File \u001b[1;32mc:\\Users\\info\\anaconda3\\Lib\\site-packages\\IPython\\core\\interactiveshell.py:286\u001b[0m, in \u001b[0;36m_modified_open\u001b[1;34m(file, *args, **kwargs)\u001b[0m\n\u001b[0;32m    279\u001b[0m \u001b[38;5;28;01mif\u001b[39;00m file \u001b[38;5;129;01min\u001b[39;00m {\u001b[38;5;241m0\u001b[39m, \u001b[38;5;241m1\u001b[39m, \u001b[38;5;241m2\u001b[39m}:\n\u001b[0;32m    280\u001b[0m     \u001b[38;5;28;01mraise\u001b[39;00m \u001b[38;5;167;01mValueError\u001b[39;00m(\n\u001b[0;32m    281\u001b[0m         \u001b[38;5;124mf\u001b[39m\u001b[38;5;124m\"\u001b[39m\u001b[38;5;124mIPython won\u001b[39m\u001b[38;5;124m'\u001b[39m\u001b[38;5;124mt let you open fd=\u001b[39m\u001b[38;5;132;01m{\u001b[39;00mfile\u001b[38;5;132;01m}\u001b[39;00m\u001b[38;5;124m by default \u001b[39m\u001b[38;5;124m\"\u001b[39m\n\u001b[0;32m    282\u001b[0m         \u001b[38;5;124m\"\u001b[39m\u001b[38;5;124mas it is likely to crash IPython. If you know what you are doing, \u001b[39m\u001b[38;5;124m\"\u001b[39m\n\u001b[0;32m    283\u001b[0m         \u001b[38;5;124m\"\u001b[39m\u001b[38;5;124myou can use builtins\u001b[39m\u001b[38;5;124m'\u001b[39m\u001b[38;5;124m open.\u001b[39m\u001b[38;5;124m\"\u001b[39m\n\u001b[0;32m    284\u001b[0m     )\n\u001b[1;32m--> 286\u001b[0m \u001b[38;5;28;01mreturn\u001b[39;00m io_open(file, \u001b[38;5;241m*\u001b[39margs, \u001b[38;5;241m*\u001b[39m\u001b[38;5;241m*\u001b[39mkwargs)\n",
      "\u001b[1;31mFileNotFoundError\u001b[0m: [Errno 2] No such file or directory: 'C:/Users/info/Dropbox/Python set/data files test/Python Basics/school_prompt2.txt'"
     ]
    }
   ],
   "source": [
    "fil = open(\"C:/Users/info/Dropbox/Python set/data files test/Python Basics/school_prompt2.txt\", \"r\")\n",
    "\n",
    "consts = fil.read()\n",
    "num_char = len(consts)\n",
    "print(num_char)\n",
    "fil.close()"
   ]
  },
  {
   "cell_type": "markdown",
   "id": "d02b6f76",
   "metadata": {},
   "source": [
    "Find the number of lines in the file, school_prompt2.txt, and assign it to the variable num_lines"
   ]
  },
  {
   "cell_type": "code",
   "execution_count": null,
   "id": "9cbd1bce",
   "metadata": {},
   "outputs": [
    {
     "name": "stdout",
     "output_type": "stream",
     "text": [
      "62\n"
     ]
    }
   ],
   "source": [
    "fil = open(\"C:/Users/info/Dropbox/Python set/data files test/Python Basics/school_prompt2.txt\", \"r\")\n",
    "num_lines = len(fil.readlines())\n",
    "print(num_lines)"
   ]
  },
  {
   "cell_type": "markdown",
   "id": "4c6e2023",
   "metadata": {},
   "source": [
    "Create a string called first_forty that is comprised of the first 40 characters of school_prompt2.txt"
   ]
  },
  {
   "cell_type": "code",
   "execution_count": null,
   "id": "3726c384",
   "metadata": {},
   "outputs": [
    {
     "name": "stdout",
     "output_type": "stream",
     "text": [
      "\"The 6 pillars of all ML models\"\n",
      " \n",
      "In 20\n"
     ]
    }
   ],
   "source": [
    "file = open(\"C:/Users/info/Dropbox/Python set/data files test/Python Basics/school_prompt2.txt\", \"r\")\n",
    "const = file.read()\n",
    "first_forty = const[:40]\n",
    "print(first_forty)\n",
    "    "
   ]
  },
  {
   "cell_type": "markdown",
   "id": "ac47ebd1",
   "metadata": {},
   "source": [
    "Write code to find out how many lines are in the file emotion_words.txt as shown above. Save this value to the variable num_lines. Do not use the len method."
   ]
  },
  {
   "cell_type": "code",
   "execution_count": null,
   "id": "4617edf2",
   "metadata": {},
   "outputs": [
    {
     "name": "stdout",
     "output_type": "stream",
     "text": [
      "62\n"
     ]
    }
   ],
   "source": [
    "rfile = open(\"C:/Users/info/Dropbox/Python set/data files test/Python Basics/emotion_words.txt\", \"r\")\n",
    "num_lines=0\n",
    "\n",
    "for aline in rfile:\n",
    "    num_lines+=1\n",
    "print(num_lines)"
   ]
  },
  {
   "cell_type": "markdown",
   "id": "23e25af9",
   "metadata": {},
   "source": [
    "Write code to find out how many words are in the file emotion_words.txt as shown above. Save this value to the variable num_lines. Do not use the len method."
   ]
  },
  {
   "cell_type": "code",
   "execution_count": null,
   "id": "c0013e7d",
   "metadata": {},
   "outputs": [
    {
     "name": "stdout",
     "output_type": "stream",
     "text": [
      "2474\n"
     ]
    },
    {
     "data": {
      "text/plain": [
       "<function TextIOWrapper.close()>"
      ]
     },
     "execution_count": 37,
     "metadata": {},
     "output_type": "execute_result"
    }
   ],
   "source": [
    "rfile = open(\"C:/Users/info/Dropbox/Python set/data files test/Python Basics/emotion_words.txt\", \"r\")\n",
    "\n",
    "contents = rfile.read()\n",
    "\n",
    "print(len(contents))   \n",
    "\n",
    "rfile.close"
   ]
  },
  {
   "cell_type": "markdown",
   "id": "4c5290ef",
   "metadata": {},
   "source": [
    "open a file and write squre root of numbers 1 to 13 "
   ]
  },
  {
   "cell_type": "code",
   "execution_count": null,
   "id": "0064139d",
   "metadata": {},
   "outputs": [
    {
     "name": "stdout",
     "output_type": "stream",
     "text": [
      "1\n",
      "4\n",
      "9\n",
      "16\n",
      "2\n"
     ]
    }
   ],
   "source": [
    "filename = \"squared_numbers.txt\"\n",
    "outfile = open(filename, \"w\")\n",
    "\n",
    "for number in range(1, 13):\n",
    "    square = number * number\n",
    "    outfile.write(str(square) + \"\\n\")\n",
    "\n",
    "outfile.close()\n",
    "# \n",
    "infile = open(filename, \"r\")\n",
    "print(infile.read()[:10])\n",
    "infile.close()"
   ]
  },
  {
   "cell_type": "markdown",
   "id": "e6e97dee",
   "metadata": {},
   "source": [
    "Q:First make a list of the multiples of 12 and then write a file"
   ]
  },
  {
   "cell_type": "code",
   "execution_count": null,
   "id": "ab1638d8",
   "metadata": {},
   "outputs": [],
   "source": [
    "n = [0] * 12\n",
    "for i in range(1,13):\n",
    "    n[i-1] = i *12\n",
    "outfile = open(\"Multiples of 12.csv\", \"w\")\n",
    "for j in range(0, len(n)):\n",
    "    outfile.write(str(j+1) + ',' + str(n[j]))\n",
    "    # +1 to j since the array starts at 0 and we start counting at 1\n",
    "    outfile.write('\\n')\n",
    "outfile.close()"
   ]
  },
  {
   "cell_type": "markdown",
   "id": "da1a8b15",
   "metadata": {},
   "source": [
    "Q: we a have a list of tuples, each representing one Olympian, a subset of the rows and columns from the file we have been reading from"
   ]
  },
  {
   "cell_type": "code",
   "execution_count": null,
   "id": "427b523a",
   "metadata": {},
   "outputs": [],
   "source": [
    "olympians = [(\"John Aalberg\", 31, \"Cross Country Skiing\"),\n",
    "             (\"Minna Maarit Aalto\", 30, \"Sailing\"),\n",
    "             (\"Win Valdemar Aaltonen\", 54, \"Art Competitions\"),\n",
    "             (\"Wakako Abe\", 18, \"Cycling\")]\n",
    "\n",
    "outfile = open(\"reduced_olympics.csv\", \"w\")\n",
    "# output the header row\n",
    "outfile.write('Name,Age,Sport')\n",
    "outfile.write('\\n')\n",
    "# output each of the rows:\n",
    "for olympian in olympians:\n",
    "    row_string = '{},{},{}'.format(olympian[0], olympian[1], olympian[2])\n",
    "    outfile.write(row_string)\n",
    "    outfile.write('\\n')\n",
    "outfile.close()"
   ]
  },
  {
   "cell_type": "markdown",
   "id": "8ae9e0b1",
   "metadata": {},
   "source": [
    "Example-2"
   ]
  },
  {
   "cell_type": "code",
   "execution_count": null,
   "id": "bf73d471",
   "metadata": {},
   "outputs": [],
   "source": [
    "vegitables = [(\"carat\", 3, \"good\"), (\"Banana\", 10, \"not good\"),(\"carats\", 5, \"good\"), (\"Bananas\", 16, \"not good\")]\n",
    "outfile = open(\"name_vegitables.csv\",\"w\")\n",
    "#out put header row \n",
    "outfile.write('name, items, quality')\n",
    "outfile.write('\\n')\n",
    "#output each of the rows:\n",
    "for vegitable in vegitables:\n",
    "    row_string = '{},{},{}'.format(vegitable[0],vegitable[1], vegitable[2])\n",
    "    outfile.write(row_string)\n",
    "    outfile.write('\\n')\n",
    "outfile.close()"
   ]
  },
  {
   "cell_type": "markdown",
   "id": "9d1bd0b9",
   "metadata": {},
   "source": [
    "Q:Assign the first 30 characters of assets/school_prompt.txt as a string to the variable beginning_chars"
   ]
  },
  {
   "cell_type": "code",
   "execution_count": null,
   "id": "7230195b",
   "metadata": {},
   "outputs": [],
   "source": [
    "rfile = open(\"assets/school_prompt.txt\", 'r')\n",
    "beginning_chars = 0\n",
    "# YOUR CODE HERE\n",
    "beginning_chars=rfile.read(30)\n",
    "print(\"beginning_chars:\", beginning_chars )"
   ]
  },
  {
   "cell_type": "markdown",
   "id": "a37f56b9",
   "metadata": {},
   "source": [
    " Create a list called emotions that contains the first word of every line in assets/emotion_words.txt"
   ]
  },
  {
   "cell_type": "markdown",
   "id": "f2c1b1ad",
   "metadata": {},
   "source": [
    "fileref = open (\"assets/emotion_words.txt\",\"r\")\n",
    "line = fileref.readlines()\n",
    "emotions = []\n",
    "for words in line:\n",
    "    word = words.split()\n",
    "    emotions.append(word[0])\n",
    "print (emotions)"
   ]
  },
  {
   "cell_type": "markdown",
   "id": "e5802146",
   "metadata": {},
   "source": [
    "Q: Assign the first 33 characters from the textfile, assets/travel_plans.txt to the variable first_chars"
   ]
  },
  {
   "cell_type": "code",
   "execution_count": null,
   "id": "25dbfac3",
   "metadata": {},
   "outputs": [
    {
     "ename": "FileNotFoundError",
     "evalue": "[Errno 2] No such file or directory: 'assets/travel_plans.txt'",
     "output_type": "error",
     "traceback": [
      "\u001b[1;31m---------------------------------------------------------------------------\u001b[0m",
      "\u001b[1;31mFileNotFoundError\u001b[0m                         Traceback (most recent call last)",
      "Cell \u001b[1;32mIn[15], line 1\u001b[0m\n\u001b[1;32m----> 1\u001b[0m f \u001b[38;5;241m=\u001b[39m \u001b[38;5;28mopen\u001b[39m(\u001b[38;5;124m'\u001b[39m\u001b[38;5;124massets/travel_plans.txt\u001b[39m\u001b[38;5;124m'\u001b[39m, \u001b[38;5;124m'\u001b[39m\u001b[38;5;124mr\u001b[39m\u001b[38;5;124m'\u001b[39m)\n\u001b[0;32m      2\u001b[0m first_chars \u001b[38;5;241m=\u001b[39m f\u001b[38;5;241m.\u001b[39mread(\u001b[38;5;241m33\u001b[39m)\n\u001b[0;32m      3\u001b[0m \u001b[38;5;28mprint\u001b[39m(first_chars)\n",
      "File \u001b[1;32mc:\\Users\\info\\anaconda3\\Lib\\site-packages\\IPython\\core\\interactiveshell.py:286\u001b[0m, in \u001b[0;36m_modified_open\u001b[1;34m(file, *args, **kwargs)\u001b[0m\n\u001b[0;32m    279\u001b[0m \u001b[38;5;28;01mif\u001b[39;00m file \u001b[38;5;129;01min\u001b[39;00m {\u001b[38;5;241m0\u001b[39m, \u001b[38;5;241m1\u001b[39m, \u001b[38;5;241m2\u001b[39m}:\n\u001b[0;32m    280\u001b[0m     \u001b[38;5;28;01mraise\u001b[39;00m \u001b[38;5;167;01mValueError\u001b[39;00m(\n\u001b[0;32m    281\u001b[0m         \u001b[38;5;124mf\u001b[39m\u001b[38;5;124m\"\u001b[39m\u001b[38;5;124mIPython won\u001b[39m\u001b[38;5;124m'\u001b[39m\u001b[38;5;124mt let you open fd=\u001b[39m\u001b[38;5;132;01m{\u001b[39;00mfile\u001b[38;5;132;01m}\u001b[39;00m\u001b[38;5;124m by default \u001b[39m\u001b[38;5;124m\"\u001b[39m\n\u001b[0;32m    282\u001b[0m         \u001b[38;5;124m\"\u001b[39m\u001b[38;5;124mas it is likely to crash IPython. If you know what you are doing, \u001b[39m\u001b[38;5;124m\"\u001b[39m\n\u001b[0;32m    283\u001b[0m         \u001b[38;5;124m\"\u001b[39m\u001b[38;5;124myou can use builtins\u001b[39m\u001b[38;5;124m'\u001b[39m\u001b[38;5;124m open.\u001b[39m\u001b[38;5;124m\"\u001b[39m\n\u001b[0;32m    284\u001b[0m     )\n\u001b[1;32m--> 286\u001b[0m \u001b[38;5;28;01mreturn\u001b[39;00m io_open(file, \u001b[38;5;241m*\u001b[39margs, \u001b[38;5;241m*\u001b[39m\u001b[38;5;241m*\u001b[39mkwargs)\n",
      "\u001b[1;31mFileNotFoundError\u001b[0m: [Errno 2] No such file or directory: 'assets/travel_plans.txt'"
     ]
    }
   ],
   "source": [
    "f = open('assets/travel_plans.txt', 'r')\n",
    "first_chars = f.read(33)\n",
    "print(first_chars)"
   ]
  },
  {
   "cell_type": "markdown",
   "id": "404d8d52",
   "metadata": {},
   "source": [
    "Q: Using the file assets/school_prompt.txt, if the character ‘p’ is in a word, then add the word to a list called p_words."
   ]
  },
  {
   "cell_type": "code",
   "execution_count": null,
   "id": "4ae52509",
   "metadata": {},
   "outputs": [],
   "source": [
    "fileref = open('assets/school_prompt.txt', 'r')\n",
    "words = fileref.read().split()\n",
    "p_words = [word for word in words if 'p' in word]"
   ]
  },
  {
   "cell_type": "markdown",
   "id": "9a87885d",
   "metadata": {},
   "source": [
    "Q: The textfile, assets/travel_plans.txt, contains the summer travel plans for someone with some commentary. Find the total number of characters in the file and save to the variable num."
   ]
  },
  {
   "cell_type": "markdown",
   "id": "c72dc6cf",
   "metadata": {},
   "source": [
    "Q: We have provided a file called assets/emotion_words.txt that contains lines of words that describe emotions. Find the total number of words in the file and assign this value to the variable num_words."
   ]
  },
  {
   "cell_type": "markdown",
   "id": "e8cb7f55",
   "metadata": {},
   "source": [
    "Q: Assign to the variable num_lines the number of lines in the file assets/school_prompt.txt."
   ]
  },
  {
   "cell_type": "markdown",
   "id": "b10944c6",
   "metadata": {},
   "source": [
    "Q: Create a list called emotions that contains the first word of every line in assets/emotion_words.txt."
   ]
  },
  {
   "cell_type": "markdown",
   "id": "2009d802",
   "metadata": {},
   "source": [
    "Q: Assign the first 33 characters from the textfile, assets/travel_plans.txt to the variable first_chars"
   ]
  },
  {
   "cell_type": "markdown",
   "id": "dea9ac0a",
   "metadata": {},
   "source": [
    "Q: Using the file assets/school_prompt.txt, if the character ‘p’ is in a word, then add the word to a list called p_words"
   ]
  },
  {
   "cell_type": "markdown",
   "id": "ca0e072e",
   "metadata": {},
   "source": [
    "Q:Iterating over Dictionaries Methode"
   ]
  },
  {
   "cell_type": "code",
   "execution_count": null,
   "id": "cc7d5df5",
   "metadata": {},
   "outputs": [
    {
     "name": "stdout",
     "output_type": "stream",
     "text": [
      "Got key apples which maps to value 430\n",
      "Got key bananas which maps to value 312\n",
      "Got key pears which maps to value 217\n",
      "Got key oranges which maps to value 525\n",
      "['apples', 'bananas', 'pears', 'oranges']\n",
      "apples\n"
     ]
    }
   ],
   "source": [
    "inventory = {'apples': 430, 'bananas': 312, 'pears': 217, 'oranges': 525}\n",
    "\n",
    "for akey in inventory.keys():     # the order in which we get the keys is not defined\n",
    "    print(\"Got key\", akey, \"which maps to value\", inventory[akey])\n",
    "\n",
    "ks = list(inventory.keys())       # Make a list of all of the keys\n",
    "print(ks)\n",
    "print(ks[0])                      # Display the first key"
   ]
  },
  {
   "cell_type": "markdown",
   "id": "0059c705",
   "metadata": {},
   "source": [
    "The values method returns a collection of the values in the dictionary. Here’s an example that displays a list of the values:"
   ]
  },
  {
   "cell_type": "code",
   "execution_count": null,
   "id": "b2bd7770",
   "metadata": {},
   "outputs": [
    {
     "name": "stdout",
     "output_type": "stream",
     "text": [
      "[430, 312, 525, 217]\n",
      "Got 430\n",
      "Got 312\n",
      "Got 525\n",
      "Got 217\n"
     ]
    }
   ],
   "source": [
    "inventory = {'apples': 430, 'bananas': 312, 'oranges': 525, 'pears': 217}\n",
    "\n",
    "print(list(inventory.values()))\n",
    "\n",
    "for v in inventory.values():\n",
    "    print(\"Got\", v)"
   ]
  },
  {
   "cell_type": "markdown",
   "id": "a0591760",
   "metadata": {},
   "source": [
    "The items method returns a collection of tuples containing each key and its associated value"
   ]
  },
  {
   "cell_type": "code",
   "execution_count": null,
   "id": "ed7a5afe",
   "metadata": {},
   "outputs": [
    {
     "name": "stdout",
     "output_type": "stream",
     "text": [
      "[('apples', 430), ('bananas', 312), ('oranges', 525), ('pears', 217)]\n",
      "Got apples that maps to 430\n",
      "Got bananas that maps to 312\n",
      "Got oranges that maps to 525\n",
      "Got pears that maps to 217\n"
     ]
    }
   ],
   "source": [
    "inventory = {'apples': 430, 'bananas': 312, 'oranges': 525, 'pears': 217}\n",
    "\n",
    "print(list(inventory.items()))\n",
    "\n",
    "for k, v in inventory.items():\n",
    "    print(\"Got\", k, \"that maps to\", v)"
   ]
  },
  {
   "cell_type": "markdown",
   "id": "95e4090d",
   "metadata": {},
   "source": [
    "The first approach is to use the in and not in operators, which can test if a key is in the dictionary"
   ]
  },
  {
   "cell_type": "code",
   "execution_count": null,
   "id": "7ecb5bf3",
   "metadata": {},
   "outputs": [
    {
     "name": "stdout",
     "output_type": "stream",
     "text": [
      "True\n",
      "False\n",
      "312\n"
     ]
    }
   ],
   "source": [
    "inventory = {'apples': 430, 'bananas': 312, 'oranges': 525, 'pears': 217}\n",
    "print('apples' in inventory)\n",
    "print('cherries' in inventory)\n",
    "\n",
    "if 'bananas' in inventory:\n",
    "    print(inventory['bananas'])\n",
    "else:\n",
    "    print(\"We have no bananas\")"
   ]
  },
  {
   "cell_type": "markdown",
   "id": "9e4838af",
   "metadata": {},
   "source": [
    "The second approach is to use the get method. get retrieves the value associated with a key, similar to the [] operator. The important difference is that get will not cause a runtime error if the key is not present. It will instead return the value None. There exists a variation of get that allows a second parameter that serves as an alternative return value in the case where the key is not present. This can be seen in the final example below. In this case, since “cherries” is not a key, get returns 0 (instead of None)."
   ]
  },
  {
   "cell_type": "code",
   "execution_count": null,
   "id": "6e378f9b",
   "metadata": {},
   "outputs": [
    {
     "name": "stdout",
     "output_type": "stream",
     "text": [
      "430\n",
      "None\n",
      "0\n"
     ]
    }
   ],
   "source": [
    "inventory = {'apples': 430, 'bananas': 312, 'oranges': 525, 'pears': 217}\n",
    "\n",
    "print(inventory.get(\"apples\"))\n",
    "print(inventory.get(\"cherries\"))\n",
    "\n",
    "print(inventory.get(\"cherries\",0))"
   ]
  },
  {
   "cell_type": "code",
   "execution_count": null,
   "id": "65fa3369",
   "metadata": {},
   "outputs": [
    {
     "name": "stdout",
     "output_type": "stream",
     "text": [
      "2\n"
     ]
    }
   ],
   "source": [
    "# What is printed by the following statements? o/p divides 12 by 6 = 2\n",
    "mydict = {\"cat\":12, \"dog\":6, \"elephant\":23, \"bear\":20}\n",
    "answer = mydict.get(\"cat\")//mydict.get(\"dog\")\n",
    "print(answer)"
   ]
  },
  {
   "cell_type": "code",
   "execution_count": null,
   "id": "f6c96060",
   "metadata": {},
   "outputs": [
    {
     "name": "stdout",
     "output_type": "stream",
     "text": [
      "True\n"
     ]
    }
   ],
   "source": [
    "# What is printed by the following statements? : True\n",
    "mydict = {\"cat\":12, \"dog\":6, \"elephant\":23, \"bear\":20}\n",
    "print(\"dog\" in mydict)"
   ]
  },
  {
   "cell_type": "code",
   "execution_count": null,
   "id": "c1559585",
   "metadata": {},
   "outputs": [
    {
     "name": "stdout",
     "output_type": "stream",
     "text": [
      "False\n"
     ]
    }
   ],
   "source": [
    "# What is printed by the following statements? :Fals\n",
    "mydict = {\"cat\":12, \"dog\":6, \"elephant\":23, \"bear\":20}\n",
    "print(23 in mydict)"
   ]
  },
  {
   "cell_type": "code",
   "execution_count": null,
   "id": "a66bcab2",
   "metadata": {},
   "outputs": [
    {
     "name": "stdout",
     "output_type": "stream",
     "text": [
      "43\n"
     ]
    }
   ],
   "source": [
    "# What is printed by the following statements?\n",
    "\n",
    "total = 0\n",
    "mydict = {\"cat\":12, \"dog\":6, \"elephant\":23, \"bear\":20}\n",
    "for akey in mydict:\n",
    "   if len(akey) > 3:\n",
    "      total = total + mydict[akey]\n",
    "print(total)"
   ]
  },
  {
   "cell_type": "code",
   "execution_count": null,
   "id": "ecddeacc",
   "metadata": {},
   "outputs": [
    {
     "name": "stdout",
     "output_type": "stream",
     "text": [
      "['Shooting', 'Fencing', 'Judo', 'Swimming', 'Diving']\n"
     ]
    }
   ],
   "source": [
    "# 5. We have a dictionary of the specific events that Italy has won medals in and the number of medals they have won for each event. \n",
    "# Assign to the variable events a list of the keys from the dictionary medal_events.\n",
    "# Use a dictionary method and cast to a list; do not hard code or accumulate a list via iteration.\n",
    "medal_events = {'Shooting': 7, 'Fencing': 4, 'Judo': 2, 'Swimming': 3, 'Diving': 2}\n",
    "events = [] \n",
    "events = list(medal_events.keys())\n",
    "print(events)\n"
   ]
  },
  {
   "cell_type": "markdown",
   "id": "0eac730b",
   "metadata": {},
   "source": [
    "Aliasing and copying: Whenever two variables refer to the same dictionary object, changes to one affect the other. For example, opposites is a dictionary that contains pairs of opposites"
   ]
  },
  {
   "cell_type": "code",
   "execution_count": null,
   "id": "385a4a16",
   "metadata": {},
   "outputs": [
    {
     "name": "stdout",
     "output_type": "stream",
     "text": [
      "True\n",
      "left\n"
     ]
    }
   ],
   "source": [
    "opposites = {'up': 'down', 'right': 'wrong', 'true': 'false'}\n",
    "alias = opposites\n",
    "\n",
    "print(alias is opposites)\n",
    "\n",
    "alias['right'] = 'left'\n",
    "print(opposites['right'])"
   ]
  },
  {
   "cell_type": "code",
   "execution_count": null,
   "id": "24d61d81",
   "metadata": {},
   "outputs": [
    {
     "name": "stdout",
     "output_type": "stream",
     "text": [
      "999\n"
     ]
    }
   ],
   "source": [
    "# What is printed by the following statements?\n",
    "mydict = {\"cat\":12, \"dog\":6, \"elephant\":23, \"bear\":20}\n",
    "yourdict = mydict\n",
    "yourdict[\"elephant\"] = 999\n",
    "print(mydict[\"elephant\"])"
   ]
  },
  {
   "cell_type": "markdown",
   "id": "8e0ca18d",
   "metadata": {},
   "source": [
    "At the halfway point during the Rio Olympics, the United States had 70 medals, Great Britain had 38 medals, China had 45 medals, Russia had 30 medals, and Germany had 17 medals. Create a dictionary assigned to the variable medal_count with the country names as the keys and the number of medals the country had as each key’s value."
   ]
  },
  {
   "cell_type": "code",
   "execution_count": null,
   "id": "c3638b73",
   "metadata": {},
   "outputs": [],
   "source": [
    "medal_count = {'United States': 70, 'Great Britain':38, 'China':45, 'Russia':30,'Germany':17}"
   ]
  },
  {
   "cell_type": "markdown",
   "id": "61270c4c",
   "metadata": {},
   "source": [
    "Given the dictionary swimmers, add an additional key-value pair to the dictionary with \"Phelps\" as the key and the integer 23 as the value. Do not rewrite the entire dictionary."
   ]
  },
  {
   "cell_type": "code",
   "execution_count": null,
   "id": "772762f7",
   "metadata": {},
   "outputs": [
    {
     "name": "stdout",
     "output_type": "stream",
     "text": [
      "{'Manuel': 4, 'Lochte': 12, 'Adrian': 7, 'Ledecky': 5, 'Dirado': 4, 'Phelps': 23}\n"
     ]
    }
   ],
   "source": [
    "swimmers = {\"Manuel\": 4, \"Lochte\": 12, \"Adrian\": 7, \"Ledecky\": 5, \"Dirado\": 4}\n",
    "swimmers['Phelps'] = 23\n",
    "print(swimmers)\n"
   ]
  },
  {
   "cell_type": "markdown",
   "id": "f6ee28bc",
   "metadata": {},
   "source": [
    "Add the string “hockey” as a key to the dictionary sports_periods and assign it the value of 3. Do not rewrite the entire dictionary."
   ]
  },
  {
   "cell_type": "code",
   "execution_count": null,
   "id": "d3ffdcc2",
   "metadata": {},
   "outputs": [
    {
     "name": "stdout",
     "output_type": "stream",
     "text": [
      "{'baseball': 9, 'basketball': 4, 'soccer': 4, 'cricket': 2, 'hockey': 3}\n"
     ]
    }
   ],
   "source": [
    "sports_periods = {\"baseball\": 9, \"basketball\": 4, \"soccer\": 4, \"cricket\": 2}\n",
    "sports_periods['hockey'] = 3\n",
    "print(sports_periods)"
   ]
  },
  {
   "cell_type": "markdown",
   "id": "173d8514",
   "metadata": {},
   "source": [
    "The dictionary golds contains information about how many gold medals each country won in the 2016 Olympics. But today, Spain won 2 more gold medals. Update golds to reflect this information."
   ]
  },
  {
   "cell_type": "code",
   "execution_count": null,
   "id": "6559387b",
   "metadata": {},
   "outputs": [
    {
     "name": "stdout",
     "output_type": "stream",
     "text": [
      "{'Italy': 12, 'USA': 33, 'Brazil': 15, 'China': 27, 'Spain': 21, 'Canada': 22, 'Argentina': 8, 'England': 29}\n"
     ]
    }
   ],
   "source": [
    "golds = {\n",
    "    \"Italy\": 12,\n",
    "    \"USA\": 33,\n",
    "    \"Brazil\": 15,\n",
    "    \"China\": 27,\n",
    "    \"Spain\": 19,\n",
    "    \"Canada\": 22,\n",
    "    \"Argentina\": 8,\n",
    "    \"England\": 29,\n",
    "}\n",
    "\n",
    "golds['Spain'] = golds['Spain'] + 2\n",
    "print(golds)"
   ]
  },
  {
   "cell_type": "markdown",
   "id": "1148ecc3",
   "metadata": {},
   "source": [
    "Create a list of the countries that are in the dictionary golds, and assign that list to the variable name countries. Do not hard code this"
   ]
  },
  {
   "cell_type": "code",
   "execution_count": null,
   "id": "502b426f",
   "metadata": {},
   "outputs": [
    {
     "name": "stdout",
     "output_type": "stream",
     "text": [
      "['Italy', 'USA', 'Brazil', 'China', 'Spain', 'Canada', 'Argentina', 'England']\n"
     ]
    }
   ],
   "source": [
    "golds = {\n",
    "    \"Italy\": 12,\n",
    "    \"USA\": 33,\n",
    "    \"Brazil\": 15,\n",
    "    \"China\": 27,\n",
    "    \"Spain\": 19,\n",
    "    \"Canada\": 22,\n",
    "    \"Argentina\": 8,\n",
    "    \"England\": 29,\n",
    "}\n",
    "countries = None\n",
    "\n",
    "countries = list(golds.keys())\n",
    "print(countries) "
   ]
  },
  {
   "cell_type": "markdown",
   "id": "142477e5",
   "metadata": {},
   "source": [
    "Provided is the dictionary, medal_count, which lists countries and their respective medal count at the halfway point in the 2016 Rio Olympics. Using dictionary mechanics, assign the medal count value for \"Belarus\" to the variable belarus. Do not hardcode this."
   ]
  },
  {
   "cell_type": "code",
   "execution_count": null,
   "id": "3d235cec",
   "metadata": {},
   "outputs": [
    {
     "name": "stdout",
     "output_type": "stream",
     "text": [
      "4\n"
     ]
    }
   ],
   "source": [
    "# Using dictionary mechanics, assign the medal count value for \"Belarus\" to the variable belarus. Do not hardcode this.\n",
    "medal_count = { \"United States\": 70, \"Great Britain\": 38, \"China\": 45, \"Russia\": 30, \"Belarus\":4 }\n",
    "\n",
    "belarus = medal_count ['Belarus']\n",
    "print(belarus)\n"
   ]
  },
  {
   "cell_type": "markdown",
   "id": "a7697438",
   "metadata": {},
   "source": [
    "The dictionary total_golds contains the total number of gold medals that countries have won over the course of history. Use dictionary mechanics to find the number of golds Chile has won, and assign that number to the variable name chile_golds. Do not hard code this!"
   ]
  },
  {
   "cell_type": "code",
   "execution_count": null,
   "id": "79fff5e7",
   "metadata": {},
   "outputs": [
    {
     "name": "stdout",
     "output_type": "stream",
     "text": [
      "10\n"
     ]
    }
   ],
   "source": [
    "total_golds = {\n",
    "    \"Italy\": 114,\n",
    "    \"Germany\": 782,\n",
    "    \"Chile\": 10,\n",
    "    \"Sweden\": 627,\n",
    "}\n",
    "\n",
    "chile_golds = total_golds [\"Chile\"]\n",
    "print(chile_golds)"
   ]
  },
  {
   "cell_type": "markdown",
   "id": "f0830545",
   "metadata": {},
   "source": [
    "Provided is a dictionary called US_medals which has the first 70 metals that the United States has won in 2016, and in which category they have won it in. Using dictionary mechanics, assign the value of the key \"Fencing\" to a variable fencing_value. Remember, do not hard code this"
   ]
  },
  {
   "cell_type": "code",
   "execution_count": null,
   "id": "de146201",
   "metadata": {},
   "outputs": [
    {
     "name": "stdout",
     "output_type": "stream",
     "text": [
      "3\n"
     ]
    }
   ],
   "source": [
    "US_medals = {\n",
    "    \"Swimming\": 33,\n",
    "    \"Gymnastics\": 6,\n",
    "    \"Track & Field\": 6,\n",
    "    \"Fencing\": 3, \n",
    "}\n",
    "fencing_value = US_medals[\"Fencing\"]\n",
    "print(fencing_value)"
   ]
  },
  {
   "cell_type": "markdown",
   "id": "4b0f7bbb",
   "metadata": {},
   "source": [
    "### Dictionary Accumulation "
   ]
  },
  {
   "cell_type": "code",
   "execution_count": null,
   "id": "fcd3729b",
   "metadata": {},
   "outputs": [],
   "source": [
    "# P1:\n",
    "d = {}\n",
    "f = open('f.txt')\n",
    "for c in f.read():\n",
    "    if c not in f:\n",
    "        d[c] = 0\n",
    "    d[c] += 1\n",
    "f.close()\n",
    "\n",
    "#P2: ok\n",
    "d = {}\n",
    "f = open('f.txt')\n",
    "for c in f.read():\n",
    "    if c not in d:\n",
    "        d[c] = 0\n",
    "    d[c] += 1\n",
    "f.close()\n",
    "\n",
    "#P3: ok\n",
    "\n",
    "d = {}\n",
    "f = open('f.txt')\n",
    "for c in f.read():\n",
    "    if c in d:\n",
    "        d[c] += 1\n",
    "    else:\n",
    "        d[c] = 1\n",
    "f.close()\n",
    "\n",
    "#P4:\n",
    "\n",
    "d = {}\n",
    "f = open('f.txt')\n",
    "for c in f.read():\n",
    "    if c not in d:\n",
    "        d[c] = 1\n",
    "    d[c] += 1\n",
    "f.close()\n",
    "\n",
    "#P5:\n",
    "\n",
    "d = {}\n",
    "f = open('f.txt')\n",
    "for c in f.read():\n",
    "    if c in d:\n",
    "        d[c] += 1\n",
    "    else:\n",
    "        d[c] = 0\n",
    "f.close()"
   ]
  },
  {
   "cell_type": "markdown",
   "id": "e1f35322",
   "metadata": {},
   "source": [
    "#P: If we want to find out how often the letter ‘t’ occurs, we can accumulate the result in a count variable (scarlet.txt = school_promt2.txt)"
   ]
  },
  {
   "cell_type": "code",
   "execution_count": null,
   "id": "a3c845e9",
   "metadata": {},
   "outputs": [
    {
     "name": "stdout",
     "output_type": "stream",
     "text": [
      "t: 144 occurrences\n"
     ]
    }
   ],
   "source": [
    "\n",
    "f = open('C:/Users/info/Dropbox/Python coding-1/Python Basics/school_prompt2.txt', 'r')\n",
    "txt = f.read()\n",
    "# now txt is one long string containing all the characters\n",
    "t_count = 0 #initialize the accumulator variable\n",
    "for c in txt:\n",
    "    if c == 't':\n",
    "        t_count = t_count + 1   #increment the counter\n",
    "print(\"t: \" + str(t_count) + \" occurrences\")"
   ]
  },
  {
   "cell_type": "markdown",
   "id": "0ea767bb",
   "metadata": {},
   "source": [
    "#P: We can accumulate counts for more than one character as we traverse the text. Suppose, for example, we wanted to compare the counts of ‘t’ and ‘s’ in the text"
   ]
  },
  {
   "cell_type": "code",
   "execution_count": null,
   "id": "95cd5777",
   "metadata": {},
   "outputs": [
    {
     "name": "stdout",
     "output_type": "stream",
     "text": [
      "t: 144 occurrences\n",
      "s: 100 occurrences\n"
     ]
    }
   ],
   "source": [
    "f = open('C:/Users/info/Dropbox/Python coding-1/Python Basics/school_prompt2.txt', 'r')\n",
    "txt = f.read()\n",
    "# now txt is one long string containing all the characters\n",
    "t_count = 0 #initialize the accumulator variable for 't'\n",
    "s_count = 0 #initialize the accumulator variable for 's'\n",
    "for c in txt:\n",
    "    if c == 't':\n",
    "        t_count = t_count + 1   #increment the counter\n",
    "    elif c == 's':\n",
    "        s_count = s_count + 1   #increment the counter\n",
    "print(\"t: \" + str(t_count) + \" occurrences\")\n",
    "print(\"s: \" + str(s_count) + \" occurrences\")\n",
    "\n"
   ]
  },
  {
   "cell_type": "markdown",
   "id": "be72df19",
   "metadata": {},
   "source": [
    "#P: get tedious if we try to accumulate counts for all the letters"
   ]
  },
  {
   "cell_type": "code",
   "execution_count": null,
   "id": "b6cc65f1",
   "metadata": {},
   "outputs": [
    {
     "name": "stdout",
     "output_type": "stream",
     "text": [
      "t: 144 occurrences\n",
      "s: 100 occurrences\n"
     ]
    }
   ],
   "source": [
    "f = open('C:/Users/info/Dropbox/Python coding-1/Python Basics/school_prompt2.txt', 'r')\n",
    "txt = f.read()\n",
    "# now txt is one long string containing all the characters\n",
    "letter_counts = {} # start with an empty dictionary\n",
    "letter_counts['t'] = 0  # initialize the t counter\n",
    "letter_counts['s'] = 0  # initialize the s counter\n",
    "for c in txt:\n",
    "    if c == 't':\n",
    "        letter_counts['t'] = letter_counts['t'] + 1  # increment the t counter\n",
    "    elif c == 's':\n",
    "        letter_counts['s'] = letter_counts['s'] + 1  # increment the s counter\n",
    "\n",
    "print(\"t: \" + str(letter_counts['t']) + \" occurrences\")\n",
    "print(\"s: \" + str(letter_counts['s']) + \" occurrences\")"
   ]
  },
  {
   "cell_type": "markdown",
   "id": "a2c953bd",
   "metadata": {},
   "source": [
    "We will have to initialize a lot of accumulators, and there will be a very long if..elif..elif statement. Using a dictionary, we can do a lot better.\n",
    "\n",
    "One dictionary can hold all of the accumulator variables. Each key in the dictionary will be one letter, and the corresponding value will be the count so far of how many times that letter has occurred."
   ]
  },
  {
   "cell_type": "code",
   "execution_count": null,
   "id": "01aae729",
   "metadata": {},
   "outputs": [
    {
     "name": "stdout",
     "output_type": "stream",
     "text": [
      "t: 144 occurrences\n",
      "s: 100 occurrences\n"
     ]
    }
   ],
   "source": [
    "f = open('C:/Users/info/Dropbox/Python coding-1/Python Basics/school_prompt2.txt', 'r')\n",
    "txt = f.read()\n",
    "# now txt is one long string containing all the characters\n",
    "letter_counts = {} # start with an empty dictionary\n",
    "letter_counts['t'] = 0  # initialize the t counter\n",
    "letter_counts['s'] = 0  # initialize the s counter\n",
    "for c in txt:\n",
    "    if c == 't':\n",
    "        letter_counts['t'] = letter_counts['t'] + 1  # increment the t counter\n",
    "    elif c == 's':\n",
    "        letter_counts['s'] = letter_counts['s'] + 1  # increment the s counter\n",
    "\n",
    "print(\"t: \" + str(letter_counts['t']) + \" occurrences\")\n",
    "print(\"s: \" + str(letter_counts['s']) + \" occurrences\")"
   ]
  },
  {
   "cell_type": "code",
   "execution_count": null,
   "id": "379823ec",
   "metadata": {},
   "outputs": [
    {
     "name": "stdout",
     "output_type": "stream",
     "text": [
      "t: 144 occurrences\n",
      "s: 100 occurrences\n"
     ]
    }
   ],
   "source": [
    "f = open('C:/Users/info/Dropbox/Python coding-1/Python Basics/school_prompt2.txt', 'r')\n",
    "txt = f.read()\n",
    "# now txt is one long string containing all the characters\n",
    "letter_counts = {} # start with an empty dictionary\n",
    "letter_counts['t'] = 0  # intiialize the t counter\n",
    "letter_counts['s'] = 0  # initialize the s counter\n",
    "for c in txt:\n",
    "    if c == 't':\n",
    "        letter_counts[c] = letter_counts[c] + 1   # increment the t counter\n",
    "    elif c == 's':\n",
    "        letter_counts[c] = letter_counts[c] + 1   # increment the s counter\n",
    "\n",
    "print(\"t: \" + str(letter_counts['t']) + \" occurrences\")\n",
    "print(\"s: \" + str(letter_counts['s']) + \" occurrences\")"
   ]
  },
  {
   "cell_type": "code",
   "execution_count": null,
   "id": "3c277f40",
   "metadata": {},
   "outputs": [
    {
     "name": "stdout",
     "output_type": "stream",
     "text": [
      "t: 144 occurrences\n",
      "s: 100 occurrences\n"
     ]
    }
   ],
   "source": [
    "f = open('C:/Users/info/Dropbox/Python coding-1/Python Basics/school_prompt2.txt', 'r')\n",
    "txt = f.read()\n",
    "# now txt is one long string containing all the characters\n",
    "letter_counts = {} # start with an empty dictionary\n",
    "for c in txt:\n",
    "    if c not in letter_counts:\n",
    "        # we have not seen this character before, so initialize a counter for it\n",
    "        letter_counts[c] = 0\n",
    "\n",
    "    #whether we've seen it before or not, increment its counter\n",
    "    letter_counts[c] = letter_counts[c] + 1\n",
    "\n",
    "print(\"t: \" + str(letter_counts['t']) + \" occurrences\")\n",
    "print(\"s: \" + str(letter_counts['s']) + \" occurrences\")"
   ]
  },
  {
   "cell_type": "markdown",
   "id": "ae5596e1",
   "metadata": {},
   "source": [
    "Generalize that to print out the occurrence counts for all of the characters. "
   ]
  },
  {
   "cell_type": "code",
   "execution_count": null,
   "id": "14b206a4",
   "metadata": {},
   "outputs": [
    {
     "name": "stdout",
     "output_type": "stream",
     "text": [
      "w: 19 occurrences\n",
      "h: 70 occurrences\n",
      "G: 1 occurrences\n"
     ]
    }
   ],
   "source": [
    "f = open('C:/Users/info/Dropbox/Python coding-1/Python Basics/school_prompt2.txt', 'r')\n",
    "txt = f.read()\n",
    "letter_counts = {}\n",
    "for c in txt:\n",
    "    if c not in letter_counts:\n",
    "        letter_counts[c] = 0\n",
    "\n",
    "    letter_counts[c] = letter_counts[c] + 1\n",
    "\n",
    "# Write a loop that prints the letters and their counts\n",
    "print(\"w: \" + str(letter_counts['w']) + \" occurrences\")\n",
    "print(\"h: \" + str(letter_counts['h']) + \" occurrences\")\n",
    "print(\"G: \" + str(letter_counts['G']) + \" occurrences\")"
   ]
  },
  {
   "cell_type": "code",
   "execution_count": null,
   "id": "6b1c0837",
   "metadata": {},
   "outputs": [
    {
     "name": "stdout",
     "output_type": "stream",
     "text": [
      "{'The': 1, 'dog': 1, 'chased': 1, 'the': 3, 'rabbit': 2, 'into': 1, 'forest': 1, 'but': 1, 'was': 1, 'too': 1, 'quick.': 1}\n"
     ]
    }
   ],
   "source": [
    "# Split the string sentence into a list of words, then create a dictionary named word_counts that contains each word and the number of times it occurs.\n",
    "\n",
    "sentence = \"The dog chased the rabbit into the forest but the rabbit was too quick.\"\n",
    "words=[]\n",
    "word_counts={}\n",
    "\n",
    "for i in sentence.split():\n",
    "     words.append(i)\n",
    "for c in words:\n",
    "      if c not in word_counts:\n",
    "             word_counts[c] = 0\n",
    "      word_counts[c] = word_counts[c] + 1    \n",
    "print(word_counts)   "
   ]
  },
  {
   "cell_type": "code",
   "execution_count": null,
   "id": "5d43c65d",
   "metadata": {},
   "outputs": [
    {
     "name": "stdout",
     "output_type": "stream",
     "text": [
      "{'w': 1, 'h': 1, 'a': 2, 't': 1, ' ': 3, 'c': 1, 'n': 1, 'I': 1, 'd': 1, 'o': 1}\n"
     ]
    }
   ],
   "source": [
    "# Create a dictionary called char_d. The keys of the dictionary should be each character in stri, and the value for each key should be how many times the character occurs in the string.\n",
    "stri = \"what can I do\"\n",
    "char_d ={}\n",
    "for c in stri:\n",
    "     if c not in char_d:\n",
    "            char_d[c] = 0\n",
    "     char_d[c] = char_d[c]+1\n",
    "print(char_d) "
   ]
  },
  {
   "cell_type": "code",
   "execution_count": null,
   "id": "39492094",
   "metadata": {},
   "outputs": [
    {
     "name": "stdout",
     "output_type": "stream",
     "text": [
      "19\n"
     ]
    }
   ],
   "source": [
    "# The dictionary travel contains the number of countries within each continent that Jackie has traveled to. Find the total number of countries that Jackie has been to, and save this number to the variable name total. Do not hard code this!\n",
    "travel = {\"North America\": 2, \"Europe\": 8, \"South America\": 3, \"Asia\": 4, \"Africa\":1, \"Antarctica\": 0, \"Australia\": 1}\n",
    "total = 0 # intialize accumulatore variable\n",
    "\n",
    "for continent in travel:\n",
    "    total = total + travel[continent]\n",
    "print(total)"
   ]
  },
  {
   "cell_type": "code",
   "execution_count": null,
   "id": "cf9c1d34",
   "metadata": {},
   "outputs": [
    {
     "name": "stdout",
     "output_type": "stream",
     "text": [
      "63\n"
     ]
    }
   ],
   "source": [
    "# schedule is a dictionary where a class name is a key and its value is how many credits it was worth. Go through and accumulate the total number of credits that have been earned so far and assign that to the variable total_credits. Do not hardcode.\n",
    "schedule = {\"UARTS 150\": 3, \"SPANISH 103\": 4, \"ENGLISH 125\": 4, \"SI 110\": 4, \"ENS 356\": 2, \"WOMENSTD 240\": 4, \"SI 106\": 4, \"BIO 118\": 3, \"SPANISH 231\": 4, \"PSYCH 111\": 4, \"LING 111\": 3, \"SPANISH 232\": 4, \"STATS 250\": 4, \"SI 206\": 4, \"COGSCI 200\": 4, \"AMCULT 202\": 4, \"ANTHRO 101\": 4}\n",
    "\n",
    "total_credits = 0\n",
    "for courses in schedule:\n",
    "    total_credits = total_credits + schedule[courses]\n",
    "print(total_credits)"
   ]
  },
  {
   "cell_type": "code",
   "execution_count": null,
   "id": "fb876dfb",
   "metadata": {},
   "outputs": [],
   "source": [
    "# Write a program that finds the key in a dictionary that has the maximum value. If two keys have the same maximum value, it’s OK to print out either one. Fill in the skeleton code"
   ]
  },
  {
   "cell_type": "code",
   "execution_count": null,
   "id": "d2fa77fd",
   "metadata": {},
   "outputs": [
    {
     "name": "stdout",
     "output_type": "stream",
     "text": [
      "x\n"
     ]
    }
   ],
   "source": [
    "# Create a dictionary called d that keeps track of all the characters in the string placement and notes how many times each character was seen. Then, find the key with the lowest value in this dictionary and assign that key to key_with_min_value.\n",
    "placement = \"Beaches are cool places to visit in spring however the Mackinaw Bridge is near. Most people visit Mackinaw later since the island is a cool place to explore.\"\n",
    "d = {}\n",
    "\n",
    "for c in placement:\n",
    "    if c not in d:\n",
    "       d[c] = 0\n",
    "    d[c] = d[c]+1\n",
    "\n",
    "key_with_min_value = 0\n",
    "keys = list(d.keys())\n",
    "min_value = keys[0]\n",
    "for key in keys:\n",
    "    if d[key] < d[min_value]:\n",
    "        min_value = key  \n",
    "key_with_min_value = key      \n",
    "print(key_with_min_value)"
   ]
  },
  {
   "cell_type": "code",
   "execution_count": null,
   "id": "b8384cd7",
   "metadata": {},
   "outputs": [
    {
     "name": "stdout",
     "output_type": "stream",
     "text": [
      "n\n"
     ]
    }
   ],
   "source": [
    "#Create a dictionary called lett_d that keeps track of all of the characters in the string product and notes how many times each character was seen. Then, find the key with the highest value in this dictionary and assign that key to key_with_max_value.\n",
    "product = \"iphone and android phones\"\n",
    "lett_d = {}\n",
    "\n",
    "for c in product:\n",
    "    if c not in lett_d:\n",
    "       lett_d[c] = 0\n",
    "    lett_d[c] = lett_d[c]+1\n",
    "keys = list(lett_d.keys())\n",
    "\n",
    "key_with_max_value = keys[0]\n",
    "for key in keys:\n",
    "    if lett_d[key] > lett_d[key_with_max_value]:\n",
    "        key_with_max_value = key  \n",
    "print(key_with_max_value)"
   ]
  },
  {
   "cell_type": "markdown",
   "id": "ab97d387",
   "metadata": {},
   "source": [
    "### Assessment - Dictionaries"
   ]
  },
  {
   "cell_type": "code",
   "execution_count": null,
   "id": "ec251dda",
   "metadata": {},
   "outputs": [
    {
     "name": "stdout",
     "output_type": "stream",
     "text": [
      "{'United States': 70, 'Great Britain': 38, 'China': 45, 'Russia': 30, 'Germany': 17}\n"
     ]
    }
   ],
   "source": [
    "#Q1: At the halfway point during the Rio Olympics, the United States had 70 medals, Great Britain had 38 medals, China had 45 medals, Russia had 30 medals, and Germany had 17 medals. Create a dictionary assigned to the variable medal_count with the country names as the keys and the number of medals the country had as each key’s value.\n",
    "medal_count={}\n",
    "medal_count[\"United States\"]=70\n",
    "medal_count[\"Great Britain\"]=38\n",
    "medal_count[\"China\"]=45\n",
    "medal_count[\"Russia\"]=30\n",
    "medal_count[\"Germany\"]=17\n",
    "\n",
    "print (medal_count)"
   ]
  },
  {
   "cell_type": "code",
   "execution_count": null,
   "id": "f3b8ad3b",
   "metadata": {},
   "outputs": [
    {
     "name": "stdout",
     "output_type": "stream",
     "text": [
      "{'Manuel': 4, 'Lochte': 12, 'Adrian': 7, 'Ledecky': 5, 'Dirado': 4, 'Phelps': 23}\n"
     ]
    }
   ],
   "source": [
    "#Q: Given the dictionary swimmers, add an additional key-value pair to the dictionary with \"Phelps\" as the key and the integer 23 as the value. Do not rewrite the entire dictionary.\n",
    "swimmers = {'Manuel':4, 'Lochte':12, 'Adrian':7, 'Ledecky':5, 'Dirado':4}\n",
    "swimmers[\"Phelps\"]=23\n",
    "print(swimmers)\n"
   ]
  },
  {
   "cell_type": "code",
   "execution_count": null,
   "id": "e3d1188a",
   "metadata": {},
   "outputs": [
    {
     "name": "stdout",
     "output_type": "stream",
     "text": [
      "{'baseball': 9, 'basketball': 4, 'soccer': 4, 'cricket': 2, 'hockey': 3}\n"
     ]
    }
   ],
   "source": [
    "#Q: Add the string “hockey” as a key to the dictionary sports_periods and assign it the value of 3. Do not rewrite the entire dictionary.\n",
    "sports_periods = {'baseball': 9, 'basketball': 4, 'soccer': 4, 'cricket': 2}\n",
    "sports_periods[\"hockey\"]=3\n",
    "print(sports_periods)"
   ]
  },
  {
   "cell_type": "code",
   "execution_count": null,
   "id": "f3a46b1d",
   "metadata": {},
   "outputs": [
    {
     "name": "stdout",
     "output_type": "stream",
     "text": [
      "{'Italy': 12, 'USA': 33, 'Brazil': 15, 'China': 27, 'Spain': 21, 'Canada': 22, 'Argentina': 8, 'England': 29}\n"
     ]
    }
   ],
   "source": [
    "#Q:The dictionary golds contains information about how many gold medals each country won in the 2016 Olympics. But today, Spain won 2 more gold medals. Update golds to reflect this information.\n",
    "golds = {\"Italy\": 12, \"USA\": 33, \"Brazil\": 15, \"China\": 27, \"Spain\": 19, \"Canada\": 22, \"Argentina\": 8, \"England\": 29}\n",
    "golds['Spain'] = golds['Spain'] + 2\n",
    "print(golds)\n"
   ]
  },
  {
   "cell_type": "code",
   "execution_count": null,
   "id": "b9392a4e",
   "metadata": {},
   "outputs": [
    {
     "name": "stdout",
     "output_type": "stream",
     "text": [
      "{'Italy': 12, 'USA': 33, 'Brazil': 15, 'China': 27, 'Spain': 19, 'Canada': 22, 'Argentina': 8, 'England': 29}\n"
     ]
    }
   ],
   "source": [
    "#Q: Create a list of the countries that are in the dictionary golds, and assign that list to the variable name countries. Do not hard code this.\n",
    "golds = {\"Italy\": 12, \"USA\": 33, \"Brazil\": 15, \"China\": 27, \"Spain\": 19, \"Canada\": 22, \"Argentina\": 8, \"England\": 29}\n",
    "\n",
    "countries = golds\n",
    "print(countries)"
   ]
  },
  {
   "cell_type": "code",
   "execution_count": null,
   "id": "8cf2b2b6",
   "metadata": {},
   "outputs": [
    {
     "name": "stdout",
     "output_type": "stream",
     "text": [
      "{'United States': 70, 'Great Britain': 38, 'China': 45, 'Russia': 30, 'Germany': 17, 'Italy': 22, 'France': 22, 'Japan': 26, 'Australia': 22, 'South Korea': 14, 'Hungary': 12, 'Netherlands': 10, 'Spain': 5, 'New Zealand': 8, 'Canada': 13, 'Kazakhstan': 8, 'Colombia': 4, 'Switzerland': 5, 'Belgium': 4, 'Thailand': 4, 'Croatia': 3, 'Iran': 3, 'Jamaica': 3, 'South Africa': 7, 'Sweden': 6, 'Denmark': 7, 'North Korea': 6, 'Kenya': 4, 'Brazil': 7, 'Belarus': 4, 'Cuba': 5, 'Poland': 4, 'Romania': 4, 'Slovenia': 3, 'Argentina': 2, 'Bahrain': 2, 'Slovakia': 2, 'Vietnam': 2, 'Czech Republic': 6, 'Uzbekistan': 5}\n"
     ]
    }
   ],
   "source": [
    "#Q: Provided is the dictionary, medal_count, which lists countries and their respective medal count at the halfway point in the 2016 Rio Olympics. Using dictionary mechanics, assign the medal count value for \"Belarus\" to the variable belarus. Do not hardcode this.\n",
    "medal_count = {'United States': 70, 'Great Britain':38, 'China':45, 'Russia':30, 'Germany':17, 'Italy':22, 'France': 22, 'Japan':26, 'Australia':22, 'South Korea':14, 'Hungary':12, 'Netherlands':10, 'Spain':5, 'New Zealand':8, 'Canada':13, 'Kazakhstan':8, 'Colombia':4, 'Switzerland':5, 'Belgium':4, 'Thailand':4, 'Croatia':3, 'Iran':3, 'Jamaica':3, 'South Africa':7, 'Sweden':6, 'Denmark':7, 'North Korea':6, 'Kenya':4, 'Brazil':7, 'Belarus':4, 'Cuba':5, 'Poland':4, 'Romania':4, 'Slovenia':3, 'Argentina':2, 'Bahrain':2, 'Slovakia':2, 'Vietnam':2, 'Czech Republic':6, 'Uzbekistan':5}\n",
    "\n",
    "belarus=medal_count.get('Belarus')\n",
    "print(medal_count)"
   ]
  },
  {
   "cell_type": "code",
   "execution_count": null,
   "id": "9f78fe3d",
   "metadata": {},
   "outputs": [],
   "source": [
    "#Q:The dictionary total_golds contains the total number of gold medals that countries have won over the course of history. Use dictionary mechanics to find the number of golds Chile has won, and assign that number to the variable name chile_golds. Do not hard code this!\n",
    "total_golds = {\"Italy\": 114, \"Germany\": 782, \"Pakistan\": 10, \"Sweden\": 627, \"USA\": 2681, \"Zimbabwe\": 8, \"Greece\": 111, \"Mongolia\": 24, \"Brazil\": 108, \"Croatia\": 34, \"Algeria\": 15, \"Switzerland\": 323, \"Yugoslavia\": 87, \"China\": 526, \"Egypt\": 26, \"Norway\": 477, \"Spain\": 133, \"Australia\": 480, \"Slovakia\": 29, \"Canada\": 22, \"New Zealand\": 100, \"Denmark\": 180, \"Chile\": 13, \"Argentina\": 70, \"Thailand\": 24, \"Cuba\": 209, \"Uganda\": 7,  \"England\": 806, \"Denmark\": 180, \"Ukraine\": 122, \"Bahamas\": 12}\n",
    "\n",
    "chile_golds=total_golds[\"Chile\"]"
   ]
  },
  {
   "cell_type": "code",
   "execution_count": null,
   "id": "d5b9a6ba",
   "metadata": {},
   "outputs": [],
   "source": [
    "#Q:Provided is a dictionary called US_medals which has the first 70 medals that the United States has won in 2016, and in which category they have won it in. Using dictionary mechanics, assign the value of the key \"Fencing\" to a variable fencing_value. Remember, do not hard code this.\n",
    "US_medals = {\"Swimming\": 33, \"Gymnastics\": 6, \"Track & Field\": 6, \"Tennis\": 3, \"Judo\": 2, \"Rowing\": 2, \"Shooting\": 3, \"Cycling - Road\": 1, \"Fencing\": 4, \"Diving\": 2, \"Archery\": 2, \"Cycling - Track\": 1, \"Equestrian\": 2, \"Golf\": 1, \"Weightlifting\": 1}\n",
    "\n",
    "fencing_value = US_medals[\"Fencing\"]"
   ]
  },
  {
   "cell_type": "markdown",
   "id": "cde0aecf",
   "metadata": {},
   "source": [
    "### Assessment - Dictionary Accumulation"
   ]
  },
  {
   "cell_type": "code",
   "execution_count": null,
   "id": "b032fd22",
   "metadata": {},
   "outputs": [
    {
     "name": "stdout",
     "output_type": "stream",
     "text": [
      "18\n"
     ]
    }
   ],
   "source": [
    "#Q: The dictionary Junior shows a schedule for a junior year semester. The key is the course name and the value is the number of credits. Find the total number of credits taken this semester and assign it to the variable credits. Do not hardcode this – use dictionary accumulation!\n",
    "Junior = {'SI 206':4, 'SI 310':4, 'BL 300':3, 'TO 313':3, 'BCOM 350':1, 'MO 300':3}\n",
    "total_credits = 0\n",
    "for creds in Junior:\n",
    "    total_credits = total_credits + Junior[creds]\n",
    "    credits = total_credits\n",
    "print(credits)"
   ]
  },
  {
   "cell_type": "code",
   "execution_count": null,
   "id": "29016185",
   "metadata": {},
   "outputs": [
    {
     "name": "stdout",
     "output_type": "stream",
     "text": [
      "key is:  p  vlaue:  9\n",
      "key is:  e  vlaue:  8\n",
      "key is:  t  vlaue:  1\n",
      "key is:  r  vlaue:  3\n",
      "key is:     vlaue:  7\n",
      "key is:  i  vlaue:  3\n",
      "key is:  c  vlaue:  3\n",
      "key is:  k  vlaue:  3\n",
      "key is:  d  vlaue:  2\n",
      "key is:  a  vlaue:  1\n",
      "key is:  o  vlaue:  1\n",
      "key is:  f  vlaue:  1\n",
      "key is:  l  vlaue:  1\n",
      "key is:  s  vlaue:  1\n"
     ]
    }
   ],
   "source": [
    "#Q:Create a dictionary, freq, that displays each character in string str1 as the key and its frequency as the value.\n",
    "str1 = \"peter piper picked a peck of pickled peppers\"\n",
    "freq={}\n",
    "for i in str1:\n",
    "    if i not in freq:\n",
    "        freq[i]=0\n",
    "    freq[i]=freq[i]+1\n",
    "for i in freq:\n",
    "    print('key is: ',i,' vlaue: ',freq[i])"
   ]
  },
  {
   "cell_type": "code",
   "execution_count": null,
   "id": "1eed44e2",
   "metadata": {},
   "outputs": [
    {
     "name": "stdout",
     "output_type": "stream",
     "text": [
      "{'h': 1, 'e': 1, 'l': 2, 'o': 1}\n"
     ]
    }
   ],
   "source": [
    "#Q:Provided is a string saved to the variable name s1. Create a dictionary named counts that contains each letter in s1 and the number of times it occurs.\n",
    "s1 = \"hello\"\n",
    "def char_frequency(s1):\n",
    "    dict = {}\n",
    "    for n in s1:\n",
    "        keys = dict.keys()\n",
    "        if n in keys:\n",
    "            dict[n] += 1\n",
    "        else:\n",
    "            dict[n] = 1\n",
    "    return dict\n",
    "\n",
    "counts = char_frequency(s1)\n",
    "print(counts)"
   ]
  },
  {
   "cell_type": "code",
   "execution_count": null,
   "id": "07d1855f",
   "metadata": {},
   "outputs": [
    {
     "name": "stdout",
     "output_type": "stream",
     "text": [
      "{'I': 2, 'wish': 2, 'with': 2, 'all': 1, 'my': 1, 'heart': 1, 'to': 1, 'fly': 1, 'dragons': 1, 'in': 1, 'a': 1, 'land': 1, 'apart': 1}\n"
     ]
    }
   ],
   "source": [
    "#Q:Create a dictionary, freq_words, that contains each word in string str1 as the key and its frequency as the value.\n",
    "str1 = \"I wish I wish with all my heart to fly with dragons in a land apart\"\n",
    "def word_count(str):\n",
    "    counts = dict()\n",
    "    words = str.split()\n",
    "\n",
    "    for word in words:\n",
    "        if word in counts:\n",
    "            counts[word] += 1\n",
    "        else:\n",
    "            counts[word] = 1\n",
    "\n",
    "    return counts\n",
    "\n",
    "freq_words = word_count(str1)\n",
    "print(freq_words)"
   ]
  },
  {
   "cell_type": "code",
   "execution_count": null,
   "id": "4c2bcd40",
   "metadata": {},
   "outputs": [
    {
     "name": "stdout",
     "output_type": "stream",
     "text": [
      "{'Singing': 1, 'in': 2, 'the': 2, 'rain': 2, 'and': 1, 'playing': 1, 'are': 1, 'two': 1, 'entirely': 1, 'different': 1, 'situations': 1, 'but': 1, 'both': 1, 'can': 1, 'be': 1, 'good': 1}\n"
     ]
    }
   ],
   "source": [
    "#Q: Create a dictionary called wrd_d from the string sent, so that the key is a word and the value is how many times you have seen that word.sent = \"Singing in the rain and playing in the rain are two entirely different situations but both can be good\"\n",
    "sent = \"Singing in the rain and playing in the rain are two entirely different situations but both can be good\"\n",
    "def word_count(str):\n",
    "    counts = dict()\n",
    "    words = str.split()\n",
    "\n",
    "    for word in words:\n",
    "        if word in counts:\n",
    "            counts[word] += 1\n",
    "        else:\n",
    "            counts[word] = 1\n",
    "\n",
    "    return counts\n",
    "\n",
    "wrd_d  = word_count(sent)\n",
    "print(wrd_d)\n"
   ]
  },
  {
   "cell_type": "code",
   "execution_count": null,
   "id": "aee8dc96",
   "metadata": {},
   "outputs": [],
   "source": [
    "#Q: Create the dictionary characters that shows each character from the string sally and its frequency. Then, find the most frequent letter based on the dictionary. Assign this letter to the variable best_char.\n",
    "sally = \"sally sells sea shells by the sea shore\"\n",
    "characters = {}\n",
    "for i in sally:\n",
    "    characters[i]=characters.get(i,0)+1\n",
    "    \n",
    "sorted(characters.items(), key=lambda x: x[1])\n",
    "best_char = sorted(characters.items(), key=lambda x: x[1])[-1][0]\n"
   ]
  },
  {
   "cell_type": "code",
   "execution_count": null,
   "id": "cd881701",
   "metadata": {},
   "outputs": [],
   "source": [
    "#Q:Find the least frequent letter. Create the dictionary characters that shows each character from string sally and its frequency. Then, find the least frequent letter in the string and assign the letter to the variable worst_char.\n",
    "sally = \"sally sells sea shells by the sea shore and by the road\"\n",
    "characters = {}\n",
    "for i in sally:\n",
    "    characters[i]=characters.get(i,0)+1\n",
    "    \n",
    "sorted(characters.items(), key=lambda x: x[1])\n",
    "worst_char = sorted(characters.items(), key=lambda x: x[1])[-13][0]"
   ]
  },
  {
   "cell_type": "code",
   "execution_count": null,
   "id": "aec9a08d",
   "metadata": {},
   "outputs": [
    {
     "name": "stdout",
     "output_type": "stream",
     "text": [
      "{'t': 19, 'h': 11, 'e': 29, 'r': 12, ' ': 53, 'i': 14, 's': 15, 'a': 17, 'd': 7, 'n': 15, 'f': 9, 'o': 17, 'm': 4, ',': 4, 'w': 6, 'c': 3, 'k': 2, 'l': 11, 'u': 8, '.': 4, 'v': 3, 'y': 1, 'g': 1, 'b': 1}\n"
     ]
    }
   ],
   "source": [
    "#Q:Create a dictionary named letter_counts that contains each letter and the number of times it occurs in string1. Challenge: Letters should not be counted separately as upper-case and lower-case. Intead, all of them should be counted as lower-case.\n",
    "string1 = \"There is a tide in the affairs of men, Which taken at the flood, leads on to fortune. Omitted, all the voyage of their life is bound in shallows and in miseries. On such a full sea are we now afloat. And we must take the current when it serves, or lose our ventures.\"\n",
    "\n",
    "letter_counts = {}\n",
    "for letters in string1.lower():\n",
    "    letter_counts[letters] = letter_counts.get(letters, 0) + 1\n",
    "print(letter_counts)"
   ]
  },
  {
   "cell_type": "code",
   "execution_count": null,
   "id": "443d00a5",
   "metadata": {},
   "outputs": [
    {
     "name": "stdout",
     "output_type": "stream",
     "text": [
      "{'s': 5, 'u': 7, 'm': 3, 'e': 12, 'r': 3, ' ': 20, 'i': 3, 'a': 6, 'g': 3, 't': 9, 'o': 8, 'd': 1, '.': 2, 'y': 1, 'h': 6, 'v': 1, 'b': 2, 'c': 2, 'f': 3, 'l': 1, 'n': 1}\n"
     ]
    }
   ],
   "source": [
    "#Q: Create a dictionary called low_d that keeps track of all the characters in the string p and notes how many times each character was seen. Make sure that there are no repeats of characters as keys, such that “T” and “t” are both seen as a “t” for example.\n",
    "p = \"Summer is a great time to go outside. You have to be careful of the sun though because of the heat.\"\n",
    "low_d = dict()\n",
    "for letter in p.lower():\n",
    "    low_d[letter] = low_d.get(letter, 0) + 1\n",
    "print(low_d)"
   ]
  },
  {
   "cell_type": "markdown",
   "id": "7718b0f1",
   "metadata": {},
   "source": [
    "### Fuctions and retuns"
   ]
  },
  {
   "cell_type": "code",
   "execution_count": null,
   "id": "3bab88ef",
   "metadata": {},
   "outputs": [
    {
     "name": "stdout",
     "output_type": "stream",
     "text": [
      "10\n",
      "Next we'll accumulate the sum\n"
     ]
    },
    {
     "data": {
      "text/plain": [
       "9"
      ]
     },
     "execution_count": 77,
     "metadata": {},
     "output_type": "execute_result"
    }
   ],
   "source": [
    "def show_me_numbers(list_of_ints):\n",
    "    print(10)\n",
    "    print(\"Next we'll accumulate the sum\")\n",
    "    accum = 0\n",
    "    for num in list_of_ints:\n",
    "        accum = accum + num\n",
    "    return accum\n",
    "    print(\"All done with accumulation!\")\n",
    "\n",
    "show_me_numbers([4,2,3])"
   ]
  },
  {
   "cell_type": "code",
   "execution_count": null,
   "id": "ae051654",
   "metadata": {},
   "outputs": [],
   "source": []
  },
  {
   "cell_type": "code",
   "execution_count": null,
   "id": "e8c77e9f",
   "metadata": {},
   "outputs": [],
   "source": [
    "## Write a function named same that takes a string as input, and simply returns that string.\n",
    "\n",
    "def same (string):\n",
    "    return string"
   ]
  },
  {
   "cell_type": "code",
   "execution_count": null,
   "id": "2fcd6d57",
   "metadata": {},
   "outputs": [],
   "source": [
    "## Write a function called same_thing that returns the parameter, unchanged.\n",
    "\n",
    "def same_thing(a):\n",
    "    return a"
   ]
  },
  {
   "cell_type": "code",
   "execution_count": null,
   "id": "944df6b0",
   "metadata": {},
   "outputs": [],
   "source": [
    "## Write a function called subtract_three that takes an integer or any number as input, and returns that number minus three.\n",
    "\n",
    "def subtract_three (a):\n",
    "    return a-3"
   ]
  },
  {
   "cell_type": "code",
   "execution_count": null,
   "id": "41a4a51c",
   "metadata": {},
   "outputs": [],
   "source": [
    "## Write a function called change that takes one number as its input and returns that number, plus 7.\n",
    "\n",
    "def change(a):\n",
    "    return a+7"
   ]
  },
  {
   "cell_type": "code",
   "execution_count": null,
   "id": "b54c0b47",
   "metadata": {},
   "outputs": [],
   "source": [
    "##  Write a function called s_change that takes one string as input and returns that string, concatenated with the string ” for fun.”.\n",
    "\n",
    "def s_change(a):\n",
    "     return a + \" for fun.\""
   ]
  },
  {
   "cell_type": "code",
   "execution_count": null,
   "id": "7945bb06",
   "metadata": {},
   "outputs": [],
   "source": [
    "## Write a function called decision that takes a string as input, and then checks the number of characters. If it has over 17 characters, return “This is a long string”, if it is shorter or has 17 characters, return “This is a short string”.\n",
    "\n",
    "def decision(s1):\n",
    "    if len(s1) > 17:\n",
    "        return (\"This is a long string\")\n",
    "    else:\n",
    "        return (\"This is a short string\")"
   ]
  },
  {
   "cell_type": "code",
   "execution_count": null,
   "id": "1b08c32f",
   "metadata": {},
   "outputs": [],
   "source": [
    "## Write a function named intro that takes a string as input. Given the string “Becky” as input, the function should return: “Hello, my name is Becky and I love SI 106.”\n",
    "\n",
    "def intro(str1):\n",
    "    return(\"Hello, my name is \"+ str1+ \" and I love SI 106.\")\n",
    "\n",
    "intro(\"Becky\") #calling the function named intro\n",
    "               #and passing the parameter Becky"
   ]
  },
  {
   "cell_type": "code",
   "execution_count": null,
   "id": "b713e774",
   "metadata": {},
   "outputs": [],
   "source": [
    "## Write a function named total that takes a list of integers as input, and returns the total value of all those integers added together.\n",
    "\n",
    "def total(lst):\n",
    "    tot=0\n",
    "    for i in lst:\n",
    "        tot=tot+i\n",
    "    return (tot)\n",
    "\n",
    "y=total([1,2,3,4,5,6,7])"
   ]
  },
  {
   "cell_type": "code",
   "execution_count": null,
   "id": "65a0ffcb",
   "metadata": {},
   "outputs": [],
   "source": [
    "## Write a function called count that takes a list of numbers as input and returns a count of the number of elements in the list.\n",
    "\n",
    "def count(lst):\n",
    "    values=0\n",
    "    for i in lst:\n",
    "        values=values+1\n",
    "    return values\n",
    "\n",
    "y=count([1,2,3,4,5,6,7])"
   ]
  },
  {
   "cell_type": "code",
   "execution_count": null,
   "id": "91f4a9c5",
   "metadata": {},
   "outputs": [],
   "source": [
    "\n",
    "#Create a dictionary called low_d that keeps track of all the characters in the string p and notes how many times each character was seen. Make sure that there are no repeats of characters as keys, such that “T” and “t” are both seen as a “t” for example. \n",
    "p = \"Summer is a great time to go outside. You have to be careful of the sun though because of the heat.\"\n",
    "low_d={}\n",
    "for i in p.lower():\n",
    "    if i not in low_d:\n",
    "        low_d[i]=0\n",
    "    low_d[i]=low_d[i]+1\n",
    "\n",
    "# Create a dictionary named letter_counts that contains each letter and the number of times it occurs in string1. Challenge: Letters should not be counted separately as upper-case and lower-case. Intead, all of them should be counted as lower-case. \n",
    "\n",
    "string1 = \"There is a tide in the affairs of men, Which taken at the flood, leads on to fortune. Omitted, all the voyage of their life is bound in shallows and in miseries. On such a full sea are we now afloat. And we must take the current when it serves, or lose our ventures.\"\n",
    "letter_counts={}\n",
    "for i in string1.lower():\n",
    "    if i not in letter_counts:\n",
    "        letter_counts[i]=0\n",
    "    letter_counts[i]=letter_counts[i]+1\n",
    "\n",
    "#Do the same as above but now find the least frequent letter. Create the dictionary characters that shows each character from string sally and its frequency. Then, find the least frequent letter in the string and assign the letter to the variable worst_char.    \n",
    "  \n",
    "    \n",
    "sally = \"sally sells sea shells by the sea shore and by the road\"\n",
    "\n",
    "characters = {}\n",
    "for i in sally:\n",
    "    characters[i]=characters.get(i,0)+1\n",
    "    \n",
    "sorted(characters.items(), key=lambda x: x[1])\n",
    "worst_char = sorted(characters.items(), key=lambda x: x[1])[-13][0]\n",
    "\n",
    "\n",
    "#The dictionary Junior shows a schedule for a junior year semester. The key is the course name and the value is the number of credits. Find the total number of credits taken this semester and assign it to the variable credits. Do not hardcode this – use dictionary accumulation! \n",
    "\n",
    "Junior = {'SI 206':4, 'SI 310':4, 'BL 300':3, 'TO 313':3, 'BCOM 350':1, 'MO 300':3}\n",
    "credits=0\n",
    "for i in Junior:\n",
    "    credits=credits+Junior[i]\n",
    "    \n",
    "#Create a dictionary, freq, that displays each character in string str1 as the key and its frequency as the value.     \n",
    "    \n",
    "str1 = \"peter piper picked a peck of pickled peppers\"\n",
    "freq={}\n",
    "for i in str1:\n",
    "    if i not in freq:\n",
    "        freq[i]=0\n",
    "    freq[i]=freq[i]+1\n",
    "for i in freq:\n",
    "    print('key is: ',i,' vlaue: ',freq[i])\n",
    "\n",
    " \n",
    "# Provided is a string saved to the variable name s1. Create a dictionary named counts that contains each letter in s1 and the number of times it occurs. \n",
    "\n",
    "s1 = \"hello\"\n",
    "counts={}\n",
    "for i in s1:\n",
    "    if i not in counts:\n",
    "        counts[i]=0\n",
    "    counts[i]=counts[i]+1\n",
    "\n",
    "    \n",
    "#  Create a dictionary, freq_words, that displays each word in string str1 as the key and its frequency as the value. \n",
    "\n",
    "str1 = \"I wish I wish with all my heart to fly with dragons in a land apart\"\n",
    "b=str1.split()\n",
    "freq_words={}\n",
    "for i in b:\n",
    "    if i not in freq_words:\n",
    "        freq_words[i]=0\n",
    "    freq_words[i]=freq_words[i]+1\n",
    "for i in freq_words:\n",
    "       print('key is: ',i,' vlaue: ',freq_words[i])\n",
    "    \n",
    "# Create a dictionary called wrd_d from the string sent, so that the key is a word and the value is how many times you have seen that word. \n",
    "\n",
    "sent = \"Singing in the rain and playing in the rain are two entirely different situations but both can be good\"\n",
    "b=sent.split()\n",
    "wrd_d={}\n",
    "for i in b:\n",
    "    if i not in wrd_d:\n",
    "        wrd_d[i]=0\n",
    "    wrd_d[i]=wrd_d[i]+1\n",
    "for i in wrd_d:\n",
    "       print('key is: ',i,' vlaue: ',wrd_d[i])\n",
    "    \n",
    "    \n",
    "# Create the dictionary characters that shows each character from the string sally and its frequency. Then, find the most frequent letter based on the dictionary. Assign this letter to the variable best_char.     \n",
    "    \n",
    "    \n",
    "sally = \"sally sells sea shells by the sea shore\"  \n",
    "characters = {}\n",
    "for i in sally:\n",
    "    characters[i]=characters.get(i,0)+1\n",
    "    \n",
    "sorted(characters.items(), key=lambda x: x[1])\n",
    "best_char = sorted(characters.items(), key=lambda x: x[1])[-1][0]\n",
    "\n",
    "\n",
    "\n",
    "# Find the least frequent letter. Create the dictionary characters that shows each character from string sally and its frequency. Then, find the least frequent letter in the string and assign the letter to the variable worst_char.\n",
    "\n",
    "\n",
    "sally = \"sally sells sea shells by the sea shore and by the road\"\n",
    "\n",
    "characters = {}\n",
    "\n",
    "for char in sally:\n",
    "\tcharacters[char] = characters.get(char, 0) + 1\n",
    "\n",
    "worst_char = None\n",
    "\n",
    "for k in characters:\n",
    "\tif worst_char is None or characters[worst_char] > characters[k]:\n",
    "\t\tworst_char = k\n",
    "# Create a dictionary named letter_counts that contains each letter and the number of times it occurs in string1. Challenge: Letters should not be counted separately as upper-case and lower-case. Intead, all of them should be counted as lower-case.\n",
    "\n",
    "\n",
    "string1 = \"There is a tide in the affairs of men, Which taken at the flood, leads on to fortune. Omitted, all the voyage of their life is bound in shallows and in miseries. On such a full sea are we now afloat. And we must take the current when it serves, or lose our ventures.\"\n",
    "\n",
    "letter_counts = {}\n",
    "\n",
    "for char in string1.lower():\n",
    "\tletter_counts[char] = letter_counts.get(char, 0) + 1\n",
    "\n"
   ]
  },
  {
   "cell_type": "code",
   "execution_count": null,
   "id": "67237f24",
   "metadata": {},
   "outputs": [],
   "source": [
    "# 1. The dictionary Junior shows a schedule for a junior year semester.\n",
    "# The key is the course name and the value is the number of credits.\n",
    "# Find the total number of credits taken this semester and assign it to the variable credits.\n",
    "# Do not hardcode this – use dictionary accumulation!\n",
    "\n",
    "Junior = {'SI 206':4, 'SI 310':4, 'BL 300':3, 'TO 313':3, 'BCOM 350':1, 'MO 300':3}\n",
    "credits = 0\n",
    "for v in Junior.values():\n",
    "    credits += v\n",
    "    print(credits)\n",
    "    \n",
    "# 2. Create a dictionary, freq, that displays each character in string str1 as the key and its frequency as the value.\n",
    "\n",
    "from collections import Counter\n",
    "\n",
    "str1 = \"peter piper picked a peck of pickled peppers\"\n",
    "freq = Counter(str1)\n",
    "\n",
    "for i in str1:\n",
    "    print(i, freq[i])\n",
    "    \n",
    "# 3. Provided is a string saved to the variable name s1.\n",
    "# Create a dictionary named counts that contains each letter in s1 and the number of times it occurs.\n",
    "\n",
    "s1 = \"hello\"\n",
    "\n",
    "def char_frequency(s1):\n",
    "    dict = {}\n",
    "    for n in s1:\n",
    "        keys = dict.keys()\n",
    "        if n in keys:\n",
    "            dict[n] += 1\n",
    "        else:\n",
    "            dict[n] = 1\n",
    "    return dict\n",
    "\n",
    "counts = char_frequency(s1)\n",
    "print(counts)\n",
    "\n",
    "# 4. Create a dictionary, freq_words, that displays each word in string str1 as the key and its frequency as the value.\n",
    "\n",
    "str1 = \"I wish I wish with all my heart to fly with dragons in a land apart\"\n",
    "\n",
    "def word_count(str):\n",
    "    counts = dict()\n",
    "    words = str.split()\n",
    "\n",
    "    for word in words:\n",
    "        if word in counts:\n",
    "            counts[word] += 1\n",
    "        else:\n",
    "            counts[word] = 1\n",
    "\n",
    "    return counts\n",
    "\n",
    "freq_words = word_count(str1)\n",
    "print(freq_words)\n",
    "\n",
    "# 5. Create a dictionary called wrd_d from the string sent,\n",
    "# so that the key is a word and the value is how many times you have seen that word.\n",
    "\n",
    "sent = \"Singing in the rain and playing in the rain are two entirely different situations but both can be good\"\n",
    "\n",
    "def word_count(str):\n",
    "    counts = dict()\n",
    "    words = str.split()\n",
    "\n",
    "    for word in words:\n",
    "        if word in counts:\n",
    "            counts[word] += 1\n",
    "        else:\n",
    "            counts[word] = 1\n",
    "\n",
    "    return counts\n",
    "\n",
    "wrd_d  = word_count(sent)\n",
    "print(wrd_d)\n",
    "\n",
    "# 6. Create the dictionary characters that shows each character from the string sally and its frequency.\n",
    "# Then, find the most frequent letter based on the dictionary. Assign this letter to the variable best_char.\n",
    "\n",
    "sally = \"sally sells sea shells by the sea shore\"\n",
    "characters = {}\n",
    "for i in sally:\n",
    "    characters[i]=characters.get(i,0)+1\n",
    "    \n",
    "sorted(characters.items(), key=lambda x: x[1])\n",
    "best_char = sorted(characters.items(), key=lambda x: x[1])[-1][0]\n",
    "\n",
    "# 7. Do the same as above but now find the least frequent letter.\n",
    "# Create the dictionary characters that shows each character from string sally and its frequency.\n",
    "# Then, find the least frequent letter in the string and assign the letter to the variable worst_char.\n",
    "\n",
    "sally = \"sally sells sea shells by the sea shore and by the road\"\n",
    "\n",
    "characters = {}\n",
    "for i in sally:\n",
    "    characters[i]=characters.get(i,0)+1\n",
    "    \n",
    "sorted(characters.items(), key=lambda x: x[1])\n",
    "worst_char = sorted(characters.items(), key=lambda x: x[1])[-13][0]\n",
    "\n",
    "# 9. Create a dictionary called low_d that keeps track of all the characters in the string p\n",
    "# and notes how many times each character was seen. Make sure that there are no repeats of characters as keys,\n",
    "# such that “T” and “t” are both seen as a “t” for example.\n",
    "\n",
    "import collections\n",
    "p = p = \"Summer is a great time to go outside. You have to be careful of the sun though because of the heat.\"\n",
    "low_d  = collections.defaultdict(int)\n",
    "\n",
    "for c in p:\n",
    "    low_d[c] += 1\n",
    "        \n",
    "for c in sorted(low_d, key=low_d.get, reverse=True):\n",
    "    if low_d[c] > 1:\n",
    "        print('%s %d' % (c, low_d[c]))"
   ]
  },
  {
   "cell_type": "code",
   "execution_count": null,
   "id": "0156c3fc",
   "metadata": {},
   "outputs": [],
   "source": [
    "here is for #8\n",
    "\n",
    "Create a dictionary named letter_counts that contains each letter and the number of times it occurs in string1. Challenge: Letters should not be counted separately as upper-case and lower-case. Intead, all of them should be counted as lower-case.\n",
    "\n",
    "string1 = \"There is a tide in the affairs of men, Which taken at the flood, leads on to fortune. Omitted, all the voyage of their life is bound in shallows and in miseries. On such a full sea are we now afloat. And we must take the current when it serves, or lose our ventures.\"\n",
    "\n",
    "string1.lower()\n",
    "\n",
    "letter_counts = {}\n",
    "\n",
    "for c in string1.lower():\n",
    "if c not in letter_counts:\n",
    "letter_counts[c] = 0\n",
    "letter_counts[c] = letter_counts[c] + 1\n",
    "\n",
    "Here is for #9\n",
    "\n",
    "Create a dictionary called low_d that keeps track of all the characters in the string p and notes how many times each character was seen. Make sure that there are no repeats of characters as keys, such that “T” and “t” are both seen as a “t” for example.\n",
    "\n",
    "p = \"Summer is a great time to go outside. You have to be careful of the sun though because of the heat.\"\n",
    "\n",
    "p.lower()\n",
    "\n",
    "low_d = {}\n",
    "\n",
    "for c in p.lower():\n",
    "if c not in low_d:\n",
    "low_d[c] = 0\n",
    "low_d[c] = low_d[c] + 1"
   ]
  },
  {
   "cell_type": "code",
   "execution_count": null,
   "id": "3081973e",
   "metadata": {},
   "outputs": [],
   "source": [
    "for the last one:\n",
    "\n",
    "import collections\n",
    "p = \"Summer is a great time to go outside. You have to be careful of the sun though because of the heat.\"\n",
    "\n",
    "p1=p.lower()\n",
    "\n",
    "low_d = collections.defaultdict(int)\n",
    "\n",
    "for c in p1:\n",
    "low_d[c] += 1\n",
    "\n",
    "for c in sorted(low_d, key=low_d.get, reverse=True):\n",
    "if low_d[c] > 1:\n",
    "print('%s %d' % (c, low_d[c]))"
   ]
  },
  {
   "cell_type": "code",
   "execution_count": null,
   "id": "d6b83c65",
   "metadata": {},
   "outputs": [],
   "source": [
    "here is for #8\n",
    "\n",
    "Create a dictionary named letter_counts that contains each letter and the number of times it occurs in string1. Challenge: Letters should not be counted separately as upper-case and lower-case. Intead, all of them should be counted as lower-case.\n",
    "\n",
    "string1 = \"There is a tide in the affairs of men, Which taken at the flood, leads on to fortune. Omitted, all the voyage of their life is bound in shallows and in miseries. On such a full sea are we now afloat. And we must take the current when it serves, or lose our ventures.\"\n",
    "\n",
    "string1.lower()\n",
    "\n",
    "letter_counts = {}\n",
    "\n",
    "for c in string1.lower():\n",
    "if c not in letter_counts:\n",
    "letter_counts[c] = 0\n",
    "letter_counts[c] = letter_counts[c] + 1\n",
    "else:\n",
    "letter_counts[c] = letter_counts[c] + 1\n",
    "print(letter_counts)"
   ]
  },
  {
   "cell_type": "code",
   "execution_count": null,
   "id": "517e1a61",
   "metadata": {},
   "outputs": [],
   "source": [
    "#9 . Create a dictionary called low_d that keeps track of all the characters in the string p and notes how many times each character was seen. #Make sure that there are no repeats of characters as keys, such that “T” and “t” are both seen as a “t” for example.\n",
    "\n",
    "p = \"Summer is a great time to go outside. You have to be careful of the sun though because of the heat.\"\n",
    "k = p.lower()\n",
    "print(k)\n",
    "low_d = {}\n",
    "for c in k:\n",
    "if c not in low_d:\n",
    "low_d[c] = 0\n",
    "low_d[c] = low_d[c] + 1"
   ]
  },
  {
   "cell_type": "markdown",
   "id": "9aaa661f",
   "metadata": {},
   "source": [
    "### Functions can call other functions (Composition)"
   ]
  },
  {
   "cell_type": "code",
   "execution_count": null,
   "id": "20e144cf",
   "metadata": {},
   "outputs": [
    {
     "name": "stdout",
     "output_type": "stream",
     "text": [
      "129\n"
     ]
    }
   ],
   "source": [
    "# functional decomposition using two functions. The first function called square simply computes the square of a given number. The second function called sum_of_squares makes use of square to compute the sum of three numbers that have been squared.\n",
    "\n",
    "def square(x):\n",
    "\t    y = x * x\n",
    "\t    return y\n",
    "\t\n",
    "def sum_of_squares(x,y,z):\n",
    "\t    a = square(x)\n",
    "\t    b = square(y)\n",
    "\t    c = square(z)\n",
    "\t\n",
    "\t    return a+b+c\n",
    "\t\n",
    "a = -5\n",
    "b = 2\n",
    "c = 10\n",
    "result = sum_of_squares(a,b,c)\n",
    "print(result)"
   ]
  },
  {
   "cell_type": "code",
   "execution_count": null,
   "id": "3201cc82",
   "metadata": {},
   "outputs": [
    {
     "name": "stdout",
     "output_type": "stream",
     "text": [
      "b\n"
     ]
    }
   ],
   "source": [
    "# We can make functions for each of those and then compose them into a single function that finds the most common letter\n",
    "\n",
    "def most_common_letter(s):\n",
    "    frequencies = count_freqs(s)\n",
    "    return best_key(frequencies)\n",
    "\n",
    "def count_freqs(st):\n",
    "    d = {}\n",
    "    for c in st:\n",
    "        if c not in d:\n",
    "             d[c] = 0\n",
    "        d[c] = d[c] + 1\n",
    "    return d\n",
    "\n",
    "def best_key(dictionary):\n",
    "    ks = dictionary.keys()\n",
    "    best_key_so_far = list(ks)[0]  # Have to turn ks into a real list before using [] to select an item\n",
    "    for k in ks:\n",
    "        if dictionary[k] > dictionary[best_key_so_far]:\n",
    "            best_key_so_far = k\n",
    "    return best_key_so_far\n",
    "\n",
    "print(most_common_letter(\"abbbbbbbbbbbccccddddd\")) "
   ]
  },
  {
   "cell_type": "code",
   "execution_count": null,
   "id": "2049796d",
   "metadata": {},
   "outputs": [
    {
     "data": {
      "text/plain": [
       "10"
      ]
     },
     "execution_count": 29,
     "metadata": {},
     "output_type": "execute_result"
    }
   ],
   "source": [
    "# 1. Write two functions, one called addit and one called mult. addit takes one number as an input and adds 5. mult takes one number as an input, and multiplies that input by whatever is returned by addit, and then returns the result.\n",
    "\n",
    "def addit(a):\n",
    "    add = a+5\n",
    "    return add\n",
    "def mult(a):\n",
    "    return a*addit(a)\n",
    "\n",
    "addit(5)"
   ]
  },
  {
   "cell_type": "code",
   "execution_count": null,
   "id": "a0d4d463",
   "metadata": {},
   "outputs": [
    {
     "name": "stdout",
     "output_type": "stream",
     "text": [
      "25\n"
     ]
    }
   ],
   "source": [
    "# Flow of Execution Summary\n",
    "\n",
    "def pow(b, p):\n",
    "    y = b ** p\n",
    "    return y\n",
    "\n",
    "def square(x):\n",
    "    a = pow(x, 2)\n",
    "    return a\n",
    "\n",
    "n = 5\n",
    "result = square(n)\n",
    "print(result)"
   ]
  },
  {
   "cell_type": "markdown",
   "id": "6c467cf0",
   "metadata": {},
   "source": [
    "### Write test cases for Functions "
   ]
  },
  {
   "cell_type": "code",
   "execution_count": null,
   "id": "cece6437",
   "metadata": {},
   "outputs": [
    {
     "data": {
      "text/plain": [
       "'Hello Deep Learning Nice to meet you!'"
      ]
     },
     "execution_count": 13,
     "metadata": {},
     "output_type": "execute_result"
    }
   ],
   "source": [
    "# Write a function called change that takes any string, adds “Nice to meet you!” to the end of the argument given, and returns that new string.\n",
    "\n",
    "def change(string_):\n",
    "    \n",
    "    Str = \"{} Nice to meet you!\".format(string_)\n",
    "    return Str\n",
    "    return(Str)\n",
    "    print(Str)\n",
    "    \n",
    "change(\"Hello Deep Learning\")"
   ]
  },
  {
   "cell_type": "code",
   "execution_count": null,
   "id": "69f492b9",
   "metadata": {},
   "outputs": [
    {
     "name": "stdout",
     "output_type": "stream",
     "text": [
      "['Zaptos', 'Charizard', 'Diglett', 'Tauros', 'Lanturn', 'Wailord']\n"
     ]
    }
   ],
   "source": [
    "### Provided is a list of tuples. Create another list called t_check that contains the third element of every tuple.\n",
    "lst_tups = [('Articuno', 'Moltres', 'Zaptos'), ('Beedrill', 'Metapod', 'Charizard', 'Venasaur', 'Squirtle'), ('Oddish', 'Poliwag', 'Diglett', 'Bellsprout'), ('Ponyta', \"Farfetch'd\", \"Tauros\", 'Dragonite'), ('Hoothoot', 'Chikorita', 'Lanturn', 'Flaaffy', 'Unown', 'Teddiursa', 'Phanpy'), ('Loudred', 'Volbeat', 'Wailord', 'Seviper', 'Sealeo')]\n",
    "\n",
    "t_check = []\n",
    "\n",
    "for ele in lst_tups:\n",
    "    t_check.append(ele[2])\n",
    "\n",
    "print(t_check)"
   ]
  },
  {
   "cell_type": "code",
   "execution_count": null,
   "id": "a27d1d96",
   "metadata": {},
   "outputs": [
    {
     "name": "stdout",
     "output_type": "stream",
     "text": [
      "['b', 7, 'green', 9.99, 'chipmunk']\n"
     ]
    }
   ],
   "source": [
    "### we have provided a list of tuples. Write a for loop that saves the second element of each tuple into a list called seconds.\n",
    "\n",
    "tups = [('a', 'b', 'c'), (8, 7, 6, 5), ('blue', 'green', 'yellow', 'orange', 'red'), (5.6, 9.99, 2.5, 8.2), ('squirrel', 'chipmunk')]\n",
    "seconds = [] \n",
    "\n",
    "for ele in tups:\n",
    "    seconds.append(ele[1])\n",
    "    \n",
    "print(seconds)"
   ]
  },
  {
   "cell_type": "code",
   "execution_count": null,
   "id": "7e655c33",
   "metadata": {},
   "outputs": [
    {
     "name": "stdout",
     "output_type": "stream",
     "text": [
      "first name: Paul last name: Resnick\n",
      "first name: Brad last name: Miller\n",
      "first name: Lauren last name: Murphy\n"
     ]
    }
   ],
   "source": [
    "#Multiple assignment with unpacking is particularly useful when you iterate through a list of tuples. You can unpack each tuple into several loop variables\n",
    "authors = [('Paul', 'Resnick'), ('Brad', 'Miller'), ('Lauren', 'Murphy')]\n",
    "for first_name, last_name in authors:\n",
    "    print(\"first name:\", first_name, \"last name:\", last_name)"
   ]
  },
  {
   "cell_type": "code",
   "execution_count": null,
   "id": "9a13f83a",
   "metadata": {},
   "outputs": [
    {
     "name": "stdout",
     "output_type": "stream",
     "text": [
      "0 apple\n",
      "1 pear\n",
      "2 apricot\n",
      "3 cherry\n",
      "4 peach\n"
     ]
    }
   ],
   "source": [
    "#we first introduced the for loop, we provided an example of how to iterate through the indexes of a sequence, and thus enumerate the items and their positions in the sequence\n",
    "fruits = ['apple', 'pear', 'apricot', 'cherry', 'peach']\n",
    "for n in range(len(fruits)):\n",
    "    print(n, fruits[n])"
   ]
  },
  {
   "cell_type": "code",
   "execution_count": null,
   "id": "10532c22",
   "metadata": {},
   "outputs": [
    {
     "name": "stdout",
     "output_type": "stream",
     "text": [
      "0 apple\n",
      "1 pear\n",
      "2 apricot\n",
      "3 cherry\n",
      "4 peach\n"
     ]
    }
   ],
   "source": [
    "#pythonic approach to enumerating items in a sequence\n",
    "fruits = ['apple', 'pear', 'apricot', 'cherry', 'peach']\n",
    "for item in enumerate(fruits):\n",
    "    print(item[0], item[1])"
   ]
  },
  {
   "cell_type": "code",
   "execution_count": null,
   "id": "9cf5318d",
   "metadata": {},
   "outputs": [
    {
     "name": "stdout",
     "output_type": "stream",
     "text": [
      "0 apple\n",
      "1 pear\n",
      "2 apricot\n",
      "3 cherry\n",
      "4 peach\n"
     ]
    }
   ],
   "source": [
    "#pythonic way to consume the results of enumerate, however, is to unpack the tuples while iterating through them, so that the code is easier to understand\n",
    "fruits = ['apple', 'pear', 'apricot', 'cherry', 'peach']\n",
    "for idx, fruit in enumerate(fruits):\n",
    "    print(idx, fruit)"
   ]
  },
  {
   "cell_type": "code",
   "execution_count": null,
   "id": "0e0ffc02",
   "metadata": {},
   "outputs": [],
   "source": [
    "#the .items() dictionary method produces a sequence of tuples. Keeping this in mind, we have provided you a dictionary called pokemon. For every key value pair, append the key to the list p_names, and append the value to the list p_number. Do not use the .keys() or .values() methods.\n",
    "pokemon = {'Rattata': 19, 'Machop': 66, 'Seel': 86, 'Volbeat': 86, 'Solrock': 126}\n",
    "\n",
    "p_names = []\n",
    "p_number = []\n",
    "\n",
    "for k, v in pokemon.items():\n",
    "    p_names.append(k)\n",
    "    p_number.append(v)"
   ]
  },
  {
   "cell_type": "code",
   "execution_count": null,
   "id": "5ece2373",
   "metadata": {},
   "outputs": [],
   "source": [
    "#The .items() method produces a sequence of key-value pair tuples. With this in mind, write code to create a list of keys from the dictionary track_medal_counts and assign the list to the variable name track_events. Do NOT use the .keys() method.\n",
    "track_medal_counts = {'shot put': 1, 'long jump': 3, '100 meters': 2, '400 meters': 2, '100 meter hurdles': 3, 'triple jump': 3, 'steeplechase': 2, '1500 meters': 1, '5K': 0, '10K': 0, 'marathon': 0, '200 meters': 0, '400 meter hurdles': 0, 'high jump': 1}\n",
    "\n",
    "track_events = []\n",
    "for kv in track_medal_counts.items():\n",
    "     track_events.append(kv[0])\n"
   ]
  },
  {
   "cell_type": "code",
   "execution_count": null,
   "id": "da86ecc0",
   "metadata": {},
   "outputs": [
    {
     "data": {
      "text/plain": [
       "('name', 'birth_year', 'fav_color', 'hometown')"
      ]
     },
     "execution_count": 28,
     "metadata": {},
     "output_type": "execute_result"
    }
   ],
   "source": [
    "#Define a function called information that takes as input, the variables name, birth_year, fav_color, and hometown. It should return a tuple of these variables in this order.\n",
    "def information(a,b,c,d):\n",
    "    return a,b,c,d\n",
    "\n",
    "information(\"name\",\"birth_year\",\"fav_color\",\"hometown\")"
   ]
  },
  {
   "cell_type": "code",
   "execution_count": null,
   "id": "48312403",
   "metadata": {},
   "outputs": [],
   "source": [
    "# Define a function called info with the following required parameters: name, age, birth_year, year_in_college, and hometown. The function should return a tuple that contains all the inputted information.\n",
    "def info(name,age,birth_year,year_in_college,hometown):\n",
    "   return (name,age,birth_year,year_in_college,hometown)"
   ]
  },
  {
   "cell_type": "code",
   "execution_count": null,
   "id": "0cdc335d",
   "metadata": {},
   "outputs": [
    {
     "data": {
      "text/plain": [
       "tuple"
      ]
     },
     "execution_count": 30,
     "metadata": {},
     "output_type": "execute_result"
    }
   ],
   "source": [
    "# Create a tuple called olympics with four elements: “Beijing”, “London”, “Rio”, “Tokyo”.\n",
    "olympics = (\"Beijing\", \"London\", \"Rio\", \"Tokyo\")\n",
    "\n",
    "type(olympics)"
   ]
  },
  {
   "cell_type": "code",
   "execution_count": null,
   "id": "2dba72cd",
   "metadata": {},
   "outputs": [],
   "source": [
    "# The list below, tuples_lst, is a list of tuples. Create a list of the second elements of each tuple and assign this list to the variable country\n",
    "tuples_lst = [\n",
    "    (\"Beijing\", \"China\", 2008),\n",
    "    (\"London\", \"England\", 2012),\n",
    "    (\"Rio\", \"Brazil\", 2016, \"Current\"),\n",
    "    (\"Tokyo\", \"Japan\", 2020, \"Future\"),\n",
    "]\n",
    "country = 0\n",
    "\n",
    "second_element=[]\n",
    "\n",
    "for i in tuples_lst:\n",
    "    second_element.append(i[1])\n",
    "    \n",
    "country=second_element\n",
    "\n"
   ]
  },
  {
   "cell_type": "code",
   "execution_count": null,
   "id": "d3257023",
   "metadata": {},
   "outputs": [],
   "source": [
    "# With only one line of code, assign the variables city, country, and year to the values of the tuple olymp\n",
    "olymp = (\"Rio\", \"Brazil\", 2016)\n",
    "city, country, year = None, None, None\n",
    "\n",
    "olymp = ('Rio', 'Brazil', 2016)\n",
    "\n",
    "(city,country,year)=olymp"
   ]
  },
  {
   "cell_type": "code",
   "execution_count": null,
   "id": "27ebaede",
   "metadata": {},
   "outputs": [],
   "source": [
    "# Define a function called info with five parameters: name, gender, age, bday_month, and hometown. The function should then return a tuple with all five parameters in that order.\n",
    "def info(name,gender,age,bday_month,hometown):\n",
    "    return (name,gender,age,bday_month,hometown)"
   ]
  },
  {
   "cell_type": "code",
   "execution_count": null,
   "id": "56cad052",
   "metadata": {},
   "outputs": [],
   "source": [
    "# Given is the dictionary, gold, which shows the country and the number of gold medals they have earned so far in the 2016 Olympics. Define a function get_num_medals that returns a list and assign it to the variable num_medals, that contains only the number of medals for each country. You must use the .items() method.\n",
    "\n",
    "# Note: The .items() method provides a list of tuples. Do not use .keys() method.\n",
    "gold = {\n",
    "    \"USA\": 31,\n",
    "    \"Great Britain\": 19,\n",
    "    \"China\": 19,\n",
    "    \"Germany\": 13,\n",
    "    \"Russia\": 12,\n",
    "    \"Japan\": 10,\n",
    "    \"France\": 8,\n",
    "    \"Italy\": 8,\n",
    "     }\n",
    "num_medals = []\n",
    "\n",
    "num_medals=[]\n",
    "for i in gold.items():\n",
    "    num_medals.append(i[1])"
   ]
  }
 ],
 "metadata": {
  "kernelspec": {
   "display_name": "base",
   "language": "python",
   "name": "python3"
  },
  "language_info": {
   "codemirror_mode": {
    "name": "ipython",
    "version": 3
   },
   "file_extension": ".py",
   "mimetype": "text/x-python",
   "name": "python",
   "nbconvert_exporter": "python",
   "pygments_lexer": "ipython3",
   "version": "3.12.7"
  }
 },
 "nbformat": 4,
 "nbformat_minor": 5
}
