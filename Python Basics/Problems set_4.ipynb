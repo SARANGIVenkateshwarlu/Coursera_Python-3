{
 "cells": [
  {
   "cell_type": "markdown",
   "id": "fe6ca4a9",
   "metadata": {},
   "source": [
    "### The while Statement"
   ]
  },
  {
   "cell_type": "code",
   "execution_count": null,
   "id": "6a5e4ec1",
   "metadata": {},
   "outputs": [
    {
     "name": "stdout",
     "output_type": "stream",
     "text": [
      "55\n",
      "5050\n",
      "500500\n"
     ]
    }
   ],
   "source": [
    "# Q: Return the sum of 1+2+3 ... n \n",
    "def sumTo(aBound):\n",
    "    \"\"\" Return the sum of 1+2+3 ... n \"\"\"\n",
    "\n",
    "    theSum  = 0\n",
    "    aNumber = 1\n",
    "    while aNumber <= aBound:\n",
    "        theSum = theSum + aNumber\n",
    "        aNumber = aNumber + 1\n",
    "    return theSum\n",
    "\n",
    "print(sumTo(10))\n",
    "print(sumTo(100))\n",
    "print(sumTo(1000))"
   ]
  },
  {
   "cell_type": "code",
   "execution_count": null,
   "id": "c7fbc4e2",
   "metadata": {},
   "outputs": [
    {
     "name": "stdout",
     "output_type": "stream",
     "text": [
      "16\n",
      "[0, 2, 4, 6, 8, 10, 12, 14]\n"
     ]
    }
   ],
   "source": [
    "#Q: Write a while loop that is initialized at 0 and stops at 15. If the counter is an even number, append the counter to a list called eve_nums.\n",
    "\n",
    "count = 0  # intial count \n",
    "eve_nums = [] # empty list\n",
    "\n",
    "while count <= 15: # stop condition\n",
    "    if count % 2 == 0: # even condition\n",
    "        eve_nums.append(count) # appen count\n",
    "    count = count + 1 # count iteration  \n",
    "print(count)\n",
    "print(eve_nums)"
   ]
  },
  {
   "cell_type": "code",
   "execution_count": null,
   "id": "2fe5866c",
   "metadata": {},
   "outputs": [
    {
     "name": "stdout",
     "output_type": "stream",
     "text": [
      "[8, 3, 4, 5, 6, 7, 9]\n",
      "42\n"
     ]
    }
   ],
   "source": [
    "# we’ve provided a for loop that sums all the elements of list1. Write code that accomplishes the same task, but instead uses a while loop. Assign the accumulator variable to the name accum.\n",
    "\n",
    "list1 = [8, 3, 4, 5, 6, 7, 9]\n",
    "\n",
    "tot = 0\n",
    "for elem in list1:\n",
    "    tot = tot + elem\n",
    "\n",
    "idx = 0\n",
    "accum = 0\n",
    "while idx < len(list1):\n",
    "    accum = accum + list1[idx]\n",
    "    idx = idx + 1\n",
    "print(list1)\n",
    "print(tot)"
   ]
  },
  {
   "cell_type": "markdown",
   "id": "c54cb04f",
   "metadata": {},
   "source": [
    "### The Listener Loop\n",
    "Inside the while loop there is a function call to get user input. \n",
    "The loop repeats indefinitely, until a particular input is received"
   ]
  },
  {
   "cell_type": "code",
   "execution_count": null,
   "id": "b3f7b03d",
   "metadata": {},
   "outputs": [
    {
     "name": "stdout",
     "output_type": "stream",
     "text": [
      "15\n"
     ]
    }
   ],
   "source": [
    "theSum = 0\n",
    "x = -1 # (arbitary intiated )\n",
    "while (x != 0):  # condition is that x iss not equal to 0, then run loop, do work\n",
    "    x = int(input(\"next number to add up (enter 0 if no more numbers): \"))\n",
    "    theSum = theSum + x\n",
    "\n",
    "print(theSum)"
   ]
  },
  {
   "cell_type": "code",
   "execution_count": null,
   "id": "7b301421",
   "metadata": {},
   "outputs": [
    {
     "name": "stdout",
     "output_type": "stream",
     "text": [
      "Subtotal: $ 50.0\n",
      "Total items: 1\n",
      "Total $ 50.0\n",
      "Average price per item: $ 50.0\n"
     ]
    }
   ],
   "source": [
    "# Let’s implement the last of these in Python, by asking the user for prices and keeping a running total and count of items. When the last item is entered, the program gives the grand total, number of items, and average price.\n",
    "def checkout():\n",
    "    total = 0\n",
    "    count = 0\n",
    "    moreItems = True\n",
    "    while moreItems:\n",
    "        price = float(input('Enter price of item (0 when done): '))\n",
    "        if price != 0:\n",
    "            count = count + 1\n",
    "            total = total + price\n",
    "            print('Subtotal: $', total)\n",
    "        else:\n",
    "            moreItems = False\n",
    "    average = total / count\n",
    "    print('Total items:', count)\n",
    "    print('Total $', total)\n",
    "    print('Average price per item: $', average)\n",
    "\n",
    "checkout()"
   ]
  },
  {
   "cell_type": "markdown",
   "id": "dfe429c0",
   "metadata": {},
   "source": [
    "### Validating Input"
   ]
  },
  {
   "cell_type": "code",
   "execution_count": null,
   "id": "f68c085e",
   "metadata": {},
   "outputs": [
    {
     "name": "stdout",
     "output_type": "stream",
     "text": [
      "Great! They are very healthy.\n"
     ]
    }
   ],
   "source": [
    "def get_yes_or_no(message):\n",
    "    valid_input = False\n",
    "    while not valid_input:\n",
    "        answer = input(message)\n",
    "        answer = answer.upper() # convert to upper case\n",
    "        if answer == 'Y' or answer == 'N':\n",
    "            valid_input = True\n",
    "    return answer\n",
    "\n",
    "response = get_yes_or_no('Do you like lima beans? Y)es or N)o: ')\n",
    "if response == 'Y':\n",
    "    print('Great! They are very healthy.')\n",
    "else:\n",
    "    print('Too bad. If cooked right, they are quite tasty.')"
   ]
  },
  {
   "cell_type": "markdown",
   "id": "27f10ae4",
   "metadata": {},
   "source": [
    "### Break and Continue"
   ]
  },
  {
   "cell_type": "code",
   "execution_count": null,
   "id": "b410a20f",
   "metadata": {},
   "outputs": [
    {
     "name": "stdout",
     "output_type": "stream",
     "text": [
      "this phrase will always print\n",
      "We are done with the while loop.\n"
     ]
    }
   ],
   "source": [
    "while True:\n",
    "    print(\"this phrase will always print\")\n",
    "\n",
    "    break\n",
    "    print(\"Does this phrase print?\")\n",
    "\n",
    "print(\"We are done with the while loop.\")"
   ]
  },
  {
   "cell_type": "markdown",
   "id": "fd2eeb47",
   "metadata": {},
   "source": [
    "### While and Continue"
   ]
  },
  {
   "cell_type": "code",
   "execution_count": null,
   "id": "f635f540",
   "metadata": {},
   "outputs": [
    {
     "name": "stdout",
     "output_type": "stream",
     "text": [
      "we are incrementing x\n",
      "we are incrementing x\n",
      "we are incrementing x\n",
      "Done with our loop! X has the value: 15\n"
     ]
    }
   ],
   "source": [
    "x = 0\n",
    "while x < 10:\n",
    "    print(\"we are incrementing x\")\n",
    "    if x % 2 == 0:\n",
    "        x += 3\n",
    "        continue\n",
    "    if x % 3 == 0:\n",
    "        x += 5\n",
    "    x += 1\n",
    "print(\"Done with our loop! X has the value: \" + str(x))"
   ]
  },
  {
   "cell_type": "markdown",
   "id": "bfab47ae",
   "metadata": {},
   "source": [
    "### Infinite Loops : while True"
   ]
  },
  {
   "cell_type": "code",
   "execution_count": null,
   "id": "21409022",
   "metadata": {},
   "outputs": [
    {
     "name": "stdout",
     "output_type": "stream",
     "text": [
      "LOOP\n",
      "LOOP\n",
      "LOOP\n",
      "LOOP\n",
      "LOOP\n"
     ]
    }
   ],
   "source": [
    "x = 0\n",
    "while x < 5:\n",
    "    x += 1\n",
    "    print(\"LOOP\")"
   ]
  },
  {
   "cell_type": "markdown",
   "id": "bd8d14f6",
   "metadata": {},
   "source": [
    "# Rewrite the following for loop to a while loop"
   ]
  },
  {
   "cell_type": "code",
   "execution_count": 30,
   "id": "136868a2",
   "metadata": {},
   "outputs": [
    {
     "name": "stdout",
     "output_type": "stream",
     "text": [
      "45\n"
     ]
    }
   ],
   "source": [
    "total_sum = 0\n",
    "for i in range(10):\n",
    "    total_sum += i\n",
    "print(total_sum)"
   ]
  },
  {
   "cell_type": "code",
   "execution_count": 31,
   "id": "7bc4a58b",
   "metadata": {},
   "outputs": [
    {
     "name": "stdout",
     "output_type": "stream",
     "text": [
      "45\n"
     ]
    }
   ],
   "source": [
    "total_sum = 0\n",
    "while total_sum < 45:\n",
    "    total_sum += 1\n",
    "print(total_sum)"
   ]
  },
  {
   "cell_type": "markdown",
   "id": "d3a834d2",
   "metadata": {},
   "source": [
    "# Q:Suppose we want to calculate the sum of user inputs, using a listener loop. Using while, in iteration, you can input an integer number and add it to your accumulator. However, each integer number has to be in the interval 1~100, (1 and 100 are included). As soon as the user enters a number not in that range, the loop ends and the sum should be printed."
   ]
  },
  {
   "cell_type": "code",
   "execution_count": 35,
   "id": "8410fb15",
   "metadata": {},
   "outputs": [
    {
     "name": "stdout",
     "output_type": "stream",
     "text": [
      "215\n"
     ]
    }
   ],
   "source": [
    "theSum = 0\n",
    "x = 0 # (arbitary intiated )\n",
    "while x in range (100):  \n",
    "     x = int(input(\"next number to add up (enter 0 if not in the range numbers): \"))\n",
    "     if x >= 1:\n",
    "        theSum = theSum + x      \n",
    "     if x <= 100:                 \n",
    "        theSum = theSum + x\n",
    "  \n",
    "print(theSum)"
   ]
  },
  {
   "cell_type": "code",
   "execution_count": 36,
   "id": "db0e4d94",
   "metadata": {},
   "outputs": [
    {
     "name": "stdout",
     "output_type": "stream",
     "text": [
      "0\n",
      "1\n",
      "2\n",
      "3\n",
      "4\n",
      "5\n",
      "6\n",
      "7\n",
      "21\n"
     ]
    }
   ],
   "source": [
    "# Without running them, predict the output of each of the code snippets below. Then check your prediction\n",
    "total_sum = 0\n",
    "for i in range(10):\n",
    "    print(i)\n",
    "    if total_sum > 20:\n",
    "        break\n",
    "    total_sum += i\n",
    "print(total_sum)"
   ]
  },
  {
   "cell_type": "code",
   "execution_count": 37,
   "id": "8f282afd",
   "metadata": {},
   "outputs": [
    {
     "name": "stdout",
     "output_type": "stream",
     "text": [
      "0\n",
      "1\n",
      "2\n",
      "3\n",
      "4\n",
      "5\n",
      "6\n",
      "7\n",
      "8\n",
      "9\n",
      "21\n"
     ]
    }
   ],
   "source": [
    "\n",
    "# In your own words, describe what break and continue do, and what the difference is between them.total_sum = 0\n",
    "\n",
    "for i in range(10):\n",
    "    print(i)\n",
    "    if total_sum > 20:\n",
    "        continue\n",
    "    total_sum += i\n",
    "print(total_sum)"
   ]
  },
  {
   "cell_type": "code",
   "execution_count": 38,
   "id": "74587776",
   "metadata": {},
   "outputs": [
    {
     "name": "stdout",
     "output_type": "stream",
     "text": [
      "[1, 3, 4]\n"
     ]
    }
   ],
   "source": [
    "# Write a function, sublist, that takes in a list of numbers as the parameter. In the function, use a while loop to return a sublist of the input list. The sublist should contain the same values of the original list up until it reaches the number 5 (it should not contain the number 5).\n",
    "\n",
    "# If the list does not contain the number 5, the function should return the original list.\n",
    "def sublist(x):\n",
    "    sub = []\n",
    "    x = (num for num in x) \n",
    "    num = next(x, 5)  \n",
    "    while num != 5:\n",
    "        sub.append(num)\n",
    "        num = next(x, 5)  \n",
    "    return sub\n",
    "\n",
    "x = [1, 3, 4, 5, 6, 7, 3]\n",
    "print(sublist(x))"
   ]
  },
  {
   "cell_type": "code",
   "execution_count": 39,
   "id": "98f9d3d6",
   "metadata": {},
   "outputs": [
    {
     "name": "stdout",
     "output_type": "stream",
     "text": [
      "[1, 3, 4, 5, 6]\n"
     ]
    }
   ],
   "source": [
    "# Write a function called check_nums that takes a list as its parameter, and contains a while loop that only stops once the element of the list is the number 7. What is returned is a list of all of the numbers up until it reaches 7.\n",
    "\n",
    "# If 7 is not in the list, the while loop should terminate and return the original list.\n",
    "\n",
    "def check_nums(x):\n",
    "    sub = []\n",
    "    x = (num for num in x) \n",
    "    num = next(x, 7)  \n",
    "    while num != 7:\n",
    "        sub.append(num)\n",
    "        num = next(x, 7)  \n",
    "    return sub\n",
    "\n",
    "x = [1, 3, 4, 5, 6, 7, 3]\n",
    "print(check_nums(x))"
   ]
  },
  {
   "cell_type": "code",
   "execution_count": 40,
   "id": "191316cb",
   "metadata": {},
   "outputs": [
    {
     "name": "stdout",
     "output_type": "stream",
     "text": [
      "['mujju', 'salman', 'yo']\n"
     ]
    }
   ],
   "source": [
    "#Write a function, sublist, that takes in a list of strings as the parameter. In the function, use a while loop to return a sublist of the input list. The sublist should contain the same values of the original list up until it reaches the string “STOP” (it should not contain the string “STOP”).\n",
    "def sublist(list):\n",
    "   i = 0\n",
    "   while i < len(list):\n",
    "\n",
    "       if (list[i] == 'STOP'):\n",
    "           return list[0:i]\n",
    "       i+=1\n",
    "   return list[0:i]\n",
    "print(sublist(['mujju','salman','yo','STOP']))"
   ]
  },
  {
   "cell_type": "code",
   "execution_count": 41,
   "id": "36f36aa4",
   "metadata": {},
   "outputs": [
    {
     "name": "stdout",
     "output_type": "stream",
     "text": [
      "['a', 'b', 'c']\n"
     ]
    }
   ],
   "source": [
    "#Write a function called stop_at_z that iterates through a list of strings. Using a while loop, append each string to a new list until the string that appears is “z”. The function should return the new list.\n",
    "def stop_at_z(list):\n",
    "   i = 0\n",
    "   while i < len(list):\n",
    "\n",
    "       if (list[i] == 'z'):\n",
    "           return list[0:i]\n",
    "       i+=1\n",
    "   return list[0:i]\n",
    "print(stop_at_z(['a','b','c','z']))"
   ]
  },
  {
   "cell_type": "code",
   "execution_count": 42,
   "id": "04815711",
   "metadata": {},
   "outputs": [
    {
     "name": "stdout",
     "output_type": "stream",
     "text": [
      "['a', 'b', 'c']\n"
     ]
    }
   ],
   "source": [
    "#Write a function called stop_at_z that iterates through a list of strings. Using a while loop, append each string to a new list until the string that appears is “z”. The function should return the new list.\n",
    "def stop_at_z(list):\n",
    "   i = 0\n",
    "   while i < len(list):\n",
    "\n",
    "       if (list[i] == 'z'):\n",
    "           return list[0:i]\n",
    "       i+=1\n",
    "   return list[0:i]\n",
    "print(stop_at_z(['a','b','c','z']))"
   ]
  },
  {
   "cell_type": "code",
   "execution_count": 43,
   "id": "62a30804",
   "metadata": {},
   "outputs": [
    {
     "name": "stdout",
     "output_type": "stream",
     "text": [
      "197\n"
     ]
    }
   ],
   "source": [
    "#Challenge: Write a function called beginning that takes a list as input and contains a while loop that only stops once the element of the list is the string ‘bye’. What is returned is a list that contains up to the first 10 strings, regardless of where the loop stops. (i.e., if it stops on the 32nd element, the first 10 are returned. If “bye” is the 5th element, the first 4 are returned.) If you want to make this even more of a challenge, do this without slicing\n",
    "lst = [65, 78, 21, 33]\n",
    "sum2 = 0\n",
    "i =0\n",
    "while i < len(lst):\n",
    "\n",
    "    sum2 += lst[i]\n",
    "    i = i + 1\n",
    "    \n",
    "print(sum2)"
   ]
  },
  {
   "cell_type": "code",
   "execution_count": 46,
   "id": "f10bbcf0",
   "metadata": {},
   "outputs": [
    {
     "name": "stdout",
     "output_type": "stream",
     "text": [
      "197\n",
      "197\n"
     ]
    }
   ],
   "source": [
    "#Below is a for loop that works. Underneath the for loop, rewrite the problem so that it does the same thing, but using a while loop instead of a for loop. Assign the accumulated total in the while loop code to the variable sum2. Once complete, sum2 should equal sum1.\n",
    "\n",
    "sum1 = 0\n",
    "sum2 = 0\n",
    "i = 0\n",
    "lst = [65, 78, 21, 33]\n",
    "\n",
    "for x in lst:\n",
    "    sum1 = sum1 + x\n",
    "print(sum1)\n",
    "while i < len(lst):\n",
    "\n",
    "    sum2 += lst[i]\n",
    "    i = i + 1\n",
    "    \n",
    "print(sum2)\n",
    "\n"
   ]
  },
  {
   "cell_type": "code",
   "execution_count": null,
   "id": "949ced0b",
   "metadata": {},
   "outputs": [],
   "source": [
    "# Write a function called beginning that takes a list as input and contains a while loop that only stops once the element of the list is the string ‘bye’. \n",
    "# What is returned is a list that contains up to the first 10 strings, regardless of where the loop stops. (i.e., if it stops on the 32nd element, the first 10 are returned. \n",
    "# If “bye” is the 5th element, the first 4 are returned.) If you want to make this even more of a challenge, do this without slicing.\n",
    "#  If 'bye' is not in the list, the while loop should terminate and return the first ten strings from the list.\n",
    "\n",
    "def beginning(input_list):\n",
    "    result_list = []\n",
    "    index = 0\n",
    "    while index < len(input_list):\n",
    "        current_element = input_list[index]\n",
    "        if current_element == 'bye':\n",
    "            break  # Stop the loop if 'bye' is found\n",
    "        \n",
    "        if len(result_list) < 10:  # Add to result_list only if less than 10 elements\n",
    "            result_list.append(current_element)\n",
    "        \n",
    "        index += 1\n",
    "    return result_list\n"
   ]
  }
 ],
 "metadata": {
  "kernelspec": {
   "display_name": "base",
   "language": "python",
   "name": "python3"
  },
  "language_info": {
   "codemirror_mode": {
    "name": "ipython",
    "version": 3
   },
   "file_extension": ".py",
   "mimetype": "text/x-python",
   "name": "python",
   "nbconvert_exporter": "python",
   "pygments_lexer": "ipython3",
   "version": "3.12.7"
  }
 },
 "nbformat": 4,
 "nbformat_minor": 5
}
