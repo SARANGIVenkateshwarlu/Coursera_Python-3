{
 "cells": [
  {
   "cell_type": "markdown",
   "id": "39d5caa8",
   "metadata": {},
   "source": [
    "### OPP in Python (Object Oriented Programming)"
   ]
  },
  {
   "cell_type": "code",
   "execution_count": 7,
   "id": "1eeb00b1",
   "metadata": {},
   "outputs": [
    {
     "name": "stdout",
     "output_type": "stream",
     "text": [
      "i7, 16gb, 1TB\n",
      "i7, 16gb, 1TB\n",
      "i7, 16gb, 1TB\n",
      "i7, 16gb, 1TB\n",
      "<class 'type'>\n"
     ]
    }
   ],
   "source": [
    "# Excersize-1:\n",
    "\n",
    "class Computer:\n",
    "\n",
    "    def config(self):\n",
    "        print(\"i7, 16gb, 1TB\")\n",
    "\n",
    "com1 = Computer()\n",
    "com2 = Computer()\n",
    "\n",
    "Computer.config(com1)\n",
    "Computer.config(com2)\n",
    "\n",
    "# or try this way\n",
    "\n",
    "com1.config()\n",
    "com2.config()\n",
    "\n",
    "print(type(Computer))\n",
    "\n"
   ]
  }
 ],
 "metadata": {
  "kernelspec": {
   "display_name": "base",
   "language": "python",
   "name": "python3"
  },
  "language_info": {
   "codemirror_mode": {
    "name": "ipython",
    "version": 3
   },
   "file_extension": ".py",
   "mimetype": "text/x-python",
   "name": "python",
   "nbconvert_exporter": "python",
   "pygments_lexer": "ipython3",
   "version": "3.12.7"
  }
 },
 "nbformat": 4,
 "nbformat_minor": 5
}
