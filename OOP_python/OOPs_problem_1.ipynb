{
 "cells": [
  {
   "cell_type": "markdown",
   "id": "39d5caa8",
   "metadata": {},
   "source": [
    "### OPP in Python (Object Oriented Programming)"
   ]
  },
  {
   "cell_type": "code",
   "execution_count": null,
   "id": "1eeb00b1",
   "metadata": {},
   "outputs": [
    {
     "name": "stdout",
     "output_type": "stream",
     "text": [
      "i7, 16gb, 1TB\n",
      "i7, 16gb, 1TB\n",
      "i7, 16gb, 1TB\n",
      "i7, 16gb, 1TB\n",
      "<class 'type'>\n"
     ]
    }
   ],
   "source": [
    "# Excersize-1: Class ...:\n",
    "\n",
    "class Computer:\n",
    "\n",
    "    def config(self):\n",
    "        print(\"i7, 16gb, 1TB\")\n",
    "\n",
    "com1 = Computer()\n",
    "com2 = Computer()\n",
    "\n",
    "Computer.config(com1)\n",
    "Computer.config(com2)\n",
    "\n",
    "# or try this way\n",
    "\n",
    "com1.config() # best way use it \n",
    "com2.config()\n",
    "\n",
    "print(type(Computer))\n",
    "\n"
   ]
  },
  {
   "cell_type": "code",
   "execution_count": 17,
   "id": "32a204a6",
   "metadata": {},
   "outputs": [
    {
     "name": "stdout",
     "output_type": "stream",
     "text": [
      "Config is i7 16\n",
      "Config is Ryzen 3 8\n"
     ]
    }
   ],
   "source": [
    "# Excersize-2: Def _ init_ (self):\n",
    "\n",
    "class Computer:\n",
    "\n",
    "    def __init__(self,cpu,ram):\n",
    "        self.cpu = cpu\n",
    "        self.ram = ram\n",
    "\n",
    "    def config(self):\n",
    "        print(\"Config is\", self.cpu, self.ram)\n",
    "\n",
    "com1 = Computer('i7', 16)\n",
    "com2 = Computer('Ryzen 3', 8)\n",
    "\n",
    "com1.config()\n",
    "com2.config()\n"
   ]
  }
 ],
 "metadata": {
  "kernelspec": {
   "display_name": "base",
   "language": "python",
   "name": "python3"
  },
  "language_info": {
   "codemirror_mode": {
    "name": "ipython",
    "version": 3
   },
   "file_extension": ".py",
   "mimetype": "text/x-python",
   "name": "python",
   "nbconvert_exporter": "python",
   "pygments_lexer": "ipython3",
   "version": "3.12.7"
  }
 },
 "nbformat": 4,
 "nbformat_minor": 5
}
