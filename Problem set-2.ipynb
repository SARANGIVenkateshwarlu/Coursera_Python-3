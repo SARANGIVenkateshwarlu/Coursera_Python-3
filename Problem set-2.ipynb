{
 "cells": [
  {
   "cell_type": "markdown",
   "id": "01e6d5d5-6b01-4a81-8d92-d7d88e7ce974",
   "metadata": {},
   "source": [
    "Write one for loop to print out each element of the list several_things. \n",
    "Then, write another for loop to print out the TYPE of each element of the list several_things. \n",
    "To complete this problem you should have written two different for loops, each of which iterates over the list several_things, but each of those 2 for loops should have a different result."
   ]
  },
  {
   "cell_type": "code",
   "execution_count": 1,
   "id": "3d95f006-83c3-43bf-8ed2-9c4ceb548966",
   "metadata": {
    "tags": []
   },
   "outputs": [
    {
     "name": "stdout",
     "output_type": "stream",
     "text": [
      "hello\n",
      "2\n",
      "4\n",
      "6.0\n",
      "7.5\n",
      "234352354\n",
      "the end\n",
      "\n",
      "99\n",
      "<class 'str'>\n",
      "<class 'int'>\n",
      "<class 'int'>\n",
      "<class 'float'>\n",
      "<class 'float'>\n",
      "<class 'int'>\n",
      "<class 'str'>\n",
      "<class 'str'>\n",
      "<class 'int'>\n"
     ]
    }
   ],
   "source": [
    "several_things = [\"hello\", 2, 4, 6.0, 7.5, 234352354, \"the end\", \"\", 99]\n",
    "for char1 in several_things:\n",
    "    print(char1)\n",
    "    \n",
    "for char2 in several_things:\n",
    "    print(type(char2))"
   ]
  },
  {
   "cell_type": "code",
   "execution_count": null,
   "id": "92cd66c6-a7b5-4b58-9877-91d49e453d85",
   "metadata": {},
   "outputs": [],
   "source": []
  }
 ],
 "metadata": {
  "kernelspec": {
   "display_name": "Python 3 (ipykernel)",
   "language": "python",
   "name": "python3"
  },
  "language_info": {
   "codemirror_mode": {
    "name": "ipython",
    "version": 3
   },
   "file_extension": ".py",
   "mimetype": "text/x-python",
   "name": "python",
   "nbconvert_exporter": "python",
   "pygments_lexer": "ipython3",
   "version": "3.11.5"
  }
 },
 "nbformat": 4,
 "nbformat_minor": 5
}
