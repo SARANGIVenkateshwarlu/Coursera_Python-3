{
 "cells": [
  {
   "cell_type": "markdown",
   "id": "7ce4f2a0-1d7f-4aad-9d45-ef8144969ba8",
   "metadata": {},
   "source": [
    "Write code that uses iteration to print out the length of each element of the list stored in str_list"
   ]
  },
  {
   "cell_type": "code",
   "execution_count": 15,
   "id": "1a69a4ae-cc0b-44a5-9715-d8ae72d05774",
   "metadata": {
    "tags": []
   },
   "outputs": [],
   "source": [
    "str_list = [\"hello\", \"\", \"goodbye\", \"wonderful\", \"I love Python\"]"
   ]
  },
  {
   "cell_type": "code",
   "execution_count": 14,
   "id": "9aa2d521-fa6a-4954-bc20-085b8ecd24f1",
   "metadata": {
    "tags": []
   },
   "outputs": [
    {
     "name": "stdout",
     "output_type": "stream",
     "text": [
      "5\n",
      "0\n",
      "7\n",
      "9\n",
      "13\n"
     ]
    }
   ],
   "source": [
    "for i in range(len(str_list)):\n",
    "    print(len(str_list[i]))\n",
    "    \n",
    "    \n",
    "  "
   ]
  },
  {
   "cell_type": "code",
   "execution_count": null,
   "id": "5871cc98-da12-4b15-8f10-c5993a1d41d2",
   "metadata": {},
   "outputs": [],
   "source": []
  },
  {
   "cell_type": "code",
   "execution_count": null,
   "id": "d7bcfd9c-b26e-4e5f-a86d-ed2653e96f2e",
   "metadata": {},
   "outputs": [],
   "source": []
  }
 ],
 "metadata": {
  "kernelspec": {
   "display_name": "Python 3 (ipykernel)",
   "language": "python",
   "name": "python3"
  },
  "language_info": {
   "codemirror_mode": {
    "name": "ipython",
    "version": 3
   },
   "file_extension": ".py",
   "mimetype": "text/x-python",
   "name": "python",
   "nbconvert_exporter": "python",
   "pygments_lexer": "ipython3",
   "version": "3.11.5"
  }
 },
 "nbformat": 4,
 "nbformat_minor": 5
}
