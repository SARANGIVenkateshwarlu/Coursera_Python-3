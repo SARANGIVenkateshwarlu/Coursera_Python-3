{
 "cells": [
  {
   "cell_type": "markdown",
   "id": "6888f645-bbbe-4fd9-a525-f071d2bb50ae",
   "metadata": {},
   "source": [
    "Write code to count the number of characters in original_str using the accumulation pattern and assign the answer to a variable num_chars. Do NOT use the len function to solve the problem (if you use it while you are working on this problem, comment it out afterward!)"
   ]
  },
  {
   "cell_type": "code",
   "execution_count": 1,
   "id": "0da01b02-01d2-4a99-ae20-e3d164736398",
   "metadata": {
    "tags": []
   },
   "outputs": [
    {
     "name": "stdout",
     "output_type": "stream",
     "text": [
      "57\n"
     ]
    }
   ],
   "source": [
    "original_str = \"The quick brown rhino jumped over the extremely lazy fox.\"\n",
    "\n",
    "counter = 0 \n",
    "\n",
    "for i in original_str: \n",
    "    counter += 1    \n",
    "    num_chars = counter  \n",
    "print(num_chars)"
   ]
  },
  {
   "cell_type": "code",
   "execution_count": null,
   "id": "012a265a-aa3c-4d9a-8090-638176a9f2ec",
   "metadata": {},
   "outputs": [],
   "source": []
  },
  {
   "cell_type": "code",
   "execution_count": null,
   "id": "7c47386b-3974-4b76-9668-efdde39feda0",
   "metadata": {},
   "outputs": [],
   "source": []
  },
  {
   "cell_type": "code",
   "execution_count": null,
   "id": "14c74451-57b0-4d4f-bc4b-5265b7c7a0eb",
   "metadata": {},
   "outputs": [],
   "source": []
  },
  {
   "cell_type": "code",
   "execution_count": null,
   "id": "315bb813-c3b9-49a7-b5fe-d9da3ac18956",
   "metadata": {},
   "outputs": [],
   "source": []
  },
  {
   "cell_type": "code",
   "execution_count": null,
   "id": "77ab8fc7-a7fd-40d6-b32b-e464d2904e32",
   "metadata": {},
   "outputs": [],
   "source": []
  }
 ],
 "metadata": {
  "kernelspec": {
   "display_name": "base",
   "language": "python",
   "name": "python3"
  },
  "language_info": {
   "codemirror_mode": {
    "name": "ipython",
    "version": 3
   },
   "file_extension": ".py",
   "mimetype": "text/x-python",
   "name": "python",
   "nbconvert_exporter": "python",
   "pygments_lexer": "ipython3",
   "version": "3.11.5"
  }
 },
 "nbformat": 4,
 "nbformat_minor": 5
}
