{
 "cells": [
  {
   "cell_type": "markdown",
   "id": "8f466a49",
   "metadata": {},
   "source": [
    "rainfall_mi is a string that contains the average number of inches of rainfall in Michigan for every month (in inches) with every month separated by a comma. Write code to compute the number of months that have more than 3 inches of rainfall. Store the result in the variable num_rainy_months. In other words, count the number of items with values > 3.0.\n",
    "\n",
    "Hard-coded answers will receive no credit."
   ]
  },
  {
   "cell_type": "code",
   "execution_count": 8,
   "id": "08185aaa",
   "metadata": {},
   "outputs": [
    {
     "name": "stdout",
     "output_type": "stream",
     "text": [
      "Number of items with values > 3.0 = 5\n"
     ]
    }
   ],
   "source": [
    "rainfall_mi = \"1.65, 1.46, 2.05, 3.03, 3.35, 3.46, 2.83, 3.23, 3.5, 2.52, 2.8, 1.85\"\n",
    "\n",
    "months = rainfall_mi.split(\",\")\n",
    "count = 0\n",
    "for i in months:\n",
    "    if float(i) > 3.0:\n",
    "        count += 1\n",
    "    \n",
    "num_rainy_months = count\n",
    "\n",
    "print(f'Number of items with values > 3.0 =', num_rainy_months)"
   ]
  },
  {
   "cell_type": "markdown",
   "id": "fe836bbe",
   "metadata": {},
   "source": [
    "The variable sentence stores a string. Write code to determine how many words in sentence start and end with the same letter, including one-letter words. Store the result in the variable same_letter_count.\n",
    "\n",
    "Hard-coded answers will receive no credit."
   ]
  },
  {
   "cell_type": "code",
   "execution_count": 10,
   "id": "06346af0",
   "metadata": {},
   "outputs": [
    {
     "name": "stdout",
     "output_type": "stream",
     "text": [
      "2\n"
     ]
    }
   ],
   "source": [
    "sentence = \"students flock to the arb for a variety of outdoor activities such as jogging and picnicking\"\n",
    "\n",
    "# Write your code here.\n",
    "sen = sentence.split()\n",
    "count = 0\n",
    "\n",
    "for i in sen:\n",
    "    if i[0] == i[len(i)-1]:\n",
    "        count += 1\n",
    "same_letter_count = count\n",
    "\n",
    "print(same_letter_count)"
   ]
  },
  {
   "cell_type": "markdown",
   "id": "507ad162",
   "metadata": {},
   "source": [
    "Write code to count the number of strings in list items that have the character w in it. Assign that number to the variable acc_num.\n",
    "\n",
    "HINT 1: Use the accumulation pattern!\n",
    "\n",
    "HINT 2: the in operator checks whether a substring is present in a string.\n",
    "\n",
    "Hard-coded answers will receive no credit."
   ]
  },
  {
   "cell_type": "code",
   "execution_count": null,
   "id": "f59976f5",
   "metadata": {},
   "outputs": [],
   "source": []
  },
  {
   "cell_type": "code",
   "execution_count": 11,
   "id": "7cc51935",
   "metadata": {},
   "outputs": [
    {
     "name": "stdout",
     "output_type": "stream",
     "text": [
      "4\n"
     ]
    }
   ],
   "source": [
    "items = [\"whirring\", \"wow!\", \"calendar\", \"wry\", \"glass\", \"\", \"llama\",\"tumultuous\",\"owing\"]\n",
    "\n",
    "\n",
    "count = 0\n",
    "for i in items:\n",
    "    if 'w' in i:\n",
    "        count += 1\n",
    "acc_num = count\n",
    "\n",
    "print(acc_num)"
   ]
  },
  {
   "cell_type": "markdown",
   "id": "5c5db9fc",
   "metadata": {},
   "source": [
    "# q4. Write code that counts the number of words in sentence that contain either an “a” or an “e”. Store the result in the variable num_a_or_e.\n",
    "\n",
    "# Note 1: be sure to not double-count words that contain both an a and an e.\n",
    "\n",
    "# HINT 1: Use the in operator.\n",
    "\n",
    "# HINT 2: You can either use or or elif."
   ]
  },
  {
   "cell_type": "code",
   "execution_count": 12,
   "id": "b96d46ee",
   "metadata": {},
   "outputs": [
    {
     "name": "stdout",
     "output_type": "stream",
     "text": [
      "mujju\n",
      "mujju\n",
      "mujju\n",
      "mujju\n",
      "mujju\n",
      "mujju\n",
      "mujju\n",
      "mujju\n",
      "8\n"
     ]
    }
   ],
   "source": [
    "words = sentence.split()\n",
    "num_a_or_e = 0\n",
    "for word in words:\n",
    "    if \"a\" in word[0:]:\n",
    "        print(\"mujju\")\n",
    "        num_a_or_e += 1\n",
    "    elif \"e\" in word[0:]:\n",
    "        print(\"mujju\")\n",
    "        num_a_or_e += 1\n",
    "print(num_a_or_e)"
   ]
  },
  {
   "cell_type": "markdown",
   "id": "774f84aa",
   "metadata": {},
   "source": [
    "# q5. Write code that will count the number of vowels in the sentence s and assign the result to the variable num_vowels. For this problem, vowels are only a, e, i, o, and u. Hint: use the in operator with vowels.\n",
    "\n"
   ]
  },
  {
   "cell_type": "code",
   "execution_count": 13,
   "id": "09977902",
   "metadata": {},
   "outputs": [
    {
     "name": "stdout",
     "output_type": "stream",
     "text": [
      "i\n",
      "i\n",
      "i\n",
      "e\n",
      "a\n",
      "i\n",
      "a\n",
      "a\n",
      "i\n",
      "i\n",
      "e\n",
      "a\n",
      "i\n",
      "a\n",
      "e\n",
      "o\n",
      "e\n",
      "i\n",
      "e\n",
      "i\n",
      "e\n",
      "e\n",
      "i\n",
      "u\n",
      "a\n",
      "i\n",
      "o\n",
      "u\n",
      "o\n",
      "a\n",
      "e\n",
      "u\n",
      "32\n"
     ]
    }
   ],
   "source": [
    "s = \"singing in the rain and playing in the rain are two entirely different situations but both can be fun\"\n",
    "vowels = ['a','e','i','o','u']\n",
    "num_vowels = 0\n",
    "for char in s:\n",
    "    \n",
    "    if char in vowels:\n",
    "        print(char)\n",
    "        num_vowels += 1\n",
    "    \n",
    "print(num_vowels)"
   ]
  },
  {
   "cell_type": "markdown",
   "id": "9ccc14e3",
   "metadata": {},
   "source": [
    "# q6 For each word in the list verbs, add an -ing ending. Save this new list in a new list, ing"
   ]
  },
  {
   "cell_type": "code",
   "execution_count": 14,
   "id": "29841312",
   "metadata": {},
   "outputs": [
    {
     "name": "stdout",
     "output_type": "stream",
     "text": [
      "['kayaking', 'crying', 'walking', 'eating', 'drinking', 'flying']\n"
     ]
    }
   ],
   "source": [
    "verbs = [\"kayak\", \"cry\", \"walk\", \"eat\", \"drink\", \"fly\"]\n",
    "\n",
    "ing = [ ]\n",
    "\n",
    "for v in range (len(verbs)):\n",
    "     ing.append(verbs[v]+\"ing\")\n",
    "print(ing)"
   ]
  },
  {
   "cell_type": "markdown",
   "id": "be6b0417",
   "metadata": {},
   "source": [
    "# q7. Given the list of numbers, numbs, create a new list of those same numbers increased by 5. Save this new list to the variable newlist."
   ]
  },
  {
   "cell_type": "code",
   "execution_count": 15,
   "id": "09e15d38",
   "metadata": {},
   "outputs": [
    {
     "name": "stdout",
     "output_type": "stream",
     "text": [
      "[10, 15, 20, 25, 30]\n"
     ]
    }
   ],
   "source": [
    "numbs = [5, 10, 15, 20, 25]\n",
    "newlist=[]\n",
    "\n",
    "for i in range(len(numbs)):\n",
    "    newlist.append(numbs[i]+5)\n",
    "print(newlist)"
   ]
  },
  {
   "cell_type": "markdown",
   "id": "96fa456b",
   "metadata": {},
   "source": [
    "# q8. For each number in lst_nums, multiply that number by 2 and append it to a new list called larger_nums."
   ]
  },
  {
   "cell_type": "code",
   "execution_count": 16,
   "id": "e7d2e356",
   "metadata": {},
   "outputs": [
    {
     "name": "stdout",
     "output_type": "stream",
     "text": [
      "[8, 58, 10.6, 20, 4, 3634, 3934, 18, 62.64]\n"
     ]
    }
   ],
   "source": [
    "lst_nums = [4, 29, 5.3, 10, 2, 1817, 1967, 9, 31.32]\n",
    "larger_nums = []\n",
    "for n in lst_nums:\n",
    "    x = n * 2\n",
    "    larger_nums.append(x)\n",
    "print(larger_nums)"
   ]
  },
  {
   "cell_type": "markdown",
   "id": "e52ff82e",
   "metadata": {},
   "source": [
    " Linear Regression - E-commerce clients"
   ]
  }
 ],
 "metadata": {
  "kernelspec": {
   "display_name": "base",
   "language": "python",
   "name": "python3"
  },
  "language_info": {
   "codemirror_mode": {
    "name": "ipython",
    "version": 3
   },
   "file_extension": ".py",
   "mimetype": "text/x-python",
   "name": "python",
   "nbconvert_exporter": "python",
   "pygments_lexer": "ipython3",
   "version": "3.11.5"
  }
 },
 "nbformat": 4,
 "nbformat_minor": 5
}
